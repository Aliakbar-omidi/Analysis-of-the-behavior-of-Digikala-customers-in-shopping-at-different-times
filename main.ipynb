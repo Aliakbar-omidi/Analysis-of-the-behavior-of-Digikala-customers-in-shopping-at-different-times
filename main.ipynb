{
 "cells": [
  {
   "cell_type": "markdown",
   "id": "aa45b509-6d2e-4bdb-adb6-155dc217eb7c",
   "metadata": {},
   "source": [
    "# Imports #"
   ]
  },
  {
   "cell_type": "markdown",
   "id": "ea28799c-f4dd-4d41-90be-385040c29a1d",
   "metadata": {},
   "source": [
    "کتابخانه های مورد نیاز در این پروژه همه در این قسمت اضافه و ایمپورت شده"
   ]
  },
  {
   "cell_type": "code",
   "execution_count": 183,
   "id": "0754c8f3-aec5-45fa-b786-6e0e6e56e972",
   "metadata": {},
   "outputs": [],
   "source": [
    "import matplotlib.pyplot as plt\n",
    "from persiantools.jdatetime import JalaliDateTime\n",
    "from collections import Counter\n",
    "import seaborn as sns\n",
    "import pandas as pd\n",
    "import numpy as np\n",
    "import re"
   ]
  },
  {
   "cell_type": "markdown",
   "id": "e2649d03-8485-4abe-ba64-d6416ae7ed76",
   "metadata": {
    "jp-MarkdownHeadingCollapsed": true
   },
   "source": [
    "# تحلیل و بررسی دیتای کامنت ها #"
   ]
  },
  {
   "cell_type": "markdown",
   "id": "c1b4d2ed-783a-4b7c-832c-e0eb9e9b335d",
   "metadata": {},
   "source": [
    " ## تبدیل فایل اکسل کامنت ها به سی اس وی برای بهتر نمایش دادن داده ها ##"
   ]
  },
  {
   "cell_type": "code",
   "execution_count": 6,
   "id": "d5ae9e42-89b9-4947-b3c8-10b146a9ed4c",
   "metadata": {},
   "outputs": [],
   "source": [
    "df = pd.read_excel(\"comment.xlsx\")\n",
    "df.to_csv(\"comment.csv\", index=False)"
   ]
  },
  {
   "cell_type": "markdown",
   "id": "b9adb5b2-a22a-43e5-b2cb-68653712de7b",
   "metadata": {},
   "source": [
    "## بارگذاری داده ها و نمایش مشخصات داده ##"
   ]
  },
  {
   "cell_type": "markdown",
   "id": "e06a9e21-d2a7-4b28-8c91-4454f547146e",
   "metadata": {},
   "source": [
    "دراین قسمت اطلاعات مربوط به داده مان را در هر بخش آن خواهیم داشت"
   ]
  },
  {
   "cell_type": "code",
   "execution_count": 98,
   "id": "198e6bcb-4617-47fe-ae8b-a00eaf579ae6",
   "metadata": {},
   "outputs": [
    {
     "name": "stdout",
     "output_type": "stream",
     "text": [
      "<class 'pandas.core.frame.DataFrame'>\n",
      "RangeIndex: 100008 entries, 0 to 100007\n",
      "Data columns (total 3 columns):\n",
      " #   Column        Non-Null Count   Dtype \n",
      "---  ------        --------------   ----- \n",
      " 0   product_id    100008 non-null  int64 \n",
      " 1   confirmed_at  100008 non-null  object\n",
      " 2   comment       99903 non-null   object\n",
      "dtypes: int64(1), object(2)\n",
      "memory usage: 2.3+ MB\n"
     ]
    }
   ],
   "source": [
    "comment_data = pd.read_csv(\"comment.csv\")\n",
    "comment_data.info()"
   ]
  },
  {
   "cell_type": "markdown",
   "id": "596f7873-286c-4d9a-85f6-9b6b193ec6af",
   "metadata": {},
   "source": [
    "## نمایش پنج ردیف اول داده ها ##"
   ]
  },
  {
   "cell_type": "code",
   "execution_count": 11,
   "id": "58a3f476-1196-4177-8eb5-d2118fee3084",
   "metadata": {},
   "outputs": [
    {
     "data": {
      "text/html": [
       "<div>\n",
       "<style scoped>\n",
       "    .dataframe tbody tr th:only-of-type {\n",
       "        vertical-align: middle;\n",
       "    }\n",
       "\n",
       "    .dataframe tbody tr th {\n",
       "        vertical-align: top;\n",
       "    }\n",
       "\n",
       "    .dataframe thead th {\n",
       "        text-align: right;\n",
       "    }\n",
       "</style>\n",
       "<table border=\"1\" class=\"dataframe\">\n",
       "  <thead>\n",
       "    <tr style=\"text-align: right;\">\n",
       "      <th></th>\n",
       "      <th>product_id</th>\n",
       "      <th>confirmed_at</th>\n",
       "      <th>comment</th>\n",
       "    </tr>\n",
       "  </thead>\n",
       "  <tbody>\n",
       "    <tr>\n",
       "      <th>0</th>\n",
       "      <td>90213</td>\n",
       "      <td>2018-08-23 11:05:47</td>\n",
       "      <td>سلام، قبل اینکه نظرم رو بگم میخواستم به یک موض...</td>\n",
       "    </tr>\n",
       "    <tr>\n",
       "      <th>1</th>\n",
       "      <td>56871</td>\n",
       "      <td>2018-08-23 10:21:53</td>\n",
       "      <td>بوی تند ولی خوشبو داره.ماندگاریش خوبه و هر چقد...</td>\n",
       "    </tr>\n",
       "    <tr>\n",
       "      <th>2</th>\n",
       "      <td>49738</td>\n",
       "      <td>2018-10-13 11:13:39</td>\n",
       "      <td>متاسفانه عمر مفید این ماشین کم هست و بعد از دو...</td>\n",
       "    </tr>\n",
       "    <tr>\n",
       "      <th>3</th>\n",
       "      <td>134367</td>\n",
       "      <td>2018-10-17 11:27:57</td>\n",
       "      <td>افا از وقتی من اینو واسه پسرم خریدم همه بچه ها...</td>\n",
       "    </tr>\n",
       "    <tr>\n",
       "      <th>4</th>\n",
       "      <td>151402</td>\n",
       "      <td>2018-08-23 10:28:47</td>\n",
       "      <td>این تیغ محصول کشور آمریکا هست ( در عکس محصول م...</td>\n",
       "    </tr>\n",
       "  </tbody>\n",
       "</table>\n",
       "</div>"
      ],
      "text/plain": [
       "   product_id         confirmed_at  \\\n",
       "0       90213  2018-08-23 11:05:47   \n",
       "1       56871  2018-08-23 10:21:53   \n",
       "2       49738  2018-10-13 11:13:39   \n",
       "3      134367  2018-10-17 11:27:57   \n",
       "4      151402  2018-08-23 10:28:47   \n",
       "\n",
       "                                             comment  \n",
       "0  سلام، قبل اینکه نظرم رو بگم میخواستم به یک موض...  \n",
       "1  بوی تند ولی خوشبو داره.ماندگاریش خوبه و هر چقد...  \n",
       "2  متاسفانه عمر مفید این ماشین کم هست و بعد از دو...  \n",
       "3  افا از وقتی من اینو واسه پسرم خریدم همه بچه ها...  \n",
       "4  این تیغ محصول کشور آمریکا هست ( در عکس محصول م...  "
      ]
     },
     "execution_count": 11,
     "metadata": {},
     "output_type": "execute_result"
    }
   ],
   "source": [
    "comment_data.head()"
   ]
  },
  {
   "cell_type": "markdown",
   "id": "44df056d-5bcf-4ffb-a544-4710ec23af9a",
   "metadata": {},
   "source": [
    "## نمایش پنج ردیف آخر داده ها ##"
   ]
  },
  {
   "cell_type": "markdown",
   "id": "4c8b4a08-6b03-449e-8f56-70e1741afef5",
   "metadata": {},
   "source": [
    "با این کار هم میتوانیم ۵ داده از آخر را ببینیم و حتی مطلع شویم که داده های ماچند سطر هستند"
   ]
  },
  {
   "cell_type": "code",
   "execution_count": 14,
   "id": "ffe63073-6de7-43e4-8ce2-97d0298b7cf3",
   "metadata": {},
   "outputs": [
    {
     "data": {
      "text/html": [
       "<div>\n",
       "<style scoped>\n",
       "    .dataframe tbody tr th:only-of-type {\n",
       "        vertical-align: middle;\n",
       "    }\n",
       "\n",
       "    .dataframe tbody tr th {\n",
       "        vertical-align: top;\n",
       "    }\n",
       "\n",
       "    .dataframe thead th {\n",
       "        text-align: right;\n",
       "    }\n",
       "</style>\n",
       "<table border=\"1\" class=\"dataframe\">\n",
       "  <thead>\n",
       "    <tr style=\"text-align: right;\">\n",
       "      <th></th>\n",
       "      <th>product_id</th>\n",
       "      <th>confirmed_at</th>\n",
       "      <th>comment</th>\n",
       "    </tr>\n",
       "  </thead>\n",
       "  <tbody>\n",
       "    <tr>\n",
       "      <th>100003</th>\n",
       "      <td>104998</td>\n",
       "      <td>2018-07-09 21:27:12</td>\n",
       "      <td>قیمت مناسبی داره در حال حاضر . با این پول سخت ...</td>\n",
       "    </tr>\n",
       "    <tr>\n",
       "      <th>100004</th>\n",
       "      <td>333389</td>\n",
       "      <td>2018-07-09 21:26:52</td>\n",
       "      <td>در کل راضیم درسته لنوو با قیمت پایین تر هسته و...</td>\n",
       "    </tr>\n",
       "    <tr>\n",
       "      <th>100005</th>\n",
       "      <td>356546</td>\n",
       "      <td>2018-07-09 21:26:30</td>\n",
       "      <td>من این محصول رو از بیرون تهیه کردم . و باید بگ...</td>\n",
       "    </tr>\n",
       "    <tr>\n",
       "      <th>100006</th>\n",
       "      <td>33874</td>\n",
       "      <td>2018-07-09 21:26:12</td>\n",
       "      <td>دوسال و.نیم پیش از دیجی کالا گرفتم. هنوز مثل ر...</td>\n",
       "    </tr>\n",
       "    <tr>\n",
       "      <th>100007</th>\n",
       "      <td>318278</td>\n",
       "      <td>2018-07-09 21:26:02</td>\n",
       "      <td>با استفاده از این شامپو مشکل خشکی مو و پوست سر...</td>\n",
       "    </tr>\n",
       "  </tbody>\n",
       "</table>\n",
       "</div>"
      ],
      "text/plain": [
       "        product_id         confirmed_at  \\\n",
       "100003      104998  2018-07-09 21:27:12   \n",
       "100004      333389  2018-07-09 21:26:52   \n",
       "100005      356546  2018-07-09 21:26:30   \n",
       "100006       33874  2018-07-09 21:26:12   \n",
       "100007      318278  2018-07-09 21:26:02   \n",
       "\n",
       "                                                  comment  \n",
       "100003  قیمت مناسبی داره در حال حاضر . با این پول سخت ...  \n",
       "100004  در کل راضیم درسته لنوو با قیمت پایین تر هسته و...  \n",
       "100005  من این محصول رو از بیرون تهیه کردم . و باید بگ...  \n",
       "100006  دوسال و.نیم پیش از دیجی کالا گرفتم. هنوز مثل ر...  \n",
       "100007  با استفاده از این شامپو مشکل خشکی مو و پوست سر...  "
      ]
     },
     "execution_count": 14,
     "metadata": {},
     "output_type": "execute_result"
    }
   ],
   "source": [
    "comment_data.tail()"
   ]
  },
  {
   "cell_type": "markdown",
   "id": "e38634a8-3335-44a2-9cbf-8c5f85496f27",
   "metadata": {},
   "source": [
    "## پیش پردازش داده ها ##"
   ]
  },
  {
   "cell_type": "markdown",
   "id": "3173ec80-089a-4be8-becf-89bff4e1b880",
   "metadata": {},
   "source": [
    "دراین قسمت اعلان ها و کاراکترهای غیر ضروری رو در کامنت ها رو حذف میکنیم"
   ]
  },
  {
   "cell_type": "code",
   "execution_count": 17,
   "id": "ef57f55b-3cb1-4f8f-a8cf-a78d73865c4e",
   "metadata": {},
   "outputs": [
    {
     "data": {
      "text/html": [
       "<div>\n",
       "<style scoped>\n",
       "    .dataframe tbody tr th:only-of-type {\n",
       "        vertical-align: middle;\n",
       "    }\n",
       "\n",
       "    .dataframe tbody tr th {\n",
       "        vertical-align: top;\n",
       "    }\n",
       "\n",
       "    .dataframe thead th {\n",
       "        text-align: right;\n",
       "    }\n",
       "</style>\n",
       "<table border=\"1\" class=\"dataframe\">\n",
       "  <thead>\n",
       "    <tr style=\"text-align: right;\">\n",
       "      <th></th>\n",
       "      <th>comment</th>\n",
       "    </tr>\n",
       "  </thead>\n",
       "  <tbody>\n",
       "    <tr>\n",
       "      <th>0</th>\n",
       "      <td>سلام قبل اینکه نظرم رو بگم میخواستم به یک موضو...</td>\n",
       "    </tr>\n",
       "    <tr>\n",
       "      <th>1</th>\n",
       "      <td>بوی تند ولی خوشبو دارهماندگاریش خوبه و هر چقدر...</td>\n",
       "    </tr>\n",
       "    <tr>\n",
       "      <th>2</th>\n",
       "      <td>متاسفانه عمر مفید این ماشین کم هست و بعد از دو...</td>\n",
       "    </tr>\n",
       "    <tr>\n",
       "      <th>3</th>\n",
       "      <td>افا از وقتی من اینو واسه پسرم خریدم همه بچه ها...</td>\n",
       "    </tr>\n",
       "    <tr>\n",
       "      <th>4</th>\n",
       "      <td>این تیغ محصول کشور آمریکا هست  در عکس محصول مش...</td>\n",
       "    </tr>\n",
       "  </tbody>\n",
       "</table>\n",
       "</div>"
      ],
      "text/plain": [
       "                                             comment\n",
       "0  سلام قبل اینکه نظرم رو بگم میخواستم به یک موضو...\n",
       "1  بوی تند ولی خوشبو دارهماندگاریش خوبه و هر چقدر...\n",
       "2  متاسفانه عمر مفید این ماشین کم هست و بعد از دو...\n",
       "3  افا از وقتی من اینو واسه پسرم خریدم همه بچه ها...\n",
       "4  این تیغ محصول کشور آمریکا هست  در عکس محصول مش..."
      ]
     },
     "execution_count": 17,
     "metadata": {},
     "output_type": "execute_result"
    }
   ],
   "source": [
    "def preprocess_text(text_value):\n",
    "    if pd.isna(text_value):\n",
    "        return ''\n",
    "    text = re.sub(r'[^آ-ی\\s]', '', text_value)\n",
    "    return text\n",
    "\n",
    "comment_data[\"comment\"] = comment_data[\"comment\"].apply(preprocess_text)\n",
    "\n",
    "\n",
    "comment_data[[\"comment\"]].head()"
   ]
  },
  {
   "cell_type": "markdown",
   "id": "2e7c1b68-0799-43ac-a0d5-917942483b1a",
   "metadata": {},
   "source": [
    "## persiantools نصب کتابخونه ##"
   ]
  },
  {
   "cell_type": "markdown",
   "id": "c5d76987-d1b3-473c-9768-f6976270bb2a",
   "metadata": {},
   "source": [
    "این کتابخونه برای تبدیل تاریخ و زمان میلادی به شمسی می باشد"
   ]
  },
  {
   "cell_type": "code",
   "execution_count": 20,
   "id": "c6898a9b-dfb7-4021-8bd6-59cb7b0c5ec6",
   "metadata": {},
   "outputs": [
    {
     "name": "stdout",
     "output_type": "stream",
     "text": [
      "Requirement already satisfied: persiantools in /opt/anaconda3/lib/python3.12/site-packages (4.2.0)\n",
      "Requirement already satisfied: pytz in /opt/anaconda3/lib/python3.12/site-packages (from persiantools) (2024.1)\n"
     ]
    }
   ],
   "source": [
    "!pip install persiantools"
   ]
  },
  {
   "cell_type": "markdown",
   "id": "a56cc385-2ec4-4544-91b4-471e14d47570",
   "metadata": {},
   "source": [
    "## تبدیل تاریخ ##"
   ]
  },
  {
   "cell_type": "markdown",
   "id": "3847a1d1-3563-4395-a676-b71c8cafcb46",
   "metadata": {},
   "source": [
    "دراین قسمت تاریخ میلادی رو به شمسی تبدیل کردیمو در یک ستون جدید قرار دادیم همچنین نام ستون تاریخ میلادی رو هم تغییر دادیم"
   ]
  },
  {
   "cell_type": "code",
   "execution_count": 100,
   "id": "11a4f207-0e64-4a15-876b-d8b251c15279",
   "metadata": {},
   "outputs": [
    {
     "data": {
      "text/html": [
       "<div>\n",
       "<style scoped>\n",
       "    .dataframe tbody tr th:only-of-type {\n",
       "        vertical-align: middle;\n",
       "    }\n",
       "\n",
       "    .dataframe tbody tr th {\n",
       "        vertical-align: top;\n",
       "    }\n",
       "\n",
       "    .dataframe thead th {\n",
       "        text-align: right;\n",
       "    }\n",
       "</style>\n",
       "<table border=\"1\" class=\"dataframe\">\n",
       "  <thead>\n",
       "    <tr style=\"text-align: right;\">\n",
       "      <th></th>\n",
       "      <th>product_id</th>\n",
       "      <th>miladi_date</th>\n",
       "      <th>comment</th>\n",
       "      <th>shamsi_date</th>\n",
       "    </tr>\n",
       "  </thead>\n",
       "  <tbody>\n",
       "    <tr>\n",
       "      <th>0</th>\n",
       "      <td>90213</td>\n",
       "      <td>2018-08-23 11:05:47</td>\n",
       "      <td>سلام، قبل اینکه نظرم رو بگم میخواستم به یک موض...</td>\n",
       "      <td>1397-06-01 11:05:47</td>\n",
       "    </tr>\n",
       "    <tr>\n",
       "      <th>1</th>\n",
       "      <td>56871</td>\n",
       "      <td>2018-08-23 10:21:53</td>\n",
       "      <td>بوی تند ولی خوشبو داره.ماندگاریش خوبه و هر چقد...</td>\n",
       "      <td>1397-06-01 10:21:53</td>\n",
       "    </tr>\n",
       "    <tr>\n",
       "      <th>2</th>\n",
       "      <td>49738</td>\n",
       "      <td>2018-10-13 11:13:39</td>\n",
       "      <td>متاسفانه عمر مفید این ماشین کم هست و بعد از دو...</td>\n",
       "      <td>1397-07-21 11:13:39</td>\n",
       "    </tr>\n",
       "    <tr>\n",
       "      <th>3</th>\n",
       "      <td>134367</td>\n",
       "      <td>2018-10-17 11:27:57</td>\n",
       "      <td>افا از وقتی من اینو واسه پسرم خریدم همه بچه ها...</td>\n",
       "      <td>1397-07-25 11:27:57</td>\n",
       "    </tr>\n",
       "    <tr>\n",
       "      <th>4</th>\n",
       "      <td>151402</td>\n",
       "      <td>2018-08-23 10:28:47</td>\n",
       "      <td>این تیغ محصول کشور آمریکا هست ( در عکس محصول م...</td>\n",
       "      <td>1397-06-01 10:28:47</td>\n",
       "    </tr>\n",
       "  </tbody>\n",
       "</table>\n",
       "</div>"
      ],
      "text/plain": [
       "   product_id         miladi_date  \\\n",
       "0       90213 2018-08-23 11:05:47   \n",
       "1       56871 2018-08-23 10:21:53   \n",
       "2       49738 2018-10-13 11:13:39   \n",
       "3      134367 2018-10-17 11:27:57   \n",
       "4      151402 2018-08-23 10:28:47   \n",
       "\n",
       "                                             comment          shamsi_date  \n",
       "0  سلام، قبل اینکه نظرم رو بگم میخواستم به یک موض...  1397-06-01 11:05:47  \n",
       "1  بوی تند ولی خوشبو داره.ماندگاریش خوبه و هر چقد...  1397-06-01 10:21:53  \n",
       "2  متاسفانه عمر مفید این ماشین کم هست و بعد از دو...  1397-07-21 11:13:39  \n",
       "3  افا از وقتی من اینو واسه پسرم خریدم همه بچه ها...  1397-07-25 11:27:57  \n",
       "4  این تیغ محصول کشور آمریکا هست ( در عکس محصول م...  1397-06-01 10:28:47  "
      ]
     },
     "execution_count": 100,
     "metadata": {},
     "output_type": "execute_result"
    }
   ],
   "source": [
    "from persiantools.jdatetime import JalaliDateTime\n",
    "comment_data['confirmed_at'] = pd.to_datetime(comment_data['confirmed_at'])\n",
    "\n",
    "comment_data[\"shamsi_date\"] = comment_data[\"confirmed_at\"].apply(lambda x: JalaliDateTime(x).strftime(\"%Y-%m-%d %H:%M:%S\"))\n",
    "comment_data.rename(columns={\"confirmed_at\": \"miladi_date\"}, inplace=True)\n",
    "comment_data.head()"
   ]
  },
  {
   "cell_type": "markdown",
   "id": "c0fa9d59-7345-4101-b80c-bd949b889dd8",
   "metadata": {},
   "source": [
    "## تعداد کامنت ها در ماه های موجود ##"
   ]
  },
  {
   "cell_type": "markdown",
   "id": "def6ac07-9209-4961-a6d9-f2f9f5cd8614",
   "metadata": {},
   "source": [
    "در ابتدا یک ستون از ماه ها به دیتای خودمون اضافه کردم و در فایل دیتاهای خود از ماه ۳ تا ۱۰ رو داشتیم که تعداد کامنت ها در هر ماه رو روی نمودار رسم کردم تا از تعداد آن ها در هر ماه با خبر شیم\n",
    "همچنین تعداد دقیق هر کامنت در هر ماه هم نوشته شده است"
   ]
  },
  {
   "cell_type": "code",
   "execution_count": 26,
   "id": "78340814-93e1-40e1-a67f-2cf5a33e6db9",
   "metadata": {},
   "outputs": [
    {
     "name": "stdout",
     "output_type": "stream",
     "text": [
      "تعداد کامنت ها در ماه 3 = 4370\n",
      "تعداد کامنت ها در ماه 4 = 33350\n",
      "تعداد کامنت ها در ماه 5 = 26579\n",
      "تعداد کامنت ها در ماه 6 = 26906\n",
      "تعداد کامنت ها در ماه 7 = 7380\n",
      "تعداد کامنت ها در ماه 8 = 319\n",
      "تعداد کامنت ها در ماه 9 = 856\n",
      "تعداد کامنت ها در ماه 10 = 248\n"
     ]
    },
    {
     "data": {
      "image/png": "[encoded data removed]",
      "text/plain": [
       "<Figure size 900x500 with 1 Axes>"
      ]
     },
     "metadata": {},
     "output_type": "display_data"
    }
   ],
   "source": [
    "comment_data['miladi_date'] = pd.to_datetime(comment_data['miladi_date'])\n",
    "\n",
    "comment_data['month'] = comment_data['miladi_date'].dt.month\n",
    "\n",
    "\n",
    "monthly_counts = comment_data['month'].value_counts().sort_index()\n",
    "i = 3\n",
    "for x in monthly_counts:\n",
    "    print(f\"تعداد کامنت ها در ماه {i} = {x}\")\n",
    "    i+=1\n",
    "\n",
    "plt.figure(figsize=(9, 5))\n",
    "sns.countplot(x='month', data=comment_data)\n",
    "plt.title(\"The number of comments is from 3 to 10 months\")\n",
    "plt.xlabel(\"Month\")\n",
    "plt.ylabel(\"Number of comments\")\n",
    "\n",
    "\n",
    "plt.tight_layout()\n",
    "plt.show()\n"
   ]
  },
  {
   "cell_type": "markdown",
   "id": "087748b4-b9b5-4618-8420-ebfcd1eb274b",
   "metadata": {},
   "source": [
    "## پنج آیدی محصول که کامنت های بیشتری دارند ##"
   ]
  },
  {
   "cell_type": "markdown",
   "id": "7754d465-c57a-4d2e-ad87-538e1180e5fd",
   "metadata": {},
   "source": [
    "اکنون پنج تا از آیدی محصولی که تعداد بیشترین کامنت هارو داشته پیدا کردم و روی نمودار نمایش دادم تا در ادامه ی کار بتونیم از اون ها استفاده دیگری هم در نتیجه گیری هامون داشته باشیم"
   ]
  },
  {
   "cell_type": "code",
   "execution_count": 29,
   "id": "dd086f00-18ed-4e7e-8760-0c6bfa53a99f",
   "metadata": {},
   "outputs": [
    {
     "name": "stdout",
     "output_type": "stream",
     "text": [
      "تعداد کامنت های محصول با آیدی(531870) => 579 عدد می باشد\n",
      "تعداد کامنت های محصول با آیدی(356804) => 532 عدد می باشد\n",
      "تعداد کامنت های محصول با آیدی(467630) => 374 عدد می باشد\n",
      "تعداد کامنت های محصول با آیدی(180451) => 297 عدد می باشد\n",
      "تعداد کامنت های محصول با آیدی(327934) => 228 عدد می باشد\n"
     ]
    },
    {
     "data": {
      "image/png": "[encoded data removed]",
      "text/plain": [
       "<Figure size 1100x500 with 1 Axes>"
      ]
     },
     "metadata": {},
     "output_type": "display_data"
    }
   ],
   "source": [
    "product_count = Counter(comment_data[\"product_id\"])\n",
    "\n",
    "top_5_products = product_count.most_common(5)\n",
    "\n",
    "products_id, counts = zip(*top_5_products)\n",
    "\n",
    "number = 0\n",
    "for i in range(5):\n",
    "    print(f\"تعداد کامنت های محصول با آیدی({products_id[number]}) => {counts[number]} عدد می باشد\")\n",
    "    number+=1\n",
    "\n",
    "\n",
    "pro_list = []\n",
    "for pro in products_id:\n",
    "    pro_list.append(f\"product_id({pro})\")\n",
    "\n",
    "\n",
    "plt.figure(figsize=(11,5))\n",
    "plt.bar(pro_list, counts)\n",
    "plt.show()"
   ]
  },
  {
   "cell_type": "code",
   "execution_count": 30,
   "id": "25f1af4c-07dc-4d2f-9947-ec6fbf97948c",
   "metadata": {},
   "outputs": [
    {
     "data": {
      "text/html": [
       "<div>\n",
       "<style scoped>\n",
       "    .dataframe tbody tr th:only-of-type {\n",
       "        vertical-align: middle;\n",
       "    }\n",
       "\n",
       "    .dataframe tbody tr th {\n",
       "        vertical-align: top;\n",
       "    }\n",
       "\n",
       "    .dataframe thead th {\n",
       "        text-align: right;\n",
       "    }\n",
       "</style>\n",
       "<table border=\"1\" class=\"dataframe\">\n",
       "  <thead>\n",
       "    <tr style=\"text-align: right;\">\n",
       "      <th></th>\n",
       "      <th>product_id</th>\n",
       "      <th>miladi_date</th>\n",
       "      <th>comment</th>\n",
       "      <th>shamsi_date</th>\n",
       "      <th>month</th>\n",
       "    </tr>\n",
       "  </thead>\n",
       "  <tbody>\n",
       "    <tr>\n",
       "      <th>0</th>\n",
       "      <td>90213</td>\n",
       "      <td>2018-08-23 11:05:47</td>\n",
       "      <td>سلام قبل اینکه نظرم رو بگم میخواستم به یک موضو...</td>\n",
       "      <td>1397-06-01 11:05:47</td>\n",
       "      <td>8</td>\n",
       "    </tr>\n",
       "    <tr>\n",
       "      <th>1</th>\n",
       "      <td>56871</td>\n",
       "      <td>2018-08-23 10:21:53</td>\n",
       "      <td>بوی تند ولی خوشبو دارهماندگاریش خوبه و هر چقدر...</td>\n",
       "      <td>1397-06-01 10:21:53</td>\n",
       "      <td>8</td>\n",
       "    </tr>\n",
       "    <tr>\n",
       "      <th>2</th>\n",
       "      <td>49738</td>\n",
       "      <td>2018-10-13 11:13:39</td>\n",
       "      <td>متاسفانه عمر مفید این ماشین کم هست و بعد از دو...</td>\n",
       "      <td>1397-07-21 11:13:39</td>\n",
       "      <td>10</td>\n",
       "    </tr>\n",
       "    <tr>\n",
       "      <th>3</th>\n",
       "      <td>134367</td>\n",
       "      <td>2018-10-17 11:27:57</td>\n",
       "      <td>افا از وقتی من اینو واسه پسرم خریدم همه بچه ها...</td>\n",
       "      <td>1397-07-25 11:27:57</td>\n",
       "      <td>10</td>\n",
       "    </tr>\n",
       "    <tr>\n",
       "      <th>4</th>\n",
       "      <td>151402</td>\n",
       "      <td>2018-08-23 10:28:47</td>\n",
       "      <td>این تیغ محصول کشور آمریکا هست  در عکس محصول مش...</td>\n",
       "      <td>1397-06-01 10:28:47</td>\n",
       "      <td>8</td>\n",
       "    </tr>\n",
       "    <tr>\n",
       "      <th>...</th>\n",
       "      <td>...</td>\n",
       "      <td>...</td>\n",
       "      <td>...</td>\n",
       "      <td>...</td>\n",
       "      <td>...</td>\n",
       "    </tr>\n",
       "    <tr>\n",
       "      <th>100003</th>\n",
       "      <td>104998</td>\n",
       "      <td>2018-07-09 21:27:12</td>\n",
       "      <td>قیمت مناسبی داره در حال حاضر  با این پول سخت م...</td>\n",
       "      <td>1397-04-18 21:27:12</td>\n",
       "      <td>7</td>\n",
       "    </tr>\n",
       "    <tr>\n",
       "      <th>100004</th>\n",
       "      <td>333389</td>\n",
       "      <td>2018-07-09 21:26:52</td>\n",
       "      <td>در کل راضیم درسته لنوو با قیمت پایین تر هسته و...</td>\n",
       "      <td>1397-04-18 21:26:52</td>\n",
       "      <td>7</td>\n",
       "    </tr>\n",
       "    <tr>\n",
       "      <th>100005</th>\n",
       "      <td>356546</td>\n",
       "      <td>2018-07-09 21:26:30</td>\n",
       "      <td>من این محصول رو از بیرون تهیه کردم  و باید بگم...</td>\n",
       "      <td>1397-04-18 21:26:30</td>\n",
       "      <td>7</td>\n",
       "    </tr>\n",
       "    <tr>\n",
       "      <th>100006</th>\n",
       "      <td>33874</td>\n",
       "      <td>2018-07-09 21:26:12</td>\n",
       "      <td>دوسال ونیم پیش از دیجی کالا گرفتم هنوز مثل روز...</td>\n",
       "      <td>1397-04-18 21:26:12</td>\n",
       "      <td>7</td>\n",
       "    </tr>\n",
       "    <tr>\n",
       "      <th>100007</th>\n",
       "      <td>318278</td>\n",
       "      <td>2018-07-09 21:26:02</td>\n",
       "      <td>با استفاده از این شامپو مشکل خشکی مو و پوست سر...</td>\n",
       "      <td>1397-04-18 21:26:02</td>\n",
       "      <td>7</td>\n",
       "    </tr>\n",
       "  </tbody>\n",
       "</table>\n",
       "<p>100008 rows × 5 columns</p>\n",
       "</div>"
      ],
      "text/plain": [
       "        product_id         miladi_date  \\\n",
       "0            90213 2018-08-23 11:05:47   \n",
       "1            56871 2018-08-23 10:21:53   \n",
       "2            49738 2018-10-13 11:13:39   \n",
       "3           134367 2018-10-17 11:27:57   \n",
       "4           151402 2018-08-23 10:28:47   \n",
       "...            ...                 ...   \n",
       "100003      104998 2018-07-09 21:27:12   \n",
       "100004      333389 2018-07-09 21:26:52   \n",
       "100005      356546 2018-07-09 21:26:30   \n",
       "100006       33874 2018-07-09 21:26:12   \n",
       "100007      318278 2018-07-09 21:26:02   \n",
       "\n",
       "                                                  comment  \\\n",
       "0       سلام قبل اینکه نظرم رو بگم میخواستم به یک موضو...   \n",
       "1       بوی تند ولی خوشبو دارهماندگاریش خوبه و هر چقدر...   \n",
       "2       متاسفانه عمر مفید این ماشین کم هست و بعد از دو...   \n",
       "3       افا از وقتی من اینو واسه پسرم خریدم همه بچه ها...   \n",
       "4       این تیغ محصول کشور آمریکا هست  در عکس محصول مش...   \n",
       "...                                                   ...   \n",
       "100003  قیمت مناسبی داره در حال حاضر  با این پول سخت م...   \n",
       "100004  در کل راضیم درسته لنوو با قیمت پایین تر هسته و...   \n",
       "100005  من این محصول رو از بیرون تهیه کردم  و باید بگم...   \n",
       "100006  دوسال ونیم پیش از دیجی کالا گرفتم هنوز مثل روز...   \n",
       "100007  با استفاده از این شامپو مشکل خشکی مو و پوست سر...   \n",
       "\n",
       "                shamsi_date  month  \n",
       "0       1397-06-01 11:05:47      8  \n",
       "1       1397-06-01 10:21:53      8  \n",
       "2       1397-07-21 11:13:39     10  \n",
       "3       1397-07-25 11:27:57     10  \n",
       "4       1397-06-01 10:28:47      8  \n",
       "...                     ...    ...  \n",
       "100003  1397-04-18 21:27:12      7  \n",
       "100004  1397-04-18 21:26:52      7  \n",
       "100005  1397-04-18 21:26:30      7  \n",
       "100006  1397-04-18 21:26:12      7  \n",
       "100007  1397-04-18 21:26:02      7  \n",
       "\n",
       "[100008 rows x 5 columns]"
      ]
     },
     "execution_count": 30,
     "metadata": {},
     "output_type": "execute_result"
    }
   ],
   "source": [
    "comment_data"
   ]
  },
  {
   "cell_type": "markdown",
   "id": "6e3cb5a0-5578-4374-bf35-586f1ba9aa57",
   "metadata": {
    "jp-MarkdownHeadingCollapsed": true
   },
   "source": [
    "# تحلیل و بررسی دیتای محصولات #"
   ]
  },
  {
   "cell_type": "markdown",
   "id": "4310e5f1-500a-45e1-9122-2c3ab058ef58",
   "metadata": {},
   "source": [
    "ابتدا فایل اکسل محصولات رو به سی اس وی تبدیل کردیم "
   ]
  },
  {
   "cell_type": "code",
   "execution_count": 33,
   "id": "99b85d84-e06b-4de6-9000-b3fe407fa8ea",
   "metadata": {},
   "outputs": [],
   "source": [
    "product_data = pd.read_excel(\"product.xlsx\")\n",
    "product_data.to_csv(\"product.csv\", index=False)"
   ]
  },
  {
   "cell_type": "markdown",
   "id": "cf7d64bd-5409-4e5c-9953-ef373ece46e7",
   "metadata": {},
   "source": [
    "## باز خوانی فایل محصولات و دریافت مشخصات آن ##"
   ]
  },
  {
   "cell_type": "code",
   "execution_count": 36,
   "id": "44df91a9-bdac-42d3-9c58-e4b8a63141e9",
   "metadata": {},
   "outputs": [
    {
     "name": "stdout",
     "output_type": "stream",
     "text": [
      "<class 'pandas.core.frame.DataFrame'>\n",
      "RangeIndex: 100000 entries, 0 to 99999\n",
      "Data columns (total 10 columns):\n",
      " #   Column              Non-Null Count   Dtype \n",
      "---  ------              --------------   ----- \n",
      " 0   id                  100000 non-null  int64 \n",
      " 1   product_title_fa    100000 non-null  object\n",
      " 2   product_title_en    21165 non-null   object\n",
      " 3   url_code            99983 non-null   object\n",
      " 4   title_alt           77432 non-null   object\n",
      " 5   category_title_fa   100000 non-null  object\n",
      " 6   category_keywords   99740 non-null   object\n",
      " 7   brand_name_fa       100000 non-null  object\n",
      " 8   brand_name_en       100000 non-null  object\n",
      " 9   product_attributes  3050 non-null    object\n",
      "dtypes: int64(1), object(9)\n",
      "memory usage: 7.6+ MB\n"
     ]
    }
   ],
   "source": [
    "product_data = pd.read_csv(\"product.csv\", low_memory=False)\n",
    "product_data.info()"
   ]
  },
  {
   "cell_type": "markdown",
   "id": "418deded-a402-41f9-b1e1-76f404ee52b1",
   "metadata": {},
   "source": [
    "## دریافت دو ردیف اول محصولات ##"
   ]
  },
  {
   "cell_type": "code",
   "execution_count": 38,
   "id": "49162a85-d6eb-4d22-ada1-08c391616f1f",
   "metadata": {},
   "outputs": [
    {
     "data": {
      "text/html": [
       "<div>\n",
       "<style scoped>\n",
       "    .dataframe tbody tr th:only-of-type {\n",
       "        vertical-align: middle;\n",
       "    }\n",
       "\n",
       "    .dataframe tbody tr th {\n",
       "        vertical-align: top;\n",
       "    }\n",
       "\n",
       "    .dataframe thead th {\n",
       "        text-align: right;\n",
       "    }\n",
       "</style>\n",
       "<table border=\"1\" class=\"dataframe\">\n",
       "  <thead>\n",
       "    <tr style=\"text-align: right;\">\n",
       "      <th></th>\n",
       "      <th>id</th>\n",
       "      <th>product_title_fa</th>\n",
       "      <th>product_title_en</th>\n",
       "      <th>url_code</th>\n",
       "      <th>title_alt</th>\n",
       "      <th>category_title_fa</th>\n",
       "      <th>category_keywords</th>\n",
       "      <th>brand_name_fa</th>\n",
       "      <th>brand_name_en</th>\n",
       "      <th>product_attributes</th>\n",
       "    </tr>\n",
       "  </thead>\n",
       "  <tbody>\n",
       "    <tr>\n",
       "      <th>0</th>\n",
       "      <td>723302</td>\n",
       "      <td>ماگ حرارتی لومانا مدل عرفانه کد MAG1042</td>\n",
       "      <td>NaN</td>\n",
       "      <td>ماگ-حرارتی-لومانا-مدل-عرفانه-کد-mag1042</td>\n",
       "      <td>mug، لیوان ، ماگ ، فنجان ، لیوان دسته دار ، لو...</td>\n",
       "      <td>ماگ، لیوان و فنجان</td>\n",
       "      <td>ماگ، لیوان و فنجان CupandMug</td>\n",
       "      <td>لومانا</td>\n",
       "      <td>Lomana</td>\n",
       "      <td>[{\"Key\":\"وزن بسته‌بندی\",\"Value\":\"480\"},{\"Key\":...</td>\n",
       "    </tr>\n",
       "    <tr>\n",
       "      <th>1</th>\n",
       "      <td>727089</td>\n",
       "      <td>ست آبکش و آبگیر تیتیز مدل AP-9141 سایز متوسط</td>\n",
       "      <td>NaN</td>\n",
       "      <td>ست-آبکش-و-آبگیر-تیتیز-مدل-ap-9141-سایز-متوسط</td>\n",
       "      <td>;hsi, steel, کاسه، کاسه بامبو، لگن، کالا خانه ...</td>\n",
       "      <td>آبکش و آبگیر</td>\n",
       "      <td>آبکش و آبگیر VirgoBasin</td>\n",
       "      <td>تیتیز</td>\n",
       "      <td>Titiz</td>\n",
       "      <td>[{\"Key\":\"دستگیره\",\"Value\":\"1 جفت\"},{\"Key\":\"نوع...</td>\n",
       "    </tr>\n",
       "    <tr>\n",
       "      <th>2</th>\n",
       "      <td>727096</td>\n",
       "      <td>روغن مرطوب کننده کدلی مدل Divine oil حجم 50 می...</td>\n",
       "      <td>NaN</td>\n",
       "      <td>روغن-مرطوب-کننده-کدلی-مدل-divine-oil-حجم-50-می...</td>\n",
       "      <td>NaN</td>\n",
       "      <td>روغن صورت</td>\n",
       "      <td>روغن صورت Face-Oil</td>\n",
       "      <td>کدلی</td>\n",
       "      <td>CAUDALIE</td>\n",
       "      <td>[{\"Key\":\"حجم\",\"Value\":\"50\"},{\"Key\":\"نوع عصاره\"...</td>\n",
       "    </tr>\n",
       "    <tr>\n",
       "      <th>3</th>\n",
       "      <td>727803</td>\n",
       "      <td>ست لحاف پوپلین هوبی مدل اما یکنفره چهار تکه کاوری</td>\n",
       "      <td>Hobby Emma Quilt Single Set - 4 Pieces</td>\n",
       "      <td>ست-لحاف-پوپلین-هوبی-مدل-اما-یکنفره-چهار-تکه-کاوری</td>\n",
       "      <td>روتختی اسپرت، اما، emma، روتختی یکنفره، لحاف ی...</td>\n",
       "      <td>سرویس خواب</td>\n",
       "      <td>سرویس خواب SleepSet</td>\n",
       "      <td>هوبی</td>\n",
       "      <td>Hobby</td>\n",
       "      <td>[{\"Key\":\"ابعاد رو بالشی\",\"Value\":\"50×70\"},{\"Ke...</td>\n",
       "    </tr>\n",
       "    <tr>\n",
       "      <th>4</th>\n",
       "      <td>725222</td>\n",
       "      <td>ماگ آبنبات رنگی مدل AR0143</td>\n",
       "      <td>NaN</td>\n",
       "      <td>ماگ-آبنبات-رنگی-مدل-ar0143</td>\n",
       "      <td>ماگ آبنبات رنگی،شذدشذشفقشدله،Mag Abnabatrangi</td>\n",
       "      <td>ماگ، لیوان و فنجان</td>\n",
       "      <td>ماگ، لیوان و فنجان CupandMug</td>\n",
       "      <td>متفرقه</td>\n",
       "      <td>Miscellaneous</td>\n",
       "      <td>[{\"Key\":\"در\",\"Value\":\"ندارد\"},{\"Key\":\"جنس\",\"Va...</td>\n",
       "    </tr>\n",
       "  </tbody>\n",
       "</table>\n",
       "</div>"
      ],
      "text/plain": [
       "       id                                   product_title_fa  \\\n",
       "0  723302            ماگ حرارتی لومانا مدل عرفانه کد MAG1042   \n",
       "1  727089       ست آبکش و آبگیر تیتیز مدل AP-9141 سایز متوسط   \n",
       "2  727096  روغن مرطوب کننده کدلی مدل Divine oil حجم 50 می...   \n",
       "3  727803  ست لحاف پوپلین هوبی مدل اما یکنفره چهار تکه کاوری   \n",
       "4  725222                         ماگ آبنبات رنگی مدل AR0143   \n",
       "\n",
       "                         product_title_en  \\\n",
       "0                                     NaN   \n",
       "1                                     NaN   \n",
       "2                                     NaN   \n",
       "3  Hobby Emma Quilt Single Set - 4 Pieces   \n",
       "4                                     NaN   \n",
       "\n",
       "                                            url_code  \\\n",
       "0            ماگ-حرارتی-لومانا-مدل-عرفانه-کد-mag1042   \n",
       "1       ست-آبکش-و-آبگیر-تیتیز-مدل-ap-9141-سایز-متوسط   \n",
       "2  روغن-مرطوب-کننده-کدلی-مدل-divine-oil-حجم-50-می...   \n",
       "3  ست-لحاف-پوپلین-هوبی-مدل-اما-یکنفره-چهار-تکه-کاوری   \n",
       "4                         ماگ-آبنبات-رنگی-مدل-ar0143   \n",
       "\n",
       "                                           title_alt   category_title_fa  \\\n",
       "0  mug، لیوان ، ماگ ، فنجان ، لیوان دسته دار ، لو...  ماگ، لیوان و فنجان   \n",
       "1  ;hsi, steel, کاسه، کاسه بامبو، لگن، کالا خانه ...        آبکش و آبگیر   \n",
       "2                                                NaN           روغن صورت   \n",
       "3  روتختی اسپرت، اما، emma، روتختی یکنفره، لحاف ی...          سرویس خواب   \n",
       "4      ماگ آبنبات رنگی،شذدشذشفقشدله،Mag Abnabatrangi  ماگ، لیوان و فنجان   \n",
       "\n",
       "              category_keywords brand_name_fa  brand_name_en  \\\n",
       "0  ماگ، لیوان و فنجان CupandMug        لومانا         Lomana   \n",
       "1       آبکش و آبگیر VirgoBasin         تیتیز          Titiz   \n",
       "2            روغن صورت Face-Oil          کدلی       CAUDALIE   \n",
       "3           سرویس خواب SleepSet          هوبی          Hobby   \n",
       "4  ماگ، لیوان و فنجان CupandMug        متفرقه  Miscellaneous   \n",
       "\n",
       "                                  product_attributes  \n",
       "0  [{\"Key\":\"وزن بسته‌بندی\",\"Value\":\"480\"},{\"Key\":...  \n",
       "1  [{\"Key\":\"دستگیره\",\"Value\":\"1 جفت\"},{\"Key\":\"نوع...  \n",
       "2  [{\"Key\":\"حجم\",\"Value\":\"50\"},{\"Key\":\"نوع عصاره\"...  \n",
       "3  [{\"Key\":\"ابعاد رو بالشی\",\"Value\":\"50×70\"},{\"Ke...  \n",
       "4  [{\"Key\":\"در\",\"Value\":\"ندارد\"},{\"Key\":\"جنس\",\"Va...  "
      ]
     },
     "execution_count": 38,
     "metadata": {},
     "output_type": "execute_result"
    }
   ],
   "source": [
    "product_data.head()"
   ]
  },
  {
   "cell_type": "markdown",
   "id": "2e59a6d3-27df-4823-92d1-59badd80e9dd",
   "metadata": {},
   "source": [
    "## دریافت دو ردیف آخر دیتای محصولات ##"
   ]
  },
  {
   "cell_type": "code",
   "execution_count": 40,
   "id": "a5bd3415-4a7e-4840-8f80-ee9dc5941167",
   "metadata": {},
   "outputs": [
    {
     "data": {
      "text/html": [
       "<div>\n",
       "<style scoped>\n",
       "    .dataframe tbody tr th:only-of-type {\n",
       "        vertical-align: middle;\n",
       "    }\n",
       "\n",
       "    .dataframe tbody tr th {\n",
       "        vertical-align: top;\n",
       "    }\n",
       "\n",
       "    .dataframe thead th {\n",
       "        text-align: right;\n",
       "    }\n",
       "</style>\n",
       "<table border=\"1\" class=\"dataframe\">\n",
       "  <thead>\n",
       "    <tr style=\"text-align: right;\">\n",
       "      <th></th>\n",
       "      <th>id</th>\n",
       "      <th>product_title_fa</th>\n",
       "      <th>product_title_en</th>\n",
       "      <th>url_code</th>\n",
       "      <th>title_alt</th>\n",
       "      <th>category_title_fa</th>\n",
       "      <th>category_keywords</th>\n",
       "      <th>brand_name_fa</th>\n",
       "      <th>brand_name_en</th>\n",
       "      <th>product_attributes</th>\n",
       "    </tr>\n",
       "  </thead>\n",
       "  <tbody>\n",
       "    <tr>\n",
       "      <th>99998</th>\n",
       "      <td>799047</td>\n",
       "      <td>سینی  برایتون مدل BT-8387</td>\n",
       "      <td>NaN</td>\n",
       "      <td>سینی-برایتون-مدل-bt-8387</td>\n",
       "      <td>سینی، سینی چای،  sdkd ]hd</td>\n",
       "      <td>سینی</td>\n",
       "      <td>سینی Tray</td>\n",
       "      <td>برایتون</td>\n",
       "      <td>briton</td>\n",
       "      <td>NaN</td>\n",
       "    </tr>\n",
       "    <tr>\n",
       "      <th>99999</th>\n",
       "      <td>782276</td>\n",
       "      <td>تیشرت زنانه تارپون طرح فانتزی کد 10532</td>\n",
       "      <td>NaN</td>\n",
       "      <td>تیشرت-زنانه-تارپون-طرح-فانتزی-کد-10532</td>\n",
       "      <td>تیشرت، تیشرت آستین کوتاه، تیشرت تارپون، تیشرت ...</td>\n",
       "      <td>تی‌شرت و پولوشرت زنانه</td>\n",
       "      <td>تی‌شرت و پولوشرت زنانه womens-tshirts-polos</td>\n",
       "      <td>تارپون</td>\n",
       "      <td>tarpon</td>\n",
       "      <td>NaN</td>\n",
       "    </tr>\n",
       "  </tbody>\n",
       "</table>\n",
       "</div>"
      ],
      "text/plain": [
       "           id                        product_title_fa product_title_en  \\\n",
       "99998  799047               سینی  برایتون مدل BT-8387              NaN   \n",
       "99999  782276  تیشرت زنانه تارپون طرح فانتزی کد 10532              NaN   \n",
       "\n",
       "                                     url_code  \\\n",
       "99998                سینی-برایتون-مدل-bt-8387   \n",
       "99999  تیشرت-زنانه-تارپون-طرح-فانتزی-کد-10532   \n",
       "\n",
       "                                               title_alt  \\\n",
       "99998                          سینی، سینی چای،  sdkd ]hd   \n",
       "99999  تیشرت، تیشرت آستین کوتاه، تیشرت تارپون، تیشرت ...   \n",
       "\n",
       "            category_title_fa                            category_keywords  \\\n",
       "99998                    سینی                                    سینی Tray   \n",
       "99999  تی‌شرت و پولوشرت زنانه  تی‌شرت و پولوشرت زنانه womens-tshirts-polos   \n",
       "\n",
       "      brand_name_fa brand_name_en product_attributes  \n",
       "99998       برایتون        briton                NaN  \n",
       "99999        تارپون        tarpon                NaN  "
      ]
     },
     "execution_count": 40,
     "metadata": {},
     "output_type": "execute_result"
    }
   ],
   "source": [
    "product_data.tail(2)"
   ]
  },
  {
   "cell_type": "markdown",
   "id": "2c1fe459-e007-4d97-aada-a810aaafe808",
   "metadata": {},
   "source": [
    "## پنج دسته بندی پرفروش ##"
   ]
  },
  {
   "cell_type": "markdown",
   "id": "61883cd7-f46c-4a40-8fc1-cb0e6700205c",
   "metadata": {},
   "source": [
    "دریافت و نمایش پنج دسته بندی پرمحصول که بیشتر در دیتاهای ما دیده میشود"
   ]
  },
  {
   "cell_type": "code",
   "execution_count": 43,
   "id": "080863a9-10c3-4198-85ae-1b8b81e57d07",
   "metadata": {},
   "outputs": [
    {
     "name": "stdout",
     "output_type": "stream",
     "text": [
      "تعداد محصولات از دسته بندی (کیف و کاور گوشی ) ==> 4384 عدد می باشد\n",
      "تعداد محصولات از دسته بندی (تیشرت و پولوشرت مردانه ) ==> 4038 عدد می باشد\n",
      "تعداد محصولات از دسته بندی (محافظ صفحه نمایش گوشی ) ==> 1962 عدد می باشد\n",
      "تعداد محصولات از دسته بندی (ساعت مچی عقربهای  ) ==> 1932 عدد می باشد\n",
      "تعداد محصولات از دسته بندی (کتاب چاپی ) ==> 1912 عدد می باشد\n"
     ]
    },
    {
     "data": {
      "image/png": "[encoded data removed]",
      "text/plain": [
       "<Figure size 1500x500 with 1 Axes>"
      ]
     },
     "metadata": {},
     "output_type": "display_data"
    }
   ],
   "source": [
    "id_count = Counter(product_data[\"category_keywords\"])\n",
    "top_5_id = id_count.most_common(5)\n",
    "\n",
    "top_list = []\n",
    "top_list_en = []\n",
    "for x in top_5_id:\n",
    "    y = re.sub(r'[^آ-ی\\s]', '', x[0])\n",
    "    z = re.sub(r'[^a-zA-Z\\s]', '', x[0])\n",
    "    top_list.append((y, x[1])) \n",
    "    top_list_en.append((z, x[1])) \n",
    "    \n",
    "category, count = zip(*top_list)\n",
    "\n",
    "categories = [re.sub(r\"A-Za-z\",\"\",item[0].strip()) for item in top_list_en]\n",
    "\n",
    "i = 0\n",
    "for c in category:\n",
    "    print(f\"تعداد محصولات از دسته بندی ({c}) ==> {count[i]} عدد می باشد\")\n",
    "    i+=1\n",
    "    \n",
    "plt.figure(figsize=(15,5))\n",
    "plt.bar(categories, count)\n",
    "\n",
    "plt.show()\n"
   ]
  },
  {
   "cell_type": "markdown",
   "id": "9ff5bc56-662e-4086-ada4-4aeb493190fb",
   "metadata": {},
   "source": [
    "# تحلیل و بررسی دیتای سفارشات #"
   ]
  },
  {
   "cell_type": "markdown",
   "id": "acfc1ab2-4ece-4db2-966d-7ed2dba42194",
   "metadata": {},
   "source": [
    "دریافت مشخصات دیتای فایل سفارشات "
   ]
  },
  {
   "cell_type": "code",
   "execution_count": 5,
   "id": "db24e2c3-0742-4d95-a3f4-a68c68e0bd61",
   "metadata": {},
   "outputs": [
    {
     "name": "stdout",
     "output_type": "stream",
     "text": [
      "<class 'pandas.core.frame.DataFrame'>\n",
      "RangeIndex: 200000 entries, 0 to 199999\n",
      "Data columns (total 7 columns):\n",
      " #   Column                 Non-Null Count   Dtype  \n",
      "---  ------                 --------------   -----  \n",
      " 0   ID_Order               200000 non-null  int64  \n",
      " 1   ID_Customer            200000 non-null  int64  \n",
      " 2   ID_Item                200000 non-null  int64  \n",
      " 3   DateTime_CartFinalize  200000 non-null  object \n",
      " 4   Amount_Gross_Order     200000 non-null  float64\n",
      " 5   city_name_fa           200000 non-null  object \n",
      " 6   Quantity_item          200000 non-null  float64\n",
      "dtypes: float64(2), int64(3), object(2)\n",
      "memory usage: 10.7+ MB\n"
     ]
    }
   ],
   "source": [
    "orders_data = pd.read_csv(\"orders.csv\")\n",
    "orders_data.info()"
   ]
  },
  {
   "cell_type": "markdown",
   "id": "47aca1ca-71ae-4b15-a1b6-5f7dc2e14823",
   "metadata": {},
   "source": [
    "## نمایش دو ردیف اول دیتا ##"
   ]
  },
  {
   "cell_type": "markdown",
   "id": "ac82f0f6-d88d-477e-92f7-87b4f74a500c",
   "metadata": {},
   "source": [
    "دوردیف دیتای سفارشات رو بررسی می کنیم"
   ]
  },
  {
   "cell_type": "code",
   "execution_count": 108,
   "id": "8878d3e1-1510-4121-9e65-ea690e351138",
   "metadata": {},
   "outputs": [
    {
     "data": {
      "text/html": [
       "<div>\n",
       "<style scoped>\n",
       "    .dataframe tbody tr th:only-of-type {\n",
       "        vertical-align: middle;\n",
       "    }\n",
       "\n",
       "    .dataframe tbody tr th {\n",
       "        vertical-align: top;\n",
       "    }\n",
       "\n",
       "    .dataframe thead th {\n",
       "        text-align: right;\n",
       "    }\n",
       "</style>\n",
       "<table border=\"1\" class=\"dataframe\">\n",
       "  <thead>\n",
       "    <tr style=\"text-align: right;\">\n",
       "      <th></th>\n",
       "      <th>ID_Order</th>\n",
       "      <th>ID_Customer</th>\n",
       "      <th>ID_Item</th>\n",
       "      <th>DateTime_CartFinalize</th>\n",
       "      <th>Amount_Gross_Order</th>\n",
       "      <th>city_name_fa</th>\n",
       "      <th>Quantity_item</th>\n",
       "    </tr>\n",
       "  </thead>\n",
       "  <tbody>\n",
       "    <tr>\n",
       "      <th>0</th>\n",
       "      <td>2714054</td>\n",
       "      <td>469662</td>\n",
       "      <td>21386</td>\n",
       "      <td>2015-10-15 08:50:56.000</td>\n",
       "      <td>597982.0</td>\n",
       "      <td>محمود آباد</td>\n",
       "      <td>1.0</td>\n",
       "    </tr>\n",
       "    <tr>\n",
       "      <th>1</th>\n",
       "      <td>11104039</td>\n",
       "      <td>3063877</td>\n",
       "      <td>248497</td>\n",
       "      <td>2018-02-11 00:29:26.000</td>\n",
       "      <td>980000.0</td>\n",
       "      <td>خرمدره</td>\n",
       "      <td>1.0</td>\n",
       "    </tr>\n",
       "  </tbody>\n",
       "</table>\n",
       "</div>"
      ],
      "text/plain": [
       "   ID_Order  ID_Customer  ID_Item    DateTime_CartFinalize  \\\n",
       "0   2714054       469662    21386  2015-10-15 08:50:56.000   \n",
       "1  11104039      3063877   248497  2018-02-11 00:29:26.000   \n",
       "\n",
       "   Amount_Gross_Order city_name_fa  Quantity_item  \n",
       "0            597982.0   محمود آباد            1.0  \n",
       "1            980000.0       خرمدره            1.0  "
      ]
     },
     "execution_count": 108,
     "metadata": {},
     "output_type": "execute_result"
    }
   ],
   "source": [
    "orders_data.head(2)"
   ]
  },
  {
   "cell_type": "markdown",
   "id": "46422e6c-19ca-4b48-b39f-460b6e416913",
   "metadata": {},
   "source": [
    "## نمایش دو ردیف آخر دیتا ##"
   ]
  },
  {
   "cell_type": "markdown",
   "id": "10685b8c-a2fb-46e9-b69c-c489e3f2da9d",
   "metadata": {},
   "source": [
    "همچنین نگاهی به دوردیف آخر دیتا میندازیم"
   ]
  },
  {
   "cell_type": "code",
   "execution_count": 112,
   "id": "ada7a085-a01a-41ff-a005-b4b8e12ec173",
   "metadata": {},
   "outputs": [
    {
     "data": {
      "text/html": [
       "<div>\n",
       "<style scoped>\n",
       "    .dataframe tbody tr th:only-of-type {\n",
       "        vertical-align: middle;\n",
       "    }\n",
       "\n",
       "    .dataframe tbody tr th {\n",
       "        vertical-align: top;\n",
       "    }\n",
       "\n",
       "    .dataframe thead th {\n",
       "        text-align: right;\n",
       "    }\n",
       "</style>\n",
       "<table border=\"1\" class=\"dataframe\">\n",
       "  <thead>\n",
       "    <tr style=\"text-align: right;\">\n",
       "      <th></th>\n",
       "      <th>ID_Order</th>\n",
       "      <th>ID_Customer</th>\n",
       "      <th>ID_Item</th>\n",
       "      <th>DateTime_CartFinalize</th>\n",
       "      <th>Amount_Gross_Order</th>\n",
       "      <th>city_name_fa</th>\n",
       "      <th>Quantity_item</th>\n",
       "    </tr>\n",
       "  </thead>\n",
       "  <tbody>\n",
       "    <tr>\n",
       "      <th>199998</th>\n",
       "      <td>6315995</td>\n",
       "      <td>2541418</td>\n",
       "      <td>264021</td>\n",
       "      <td>2017-02-08 14:59:39.000</td>\n",
       "      <td>193486.0</td>\n",
       "      <td>همدان</td>\n",
       "      <td>1.0</td>\n",
       "    </tr>\n",
       "    <tr>\n",
       "      <th>199999</th>\n",
       "      <td>7584127</td>\n",
       "      <td>1342585</td>\n",
       "      <td>89427</td>\n",
       "      <td>2017-06-17 10:08:06.000</td>\n",
       "      <td>55046.0</td>\n",
       "      <td>بندر انزلی</td>\n",
       "      <td>1.0</td>\n",
       "    </tr>\n",
       "  </tbody>\n",
       "</table>\n",
       "</div>"
      ],
      "text/plain": [
       "        ID_Order  ID_Customer  ID_Item    DateTime_CartFinalize  \\\n",
       "199998   6315995      2541418   264021  2017-02-08 14:59:39.000   \n",
       "199999   7584127      1342585    89427  2017-06-17 10:08:06.000   \n",
       "\n",
       "        Amount_Gross_Order city_name_fa  Quantity_item  \n",
       "199998            193486.0        همدان            1.0  \n",
       "199999             55046.0   بندر انزلی            1.0  "
      ]
     },
     "execution_count": 112,
     "metadata": {},
     "output_type": "execute_result"
    }
   ],
   "source": [
    "orders_data.tail(2)"
   ]
  },
  {
   "cell_type": "markdown",
   "id": "ad796942-407b-4645-80cc-700ffda10567",
   "metadata": {},
   "source": [
    "## پیش پردازش داده ها ##"
   ]
  },
  {
   "cell_type": "markdown",
   "id": "f2501d0a-d0a2-4b87-90b3-725fdf844b2d",
   "metadata": {},
   "source": [
    "اصلاح نوع داده ی ستون زمان سفارش و ستون مقدار"
   ]
  },
  {
   "cell_type": "code",
   "execution_count": 7,
   "id": "2849945d-c130-4c71-a042-ef1723591f5d",
   "metadata": {},
   "outputs": [
    {
     "name": "stdout",
     "output_type": "stream",
     "text": [
      "datetime64[ns]\n",
      "int64\n"
     ]
    }
   ],
   "source": [
    "orders_data[\"DateTime_CartFinalize\"] = pd.to_datetime(orders_data[\"DateTime_CartFinalize\"])\n",
    "print(orders_data[\"DateTime_CartFinalize\"].dtype)\n",
    "\n",
    "orders_data[\"Quantity_item\"] = orders_data[\"Quantity_item\"].astype(int)\n",
    "print(orders_data[\"Quantity_item\"].dtype)\n"
   ]
  },
  {
   "cell_type": "markdown",
   "id": "1929535d-639e-41df-a0a4-cc810776ee43",
   "metadata": {},
   "source": [
    "## ایجاد ستون ماه  ##"
   ]
  },
  {
   "cell_type": "code",
   "execution_count": null,
   "id": "3d21b786-e4a9-4ddd-8279-6eaf83976e63",
   "metadata": {},
   "outputs": [],
   "source": [
    "orders_data[\"Month\"] = orders_data[\"DateTime_CartFinalize\"].dt.month\n",
    "orders_data[[\"Month\"]]"
   ]
  },
  {
   "cell_type": "markdown",
   "id": "00815f9c-e0d8-465d-a273-1e54d6b27ed4",
   "metadata": {},
   "source": [
    "## تعداد سفارش ها در هر ماه ##"
   ]
  },
  {
   "cell_type": "code",
   "execution_count": 91,
   "id": "2f15538d-785d-4599-a789-49550c59b2c4",
   "metadata": {},
   "outputs": [
    {
     "name": "stdout",
     "output_type": "stream",
     "text": [
      "تعداد سفارش ها در هر ماه \n",
      "Month\n",
      "1     14263\n",
      "2     15588\n",
      "3     17214\n",
      "4     15084\n",
      "5     16268\n",
      "6     14470\n",
      "7     16193\n",
      "8     16726\n",
      "9     19085\n",
      "10    17825\n",
      "11    19139\n",
      "12    18145\n",
      "dtype: int64\n"
     ]
    },
    {
     "data": {
      "image/png": "[encoded data removed]",
      "text/plain": [
       "<Figure size 640x480 with 1 Axes>"
      ]
     },
     "metadata": {},
     "output_type": "display_data"
    }
   ],
   "source": [
    "purchase_count = orders_data.groupby(\"Month\").size()\n",
    "\n",
    "plt.bar(purchase_count.index, purchase_count)\n",
    "plt.xlabel('Month')\n",
    "plt.ylabel('Total Purchase Amount (Billion)')\n",
    "plt.title('Total Purchase Amount per Month')\n",
    "plt.xticks(range(13))\n",
    "\n",
    "print(f\"تعداد سفارش ها در هر ماه \\n{purchase_count}\")\n",
    "plt.show()"
   ]
  },
  {
   "cell_type": "markdown",
   "id": "acbbafbd-1f0b-4b6b-94d2-bd4e778ef457",
   "metadata": {},
   "source": [
    "## میانگین سفارشات ##"
   ]
  },
  {
   "cell_type": "markdown",
   "id": "b3cc1794-12ab-48d0-9ea7-a82cb95d1c34",
   "metadata": {},
   "source": [
    "در این قسمت با توجه به کل ماه های موجود در تاریخ های سفارش ها یک میانگین هم بدست اوردیم و اون رو روی نمودار هم نمایش دادیم"
   ]
  },
  {
   "cell_type": "code",
   "execution_count": 175,
   "id": "ebfd99e1-6668-4210-adc3-faf2255138bd",
   "metadata": {},
   "outputs": [
    {
     "name": "stdout",
     "output_type": "stream",
     "text": [
      "*** میانگین سفارشات در کل ماه ها تقریبا 16666 میلیارد می باشد ***\n"
     ]
    },
    {
     "data": {
      "image/png": "[encoded data removed]",
      "text/plain": [
       "<Figure size 640x480 with 1 Axes>"
      ]
     },
     "metadata": {},
     "output_type": "display_data"
    }
   ],
   "source": [
    "mean_count = purchase_count.mean()\n",
    "\n",
    "plt.plot(purchase_count, marker=\"o\", label=\"Number of Orders per Month\")\n",
    "plt.axhline(mean_count, color=\"red\", linestyle=\"--\", label=\"Average\")\n",
    "\n",
    "plt.xlabel('Month')\n",
    "plt.ylabel('Total Purchase Amount (Billion)')\n",
    "plt.title('Total Purchase Amount per Month')\n",
    "plt.xticks(range(13))\n",
    "plt.legend()\n",
    "\n",
    "print(f\"*** میانگین سفارشات در کل ماه ها تقریبا {int(mean_count)} میلیارد می باشد ***\")\n",
    "plt.show()"
   ]
  },
  {
   "cell_type": "markdown",
   "id": "3526a3c8-8549-4808-9b7a-6c24ca83f9db",
   "metadata": {},
   "source": [
    "## مجموع مبلغ خرید ها در هر ماه ##"
   ]
  },
  {
   "cell_type": "markdown",
   "id": "0a69049f-6e6f-4026-855b-cc6280b56b21",
   "metadata": {},
   "source": [
    "در این بخش میزان مبلغ خریدهای ثبت شده در هر ماه رو بدست اوردیم که در سه ماه اول سال به شکل سعودی مبلغ خرید ها افزایش چشم گیری داشته است و بیشترین خرید ها در ماه سوم بوده است"
   ]
  },
  {
   "cell_type": "code",
   "execution_count": 219,
   "id": "ae33590f-3df8-4bf6-ad39-be405a89cae2",
   "metadata": {},
   "outputs": [
    {
     "data": {
      "image/png": "[encoded data removed]",
      "text/plain": [
       "<Figure size 640x480 with 1 Axes>"
      ]
     },
     "metadata": {},
     "output_type": "display_data"
    }
   ],
   "source": [
    "from matplotlib.ticker import FuncFormatter\n",
    "from matplotlib import rcParams\n",
    "\n",
    "monthly_revenue = orders_data.groupby(\"Month\")[\"Amount_Gross_Order\"].sum()    \n",
    "\n",
    "plt.plot(monthly_revenue.index, monthly_revenue)\n",
    "plt.xticks(np.arange(1,13), np.arange(1,13))\n",
    "plt.xlabel('Month')\n",
    "plt.ylabel('Total Purchase Amount (Billion)')\n",
    "plt.title('Total Purchase Amount per Month')\n",
    "\n",
    "plt.show()\n"
   ]
  },
  {
   "metadata": {},
   "cell_type": "markdown",
   "source": "## فراوانی سبد خرید های نهایی شده ##",
   "id": "b451a71e69f04eb0"
  },
  {
   "cell_type": "markdown",
   "id": "bf096f91-4623-4787-9a5f-c0eb6596ded2",
   "metadata": {},
   "source": [
    "با توجه به نمودار میتوانیم ببینیم که از اواست سال ۲۰۱۷ خرید ها شروع به افزایش کردند و در سال ۲۰۱۸ به اوج رسیدند و تا اواسط این سال هم خرید های بیشتری رو میبینیم. در نهایتمیشه به طور تقریبی گفت کهبیشترین خرید ها شش ماه اول سال ۲۰۱۸ بوده است."
   ]
  },
  {
   "cell_type": "code",
   "execution_count": 173,
   "id": "732681ea-36b5-4f44-8316-b5885629c6e8",
   "metadata": {},
   "outputs": [
    {
     "data": {
      "image/png": "[encoded data removed]",
      "text/plain": [
       "<Figure size 1000x500 with 1 Axes>"
      ]
     },
     "metadata": {},
     "output_type": "display_data"
    }
   ],
   "source": [
    "plt.figure(figsize=(10,5))\n",
    "sns.histplot(orders_data[\"DateTime_CartFinalize\"], kde=True)\n",
    "plt.show()"
   ]
  },
  {
   "cell_type": "code",
   "execution_count": null,
   "id": "987283ad-2421-492a-9d55-9cde13394d69",
   "metadata": {},
   "outputs": [],
   "source": []
  }
 ],
 "metadata": {
  "kernelspec": {
   "display_name": "Python 3 (ipykernel)",
   "language": "python",
   "name": "python3"
  },
  "language_info": {
   "codemirror_mode": {
    "name": "ipython",
    "version": 3
   },
   "file_extension": ".py",
   "mimetype": "text/x-python",
   "name": "python",
   "nbconvert_exporter": "python",
   "pygments_lexer": "ipython3",
   "version": "3.12.4"
  }
 },
 "nbformat": 4,
 "nbformat_minor": 5
}
