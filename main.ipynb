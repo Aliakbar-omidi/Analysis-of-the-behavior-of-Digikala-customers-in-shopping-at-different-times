{
 "cells": [
  {
   "cell_type": "markdown",
   "id": "8c8d6b09-0f57-4cdc-a2d6-dd1c8563d931",
   "metadata": {},
   "source": [
    "## Imports ##"
   ]
  },
  {
   "cell_type": "markdown",
   "id": "ea28799c-f4dd-4d41-90be-385040c29a1d",
   "metadata": {},
   "source": [
    "کتابخانه های مورد نیاز در این پروژه همه در این قسمت اضافه و ایمپورت شده"
   ]
  },
  {
   "cell_type": "code",
   "id": "0754c8f3-aec5-45fa-b786-6e0e6e56e972",
   "metadata": {
    "ExecuteTime": {
     "end_time": "2024-09-13T02:43:44.873594Z",
     "start_time": "2024-09-13T02:43:44.837676Z"
    }
   },
   "source": [
    "import matplotlib.pyplot as plt\n",
    "from persiantools.jdatetime import JalaliDateTime\n",
    "from collections import Counter\n",
    "import seaborn as sns\n",
    "import pandas as pd\n",
    "import re"
   ],
   "outputs": [],
   "execution_count": 1
  },
  {
   "cell_type": "markdown",
   "id": "2171c03f-bdfd-48fb-a7db-febc8d4951fa",
   "metadata": {},
   "source": [
    " ### تبدیل فایل اکسل کامنت ها به سی اس وی برای بهتر نمایش دادن داده ها ###"
   ]
  },
  {
   "cell_type": "code",
   "id": "d5ae9e42-89b9-4947-b3c8-10b146a9ed4c",
   "metadata": {
    "ExecuteTime": {
     "end_time": "2024-09-13T02:44:25.641332Z",
     "start_time": "2024-09-13T02:43:44.883279Z"
    }
   },
   "source": [
    "df = pd.read_excel(\"comment.xlsx\")\n",
    "df.to_csv(\"comment.csv\", index=False)"
   ],
   "outputs": [],
   "execution_count": 2
  },
  {
   "cell_type": "markdown",
   "id": "0d07a127-7203-42aa-adac-833ce00b299a",
   "metadata": {},
   "source": [
    "# بارگذاری داده ها و نمایش مشخصات داده #"
   ]
  },
  {
   "cell_type": "markdown",
   "id": "e06a9e21-d2a7-4b28-8c91-4454f547146e",
   "metadata": {},
   "source": [
    "دراین قسمت اطلاعات مربوط به داده مان را در هر بخش آن خواهیم داشت"
   ]
  },
  {
   "cell_type": "code",
   "id": "198e6bcb-4617-47fe-ae8b-a00eaf579ae6",
   "metadata": {
    "ExecuteTime": {
     "end_time": "2024-09-13T02:44:26.605013Z",
     "start_time": "2024-09-13T02:44:25.643922Z"
    }
   },
   "source": [
    "comment_data = pd.read_csv(\"comment.csv\")\n",
    "comment_data.info()"
   ],
   "outputs": [
    {
     "name": "stdout",
     "output_type": "stream",
     "text": [
      "<class 'pandas.core.frame.DataFrame'>\n",
      "RangeIndex: 100008 entries, 0 to 100007\n",
      "Data columns (total 3 columns):\n",
      " #   Column        Non-Null Count   Dtype \n",
      "---  ------        --------------   ----- \n",
      " 0   product_id    100008 non-null  int64 \n",
      " 1   confirmed_at  100008 non-null  object\n",
      " 2   comment       99903 non-null   object\n",
      "dtypes: int64(1), object(2)\n",
      "memory usage: 2.3+ MB\n"
     ]
    }
   ],
   "execution_count": 3
  },
  {
   "cell_type": "markdown",
   "id": "160f2283-d7e2-4fb9-a7b6-59b25f93afac",
   "metadata": {},
   "source": [
    "# نمایش پنج ردیف اول داده ها #"
   ]
  },
  {
   "cell_type": "code",
   "id": "58a3f476-1196-4177-8eb5-d2118fee3084",
   "metadata": {
    "ExecuteTime": {
     "end_time": "2024-09-13T02:44:26.643099Z",
     "start_time": "2024-09-13T02:44:26.607279Z"
    }
   },
   "source": [
    "comment_data.head()"
   ],
   "outputs": [
    {
     "data": {
      "text/plain": [
       "   product_id         confirmed_at  \\\n",
       "0       90213  2018-08-23 11:05:47   \n",
       "1       56871  2018-08-23 10:21:53   \n",
       "2       49738  2018-10-13 11:13:39   \n",
       "3      134367  2018-10-17 11:27:57   \n",
       "4      151402  2018-08-23 10:28:47   \n",
       "\n",
       "                                             comment  \n",
       "0  سلام، قبل اینکه نظرم رو بگم میخواستم به یک موض...  \n",
       "1  بوی تند ولی خوشبو داره.ماندگاریش خوبه و هر چقد...  \n",
       "2  متاسفانه عمر مفید این ماشین کم هست و بعد از دو...  \n",
       "3  افا از وقتی من اینو واسه پسرم خریدم همه بچه ها...  \n",
       "4  این تیغ محصول کشور آمریکا هست ( در عکس محصول م...  "
      ],
      "text/html": [
       "<div>\n",
       "<style scoped>\n",
       "    .dataframe tbody tr th:only-of-type {\n",
       "        vertical-align: middle;\n",
       "    }\n",
       "\n",
       "    .dataframe tbody tr th {\n",
       "        vertical-align: top;\n",
       "    }\n",
       "\n",
       "    .dataframe thead th {\n",
       "        text-align: right;\n",
       "    }\n",
       "</style>\n",
       "<table border=\"1\" class=\"dataframe\">\n",
       "  <thead>\n",
       "    <tr style=\"text-align: right;\">\n",
       "      <th></th>\n",
       "      <th>product_id</th>\n",
       "      <th>confirmed_at</th>\n",
       "      <th>comment</th>\n",
       "    </tr>\n",
       "  </thead>\n",
       "  <tbody>\n",
       "    <tr>\n",
       "      <th>0</th>\n",
       "      <td>90213</td>\n",
       "      <td>2018-08-23 11:05:47</td>\n",
       "      <td>سلام، قبل اینکه نظرم رو بگم میخواستم به یک موض...</td>\n",
       "    </tr>\n",
       "    <tr>\n",
       "      <th>1</th>\n",
       "      <td>56871</td>\n",
       "      <td>2018-08-23 10:21:53</td>\n",
       "      <td>بوی تند ولی خوشبو داره.ماندگاریش خوبه و هر چقد...</td>\n",
       "    </tr>\n",
       "    <tr>\n",
       "      <th>2</th>\n",
       "      <td>49738</td>\n",
       "      <td>2018-10-13 11:13:39</td>\n",
       "      <td>متاسفانه عمر مفید این ماشین کم هست و بعد از دو...</td>\n",
       "    </tr>\n",
       "    <tr>\n",
       "      <th>3</th>\n",
       "      <td>134367</td>\n",
       "      <td>2018-10-17 11:27:57</td>\n",
       "      <td>افا از وقتی من اینو واسه پسرم خریدم همه بچه ها...</td>\n",
       "    </tr>\n",
       "    <tr>\n",
       "      <th>4</th>\n",
       "      <td>151402</td>\n",
       "      <td>2018-08-23 10:28:47</td>\n",
       "      <td>این تیغ محصول کشور آمریکا هست ( در عکس محصول م...</td>\n",
       "    </tr>\n",
       "  </tbody>\n",
       "</table>\n",
       "</div>"
      ]
     },
     "execution_count": 4,
     "metadata": {},
     "output_type": "execute_result"
    }
   ],
   "execution_count": 4
  },
  {
   "cell_type": "markdown",
   "id": "47d38382-b8d1-488f-bdba-848806fbdf9a",
   "metadata": {},
   "source": [
    "# نمایش پنج ردیف آخر داده ها #"
   ]
  },
  {
   "cell_type": "markdown",
   "id": "4c8b4a08-6b03-449e-8f56-70e1741afef5",
   "metadata": {},
   "source": [
    "با این کار هم میتوانیم ۵ داده از آخر را ببینیم و حتی مطلع شویم که داده های ماچند سطر هستند"
   ]
  },
  {
   "cell_type": "code",
   "id": "ffe63073-6de7-43e4-8ce2-97d0298b7cf3",
   "metadata": {
    "ExecuteTime": {
     "end_time": "2024-09-13T02:44:26.675158Z",
     "start_time": "2024-09-13T02:44:26.647887Z"
    }
   },
   "source": [
    "comment_data.tail()"
   ],
   "outputs": [
    {
     "data": {
      "text/plain": [
       "        product_id         confirmed_at  \\\n",
       "100003      104998  2018-07-09 21:27:12   \n",
       "100004      333389  2018-07-09 21:26:52   \n",
       "100005      356546  2018-07-09 21:26:30   \n",
       "100006       33874  2018-07-09 21:26:12   \n",
       "100007      318278  2018-07-09 21:26:02   \n",
       "\n",
       "                                                  comment  \n",
       "100003  قیمت مناسبی داره در حال حاضر . با این پول سخت ...  \n",
       "100004  در کل راضیم درسته لنوو با قیمت پایین تر هسته و...  \n",
       "100005  من این محصول رو از بیرون تهیه کردم . و باید بگ...  \n",
       "100006  دوسال و.نیم پیش از دیجی کالا گرفتم. هنوز مثل ر...  \n",
       "100007  با استفاده از این شامپو مشکل خشکی مو و پوست سر...  "
      ],
      "text/html": [
       "<div>\n",
       "<style scoped>\n",
       "    .dataframe tbody tr th:only-of-type {\n",
       "        vertical-align: middle;\n",
       "    }\n",
       "\n",
       "    .dataframe tbody tr th {\n",
       "        vertical-align: top;\n",
       "    }\n",
       "\n",
       "    .dataframe thead th {\n",
       "        text-align: right;\n",
       "    }\n",
       "</style>\n",
       "<table border=\"1\" class=\"dataframe\">\n",
       "  <thead>\n",
       "    <tr style=\"text-align: right;\">\n",
       "      <th></th>\n",
       "      <th>product_id</th>\n",
       "      <th>confirmed_at</th>\n",
       "      <th>comment</th>\n",
       "    </tr>\n",
       "  </thead>\n",
       "  <tbody>\n",
       "    <tr>\n",
       "      <th>100003</th>\n",
       "      <td>104998</td>\n",
       "      <td>2018-07-09 21:27:12</td>\n",
       "      <td>قیمت مناسبی داره در حال حاضر . با این پول سخت ...</td>\n",
       "    </tr>\n",
       "    <tr>\n",
       "      <th>100004</th>\n",
       "      <td>333389</td>\n",
       "      <td>2018-07-09 21:26:52</td>\n",
       "      <td>در کل راضیم درسته لنوو با قیمت پایین تر هسته و...</td>\n",
       "    </tr>\n",
       "    <tr>\n",
       "      <th>100005</th>\n",
       "      <td>356546</td>\n",
       "      <td>2018-07-09 21:26:30</td>\n",
       "      <td>من این محصول رو از بیرون تهیه کردم . و باید بگ...</td>\n",
       "    </tr>\n",
       "    <tr>\n",
       "      <th>100006</th>\n",
       "      <td>33874</td>\n",
       "      <td>2018-07-09 21:26:12</td>\n",
       "      <td>دوسال و.نیم پیش از دیجی کالا گرفتم. هنوز مثل ر...</td>\n",
       "    </tr>\n",
       "    <tr>\n",
       "      <th>100007</th>\n",
       "      <td>318278</td>\n",
       "      <td>2018-07-09 21:26:02</td>\n",
       "      <td>با استفاده از این شامپو مشکل خشکی مو و پوست سر...</td>\n",
       "    </tr>\n",
       "  </tbody>\n",
       "</table>\n",
       "</div>"
      ]
     },
     "execution_count": 5,
     "metadata": {},
     "output_type": "execute_result"
    }
   ],
   "execution_count": 5
  },
  {
   "cell_type": "markdown",
   "id": "8033f06a-e29b-449d-8df9-9b691ec3a99e",
   "metadata": {},
   "source": [
    "# پیش پردازش داده ها #"
   ]
  },
  {
   "cell_type": "markdown",
   "id": "3173ec80-089a-4be8-becf-89bff4e1b880",
   "metadata": {},
   "source": [
    "دراین قسمت اعلان ها و کاراکترهای غیر ضروری رو در کامنت ها رو حذف میکنیم"
   ]
  },
  {
   "cell_type": "code",
   "id": "ef57f55b-3cb1-4f8f-a8cf-a78d73865c4e",
   "metadata": {
    "ExecuteTime": {
     "end_time": "2024-09-13T02:44:27.942200Z",
     "start_time": "2024-09-13T02:44:26.687186Z"
    }
   },
   "source": [
    "def preprocess_text(text_value):\n",
    "    if pd.isna(text_value):\n",
    "        return ''\n",
    "    text = re.sub(r'[^آ-ی\\s]', '', text_value)\n",
    "    return text\n",
    "\n",
    "comment_data[\"comment\"] = comment_data[\"comment\"].apply(preprocess_text)\n",
    "\n",
    "\n",
    "comment_data[[\"comment\"]].head()"
   ],
   "outputs": [
    {
     "data": {
      "text/plain": [
       "                                             comment\n",
       "0  سلام قبل اینکه نظرم رو بگم میخواستم به یک موضو...\n",
       "1  بوی تند ولی خوشبو دارهماندگاریش خوبه و هر چقدر...\n",
       "2  متاسفانه عمر مفید این ماشین کم هست و بعد از دو...\n",
       "3  افا از وقتی من اینو واسه پسرم خریدم همه بچه ها...\n",
       "4  این تیغ محصول کشور آمریکا هست  در عکس محصول مش..."
      ],
      "text/html": [
       "<div>\n",
       "<style scoped>\n",
       "    .dataframe tbody tr th:only-of-type {\n",
       "        vertical-align: middle;\n",
       "    }\n",
       "\n",
       "    .dataframe tbody tr th {\n",
       "        vertical-align: top;\n",
       "    }\n",
       "\n",
       "    .dataframe thead th {\n",
       "        text-align: right;\n",
       "    }\n",
       "</style>\n",
       "<table border=\"1\" class=\"dataframe\">\n",
       "  <thead>\n",
       "    <tr style=\"text-align: right;\">\n",
       "      <th></th>\n",
       "      <th>comment</th>\n",
       "    </tr>\n",
       "  </thead>\n",
       "  <tbody>\n",
       "    <tr>\n",
       "      <th>0</th>\n",
       "      <td>سلام قبل اینکه نظرم رو بگم میخواستم به یک موضو...</td>\n",
       "    </tr>\n",
       "    <tr>\n",
       "      <th>1</th>\n",
       "      <td>بوی تند ولی خوشبو دارهماندگاریش خوبه و هر چقدر...</td>\n",
       "    </tr>\n",
       "    <tr>\n",
       "      <th>2</th>\n",
       "      <td>متاسفانه عمر مفید این ماشین کم هست و بعد از دو...</td>\n",
       "    </tr>\n",
       "    <tr>\n",
       "      <th>3</th>\n",
       "      <td>افا از وقتی من اینو واسه پسرم خریدم همه بچه ها...</td>\n",
       "    </tr>\n",
       "    <tr>\n",
       "      <th>4</th>\n",
       "      <td>این تیغ محصول کشور آمریکا هست  در عکس محصول مش...</td>\n",
       "    </tr>\n",
       "  </tbody>\n",
       "</table>\n",
       "</div>"
      ]
     },
     "execution_count": 6,
     "metadata": {},
     "output_type": "execute_result"
    }
   ],
   "execution_count": 6
  },
  {
   "cell_type": "markdown",
   "id": "31795b52-07fe-4ee0-935f-ea6438faefa2",
   "metadata": {},
   "source": [
    "## persiantools نصب کتابخونه ##"
   ]
  },
  {
   "cell_type": "markdown",
   "id": "c5d76987-d1b3-473c-9768-f6976270bb2a",
   "metadata": {},
   "source": [
    "این کتابخونه برای تبدیل تاریخ و زمان میلادی به شمسی می باشد"
   ]
  },
  {
   "cell_type": "code",
   "id": "c6898a9b-dfb7-4021-8bd6-59cb7b0c5ec6",
   "metadata": {
    "ExecuteTime": {
     "end_time": "2024-09-13T02:44:40.445755Z",
     "start_time": "2024-09-13T02:44:27.947967Z"
    }
   },
   "source": [
    "!pip install persiantools"
   ],
   "outputs": [
    {
     "name": "stdout",
     "output_type": "stream",
     "text": [
      "Requirement already satisfied: persiantools in /opt/anaconda3/lib/python3.12/site-packages (4.2.0)\r\n",
      "Requirement already satisfied: pytz in /opt/anaconda3/lib/python3.12/site-packages (from persiantools) (2024.1)\r\n"
     ]
    }
   ],
   "execution_count": 7
  },
  {
   "cell_type": "markdown",
   "id": "f859a8e4-bd5d-44c3-a509-62635830ad97",
   "metadata": {},
   "source": [
    "# تبدیل تاریخ #"
   ]
  },
  {
   "cell_type": "markdown",
   "id": "3847a1d1-3563-4395-a676-b71c8cafcb46",
   "metadata": {},
   "source": [
    "دراین قسمت تاریخ میلادی رو به شمسی تبدیل کردیمو در یک ستون جدید قرار دادیم همچنین نام ستون تاریخ میلادی رو هم تغییر دادیم"
   ]
  },
  {
   "cell_type": "code",
   "id": "11a4f207-0e64-4a15-876b-d8b251c15279",
   "metadata": {
    "ExecuteTime": {
     "end_time": "2024-09-13T02:44:55.742129Z",
     "start_time": "2024-09-13T02:44:40.451353Z"
    }
   },
   "source": [
    "from persiantools.jdatetime import JalaliDateTime\n",
    "comment_data['confirmed_at'] = pd.to_datetime(comment_data['confirmed_at'])\n",
    "\n",
    "comment_data[\"shamsi_date\"] = comment_data[\"confirmed_at\"].apply(lambda x: JalaliDateTime(x).strftime(\"%Y-%m-%d %H:%M:%S\"))\n",
    "comment_data.rename(columns={\"confirmed_at\": \"miladi_date\"}, inplace=True)\n",
    "comment_data"
   ],
   "outputs": [
    {
     "data": {
      "text/plain": [
       "        product_id         miladi_date  \\\n",
       "0            90213 2018-08-23 11:05:47   \n",
       "1            56871 2018-08-23 10:21:53   \n",
       "2            49738 2018-10-13 11:13:39   \n",
       "3           134367 2018-10-17 11:27:57   \n",
       "4           151402 2018-08-23 10:28:47   \n",
       "...            ...                 ...   \n",
       "100003      104998 2018-07-09 21:27:12   \n",
       "100004      333389 2018-07-09 21:26:52   \n",
       "100005      356546 2018-07-09 21:26:30   \n",
       "100006       33874 2018-07-09 21:26:12   \n",
       "100007      318278 2018-07-09 21:26:02   \n",
       "\n",
       "                                                  comment          shamsi_date  \n",
       "0       سلام قبل اینکه نظرم رو بگم میخواستم به یک موضو...  1397-06-01 11:05:47  \n",
       "1       بوی تند ولی خوشبو دارهماندگاریش خوبه و هر چقدر...  1397-06-01 10:21:53  \n",
       "2       متاسفانه عمر مفید این ماشین کم هست و بعد از دو...  1397-07-21 11:13:39  \n",
       "3       افا از وقتی من اینو واسه پسرم خریدم همه بچه ها...  1397-07-25 11:27:57  \n",
       "4       این تیغ محصول کشور آمریکا هست  در عکس محصول مش...  1397-06-01 10:28:47  \n",
       "...                                                   ...                  ...  \n",
       "100003  قیمت مناسبی داره در حال حاضر  با این پول سخت م...  1397-04-18 21:27:12  \n",
       "100004  در کل راضیم درسته لنوو با قیمت پایین تر هسته و...  1397-04-18 21:26:52  \n",
       "100005  من این محصول رو از بیرون تهیه کردم  و باید بگم...  1397-04-18 21:26:30  \n",
       "100006  دوسال ونیم پیش از دیجی کالا گرفتم هنوز مثل روز...  1397-04-18 21:26:12  \n",
       "100007  با استفاده از این شامپو مشکل خشکی مو و پوست سر...  1397-04-18 21:26:02  \n",
       "\n",
       "[100008 rows x 4 columns]"
      ],
      "text/html": [
       "<div>\n",
       "<style scoped>\n",
       "    .dataframe tbody tr th:only-of-type {\n",
       "        vertical-align: middle;\n",
       "    }\n",
       "\n",
       "    .dataframe tbody tr th {\n",
       "        vertical-align: top;\n",
       "    }\n",
       "\n",
       "    .dataframe thead th {\n",
       "        text-align: right;\n",
       "    }\n",
       "</style>\n",
       "<table border=\"1\" class=\"dataframe\">\n",
       "  <thead>\n",
       "    <tr style=\"text-align: right;\">\n",
       "      <th></th>\n",
       "      <th>product_id</th>\n",
       "      <th>miladi_date</th>\n",
       "      <th>comment</th>\n",
       "      <th>shamsi_date</th>\n",
       "    </tr>\n",
       "  </thead>\n",
       "  <tbody>\n",
       "    <tr>\n",
       "      <th>0</th>\n",
       "      <td>90213</td>\n",
       "      <td>2018-08-23 11:05:47</td>\n",
       "      <td>سلام قبل اینکه نظرم رو بگم میخواستم به یک موضو...</td>\n",
       "      <td>1397-06-01 11:05:47</td>\n",
       "    </tr>\n",
       "    <tr>\n",
       "      <th>1</th>\n",
       "      <td>56871</td>\n",
       "      <td>2018-08-23 10:21:53</td>\n",
       "      <td>بوی تند ولی خوشبو دارهماندگاریش خوبه و هر چقدر...</td>\n",
       "      <td>1397-06-01 10:21:53</td>\n",
       "    </tr>\n",
       "    <tr>\n",
       "      <th>2</th>\n",
       "      <td>49738</td>\n",
       "      <td>2018-10-13 11:13:39</td>\n",
       "      <td>متاسفانه عمر مفید این ماشین کم هست و بعد از دو...</td>\n",
       "      <td>1397-07-21 11:13:39</td>\n",
       "    </tr>\n",
       "    <tr>\n",
       "      <th>3</th>\n",
       "      <td>134367</td>\n",
       "      <td>2018-10-17 11:27:57</td>\n",
       "      <td>افا از وقتی من اینو واسه پسرم خریدم همه بچه ها...</td>\n",
       "      <td>1397-07-25 11:27:57</td>\n",
       "    </tr>\n",
       "    <tr>\n",
       "      <th>4</th>\n",
       "      <td>151402</td>\n",
       "      <td>2018-08-23 10:28:47</td>\n",
       "      <td>این تیغ محصول کشور آمریکا هست  در عکس محصول مش...</td>\n",
       "      <td>1397-06-01 10:28:47</td>\n",
       "    </tr>\n",
       "    <tr>\n",
       "      <th>...</th>\n",
       "      <td>...</td>\n",
       "      <td>...</td>\n",
       "      <td>...</td>\n",
       "      <td>...</td>\n",
       "    </tr>\n",
       "    <tr>\n",
       "      <th>100003</th>\n",
       "      <td>104998</td>\n",
       "      <td>2018-07-09 21:27:12</td>\n",
       "      <td>قیمت مناسبی داره در حال حاضر  با این پول سخت م...</td>\n",
       "      <td>1397-04-18 21:27:12</td>\n",
       "    </tr>\n",
       "    <tr>\n",
       "      <th>100004</th>\n",
       "      <td>333389</td>\n",
       "      <td>2018-07-09 21:26:52</td>\n",
       "      <td>در کل راضیم درسته لنوو با قیمت پایین تر هسته و...</td>\n",
       "      <td>1397-04-18 21:26:52</td>\n",
       "    </tr>\n",
       "    <tr>\n",
       "      <th>100005</th>\n",
       "      <td>356546</td>\n",
       "      <td>2018-07-09 21:26:30</td>\n",
       "      <td>من این محصول رو از بیرون تهیه کردم  و باید بگم...</td>\n",
       "      <td>1397-04-18 21:26:30</td>\n",
       "    </tr>\n",
       "    <tr>\n",
       "      <th>100006</th>\n",
       "      <td>33874</td>\n",
       "      <td>2018-07-09 21:26:12</td>\n",
       "      <td>دوسال ونیم پیش از دیجی کالا گرفتم هنوز مثل روز...</td>\n",
       "      <td>1397-04-18 21:26:12</td>\n",
       "    </tr>\n",
       "    <tr>\n",
       "      <th>100007</th>\n",
       "      <td>318278</td>\n",
       "      <td>2018-07-09 21:26:02</td>\n",
       "      <td>با استفاده از این شامپو مشکل خشکی مو و پوست سر...</td>\n",
       "      <td>1397-04-18 21:26:02</td>\n",
       "    </tr>\n",
       "  </tbody>\n",
       "</table>\n",
       "<p>100008 rows × 4 columns</p>\n",
       "</div>"
      ]
     },
     "execution_count": 8,
     "metadata": {},
     "output_type": "execute_result"
    }
   ],
   "execution_count": 8
  },
  {
   "cell_type": "markdown",
   "id": "cc17b928-85f5-49c0-aab8-95c4d6afe6e3",
   "metadata": {},
   "source": [
    "## تعداد کامنت ها در ماه های موجود ##"
   ]
  },
  {
   "cell_type": "markdown",
   "id": "def6ac07-9209-4961-a6d9-f2f9f5cd8614",
   "metadata": {},
   "source": [
    "در ابتدا یک ستون از ماه ها به دیتای خودمون اضافه کردم و در فایل دیتاهای خود از ماه ۳ تا ۱۰ رو داشتیم که تعداد کامنت ها در هر ماه رو روی نمودار رسم کردم تا از تعداد آن ها در هر ماه با خبر شیم\n",
    "همچنین تعداد دقیق هر کامنت در هر ماه هم نوشته شده است"
   ]
  },
  {
   "cell_type": "code",
   "id": "78340814-93e1-40e1-a67f-2cf5a33e6db9",
   "metadata": {
    "ExecuteTime": {
     "end_time": "2024-09-13T02:44:57.208454Z",
     "start_time": "2024-09-13T02:44:55.744830Z"
    }
   },
   "source": [
    "comment_data['miladi_date'] = pd.to_datetime(comment_data['miladi_date'])\n",
    "\n",
    "comment_data['month'] = comment_data['miladi_date'].dt.month\n",
    "\n",
    "\n",
    "monthly_counts = comment_data['month'].value_counts().sort_index()\n",
    "i = 3\n",
    "for x in monthly_counts:\n",
    "    print(f\"تعداد کامنت ها در ماه {i} = {x}\")\n",
    "    i+=1\n",
    "\n",
    "\n",
    "sns.countplot(x='month', data=comment_data)\n",
    "plt.title(\"The number of comments is from 3 to 10 months\")\n",
    "plt.xlabel(\"Month\")\n",
    "plt.ylabel(\"Number of comments\")\n",
    "\n",
    "\n",
    "plt.tight_layout()\n",
    "plt.show()\n"
   ],
   "outputs": [
    {
     "name": "stdout",
     "output_type": "stream",
     "text": [
      "تعداد کامنت ها در ماه 3 = 4370\n",
      "تعداد کامنت ها در ماه 4 = 33350\n",
      "تعداد کامنت ها در ماه 5 = 26579\n",
      "تعداد کامنت ها در ماه 6 = 26906\n",
      "تعداد کامنت ها در ماه 7 = 7380\n",
      "تعداد کامنت ها در ماه 8 = 319\n",
      "تعداد کامنت ها در ماه 9 = 856\n",
      "تعداد کامنت ها در ماه 10 = 248\n"
     ]
    },
    {
     "data": {
      "text/plain": [
       "<Figure size 640x480 with 1 Axes>"
      ],
      "image/png": "[encoded data removed]"
     },
     "metadata": {},
     "output_type": "display_data"
    }
   ],
   "execution_count": 9
  },
  {
   "cell_type": "markdown",
   "id": "15849b08-802e-4f97-a276-6871d1dd65a2",
   "metadata": {},
   "source": [
    "# پنج آیدی محصول که کامنت های بیشتری دارند #"
   ]
  },
  {
   "cell_type": "markdown",
   "id": "7754d465-c57a-4d2e-ad87-538e1180e5fd",
   "metadata": {},
   "source": [
    "اکنون پنج تا از آیدی محصولی که تعداد بیشترین کامنت هارو داشته پیدا کردم و روی نمودار نمایش دادم تا در ادامه ی کار بتونیم از اون ها استفاده دیگری هم در نتیجه گیری هامون داشته باشیم"
   ]
  },
  {
   "cell_type": "code",
   "id": "dd086f00-18ed-4e7e-8760-0c6bfa53a99f",
   "metadata": {
    "ExecuteTime": {
     "end_time": "2024-09-13T02:44:57.828059Z",
     "start_time": "2024-09-13T02:44:57.218458Z"
    }
   },
   "source": [
    "product_count = Counter(comment_data[\"product_id\"])\n",
    "\n",
    "top_5_products = product_count.most_common(5)\n",
    "top_5_products\n",
    "products, counts = zip(*top_5_products)\n",
    "\n",
    "number = 0\n",
    "for i in range(5):\n",
    "    print(f\"تعداد کامنت های محصول با آیدی {products[number]} => {counts[number]}\")\n",
    "    number+=1\n",
    "\n",
    "\n",
    "pro_list = []\n",
    "for pro in products:\n",
    "    pro_list.append(f\"product_id({pro})\")\n",
    "\n",
    "\n",
    "plt.figure(figsize=(11,5))\n",
    "plt.bar(pro_list[0], counts[0], color='green')\n",
    "plt.bar(pro_list[1], counts[1], color='orange')\n",
    "plt.bar(pro_list[2], counts[2], color='blue')\n",
    "plt.bar(pro_list[3], counts[3], color='purple')\n",
    "plt.bar(pro_list[4], counts[4], color='yellow')\n",
    "plt.show()"
   ],
   "outputs": [
    {
     "name": "stdout",
     "output_type": "stream",
     "text": [
      "تعداد کامنت های محصول با آیدی 531870 => 579\n",
      "تعداد کامنت های محصول با آیدی 356804 => 532\n",
      "تعداد کامنت های محصول با آیدی 467630 => 374\n",
      "تعداد کامنت های محصول با آیدی 180451 => 297\n",
      "تعداد کامنت های محصول با آیدی 327934 => 228\n"
     ]
    },
    {
     "data": {
      "text/plain": [
       "<Figure size 1100x500 with 1 Axes>"
      ],
      "image/png": "[encoded data removed]"
     },
     "metadata": {},
     "output_type": "display_data"
    }
   ],
   "execution_count": 10
  },
  {
   "cell_type": "code",
   "id": "25f1af4c-07dc-4d2f-9947-ec6fbf97948c",
   "metadata": {
    "ExecuteTime": {
     "end_time": "2024-09-13T02:44:57.863581Z",
     "start_time": "2024-09-13T02:44:57.831677Z"
    }
   },
   "source": [
    "comment_data"
   ],
   "outputs": [
    {
     "data": {
      "text/plain": [
       "        product_id         miladi_date  \\\n",
       "0            90213 2018-08-23 11:05:47   \n",
       "1            56871 2018-08-23 10:21:53   \n",
       "2            49738 2018-10-13 11:13:39   \n",
       "3           134367 2018-10-17 11:27:57   \n",
       "4           151402 2018-08-23 10:28:47   \n",
       "...            ...                 ...   \n",
       "100003      104998 2018-07-09 21:27:12   \n",
       "100004      333389 2018-07-09 21:26:52   \n",
       "100005      356546 2018-07-09 21:26:30   \n",
       "100006       33874 2018-07-09 21:26:12   \n",
       "100007      318278 2018-07-09 21:26:02   \n",
       "\n",
       "                                                  comment  \\\n",
       "0       سلام قبل اینکه نظرم رو بگم میخواستم به یک موضو...   \n",
       "1       بوی تند ولی خوشبو دارهماندگاریش خوبه و هر چقدر...   \n",
       "2       متاسفانه عمر مفید این ماشین کم هست و بعد از دو...   \n",
       "3       افا از وقتی من اینو واسه پسرم خریدم همه بچه ها...   \n",
       "4       این تیغ محصول کشور آمریکا هست  در عکس محصول مش...   \n",
       "...                                                   ...   \n",
       "100003  قیمت مناسبی داره در حال حاضر  با این پول سخت م...   \n",
       "100004  در کل راضیم درسته لنوو با قیمت پایین تر هسته و...   \n",
       "100005  من این محصول رو از بیرون تهیه کردم  و باید بگم...   \n",
       "100006  دوسال ونیم پیش از دیجی کالا گرفتم هنوز مثل روز...   \n",
       "100007  با استفاده از این شامپو مشکل خشکی مو و پوست سر...   \n",
       "\n",
       "                shamsi_date  month  \n",
       "0       1397-06-01 11:05:47      8  \n",
       "1       1397-06-01 10:21:53      8  \n",
       "2       1397-07-21 11:13:39     10  \n",
       "3       1397-07-25 11:27:57     10  \n",
       "4       1397-06-01 10:28:47      8  \n",
       "...                     ...    ...  \n",
       "100003  1397-04-18 21:27:12      7  \n",
       "100004  1397-04-18 21:26:52      7  \n",
       "100005  1397-04-18 21:26:30      7  \n",
       "100006  1397-04-18 21:26:12      7  \n",
       "100007  1397-04-18 21:26:02      7  \n",
       "\n",
       "[100008 rows x 5 columns]"
      ],
      "text/html": [
       "<div>\n",
       "<style scoped>\n",
       "    .dataframe tbody tr th:only-of-type {\n",
       "        vertical-align: middle;\n",
       "    }\n",
       "\n",
       "    .dataframe tbody tr th {\n",
       "        vertical-align: top;\n",
       "    }\n",
       "\n",
       "    .dataframe thead th {\n",
       "        text-align: right;\n",
       "    }\n",
       "</style>\n",
       "<table border=\"1\" class=\"dataframe\">\n",
       "  <thead>\n",
       "    <tr style=\"text-align: right;\">\n",
       "      <th></th>\n",
       "      <th>product_id</th>\n",
       "      <th>miladi_date</th>\n",
       "      <th>comment</th>\n",
       "      <th>shamsi_date</th>\n",
       "      <th>month</th>\n",
       "    </tr>\n",
       "  </thead>\n",
       "  <tbody>\n",
       "    <tr>\n",
       "      <th>0</th>\n",
       "      <td>90213</td>\n",
       "      <td>2018-08-23 11:05:47</td>\n",
       "      <td>سلام قبل اینکه نظرم رو بگم میخواستم به یک موضو...</td>\n",
       "      <td>1397-06-01 11:05:47</td>\n",
       "      <td>8</td>\n",
       "    </tr>\n",
       "    <tr>\n",
       "      <th>1</th>\n",
       "      <td>56871</td>\n",
       "      <td>2018-08-23 10:21:53</td>\n",
       "      <td>بوی تند ولی خوشبو دارهماندگاریش خوبه و هر چقدر...</td>\n",
       "      <td>1397-06-01 10:21:53</td>\n",
       "      <td>8</td>\n",
       "    </tr>\n",
       "    <tr>\n",
       "      <th>2</th>\n",
       "      <td>49738</td>\n",
       "      <td>2018-10-13 11:13:39</td>\n",
       "      <td>متاسفانه عمر مفید این ماشین کم هست و بعد از دو...</td>\n",
       "      <td>1397-07-21 11:13:39</td>\n",
       "      <td>10</td>\n",
       "    </tr>\n",
       "    <tr>\n",
       "      <th>3</th>\n",
       "      <td>134367</td>\n",
       "      <td>2018-10-17 11:27:57</td>\n",
       "      <td>افا از وقتی من اینو واسه پسرم خریدم همه بچه ها...</td>\n",
       "      <td>1397-07-25 11:27:57</td>\n",
       "      <td>10</td>\n",
       "    </tr>\n",
       "    <tr>\n",
       "      <th>4</th>\n",
       "      <td>151402</td>\n",
       "      <td>2018-08-23 10:28:47</td>\n",
       "      <td>این تیغ محصول کشور آمریکا هست  در عکس محصول مش...</td>\n",
       "      <td>1397-06-01 10:28:47</td>\n",
       "      <td>8</td>\n",
       "    </tr>\n",
       "    <tr>\n",
       "      <th>...</th>\n",
       "      <td>...</td>\n",
       "      <td>...</td>\n",
       "      <td>...</td>\n",
       "      <td>...</td>\n",
       "      <td>...</td>\n",
       "    </tr>\n",
       "    <tr>\n",
       "      <th>100003</th>\n",
       "      <td>104998</td>\n",
       "      <td>2018-07-09 21:27:12</td>\n",
       "      <td>قیمت مناسبی داره در حال حاضر  با این پول سخت م...</td>\n",
       "      <td>1397-04-18 21:27:12</td>\n",
       "      <td>7</td>\n",
       "    </tr>\n",
       "    <tr>\n",
       "      <th>100004</th>\n",
       "      <td>333389</td>\n",
       "      <td>2018-07-09 21:26:52</td>\n",
       "      <td>در کل راضیم درسته لنوو با قیمت پایین تر هسته و...</td>\n",
       "      <td>1397-04-18 21:26:52</td>\n",
       "      <td>7</td>\n",
       "    </tr>\n",
       "    <tr>\n",
       "      <th>100005</th>\n",
       "      <td>356546</td>\n",
       "      <td>2018-07-09 21:26:30</td>\n",
       "      <td>من این محصول رو از بیرون تهیه کردم  و باید بگم...</td>\n",
       "      <td>1397-04-18 21:26:30</td>\n",
       "      <td>7</td>\n",
       "    </tr>\n",
       "    <tr>\n",
       "      <th>100006</th>\n",
       "      <td>33874</td>\n",
       "      <td>2018-07-09 21:26:12</td>\n",
       "      <td>دوسال ونیم پیش از دیجی کالا گرفتم هنوز مثل روز...</td>\n",
       "      <td>1397-04-18 21:26:12</td>\n",
       "      <td>7</td>\n",
       "    </tr>\n",
       "    <tr>\n",
       "      <th>100007</th>\n",
       "      <td>318278</td>\n",
       "      <td>2018-07-09 21:26:02</td>\n",
       "      <td>با استفاده از این شامپو مشکل خشکی مو و پوست سر...</td>\n",
       "      <td>1397-04-18 21:26:02</td>\n",
       "      <td>7</td>\n",
       "    </tr>\n",
       "  </tbody>\n",
       "</table>\n",
       "<p>100008 rows × 5 columns</p>\n",
       "</div>"
      ]
     },
     "execution_count": 11,
     "metadata": {},
     "output_type": "execute_result"
    }
   ],
   "execution_count": 11
  },
  {
   "cell_type": "markdown",
   "id": "94e8b36a-f266-424c-8bf1-7d741b9719b3",
   "metadata": {},
   "source": [
    "# شروع تحلیل روی دیتای محصولات #"
   ]
  },
  {
   "cell_type": "markdown",
   "id": "4310e5f1-500a-45e1-9122-2c3ab058ef58",
   "metadata": {},
   "source": [
    "ابتدا فایل اکسل محصولات رو به سی اس وی تبدیل کردیم "
   ]
  },
  {
   "cell_type": "code",
   "id": "99b85d84-e06b-4de6-9000-b3fe407fa8ea",
   "metadata": {
    "ExecuteTime": {
     "end_time": "2024-09-13T02:45:18.941159Z",
     "start_time": "2024-09-13T02:44:57.869995Z"
    }
   },
   "source": [
    "product_data = pd.read_excel(\"product.xlsx\")\n",
    "product_data.to_csv(\"product.csv\", index=False)"
   ],
   "outputs": [],
   "execution_count": 12
  },
  {
   "cell_type": "markdown",
   "id": "cf7d64bd-5409-4e5c-9953-ef373ece46e7",
   "metadata": {},
   "source": [
    "## باز خوانی فایل محصولات و دریافت مشخصات آن ##"
   ]
  },
  {
   "cell_type": "code",
   "id": "44df91a9-bdac-42d3-9c58-e4b8a63141e9",
   "metadata": {
    "ExecuteTime": {
     "end_time": "2024-09-13T02:45:19.947646Z",
     "start_time": "2024-09-13T02:45:18.944366Z"
    }
   },
   "source": [
    "product_data = pd.read_csv(\"product.csv\")\n",
    "product_data.info()"
   ],
   "outputs": [
    {
     "name": "stdout",
     "output_type": "stream",
     "text": [
      "<class 'pandas.core.frame.DataFrame'>\n",
      "RangeIndex: 100000 entries, 0 to 99999\n",
      "Data columns (total 10 columns):\n",
      " #   Column              Non-Null Count   Dtype \n",
      "---  ------              --------------   ----- \n",
      " 0   id                  100000 non-null  int64 \n",
      " 1   product_title_fa    100000 non-null  object\n",
      " 2   product_title_en    21165 non-null   object\n",
      " 3   url_code            99983 non-null   object\n",
      " 4   title_alt           77432 non-null   object\n",
      " 5   category_title_fa   100000 non-null  object\n",
      " 6   category_keywords   99740 non-null   object\n",
      " 7   brand_name_fa       100000 non-null  object\n",
      " 8   brand_name_en       100000 non-null  object\n",
      " 9   product_attributes  3050 non-null    object\n",
      "dtypes: int64(1), object(9)\n",
      "memory usage: 7.6+ MB\n"
     ]
    },
    {
     "name": "stderr",
     "output_type": "stream",
     "text": [
      "/var/folders/9y/k_l50h914nlb85lnwqgg91y40000gn/T/ipykernel_24960/2571833684.py:1: DtypeWarning: Columns (9) have mixed types. Specify dtype option on import or set low_memory=False.\n",
      "  product_data = pd.read_csv(\"product.csv\")\n"
     ]
    }
   ],
   "execution_count": 13
  },
  {
   "cell_type": "markdown",
   "id": "b1860f59-0220-4ab4-8004-fe8a80321bdb",
   "metadata": {},
   "source": [
    "## دریافت پنج ردیف اول محصولات ##"
   ]
  },
  {
   "cell_type": "code",
   "id": "49162a85-d6eb-4d22-ada1-08c391616f1f",
   "metadata": {
    "ExecuteTime": {
     "end_time": "2024-09-13T02:45:19.979861Z",
     "start_time": "2024-09-13T02:45:19.949919Z"
    }
   },
   "source": [
    "product_data.head()"
   ],
   "outputs": [
    {
     "data": {
      "text/plain": [
       "       id                                   product_title_fa  \\\n",
       "0  723302            ماگ حرارتی لومانا مدل عرفانه کد MAG1042   \n",
       "1  727089       ست آبکش و آبگیر تیتیز مدل AP-9141 سایز متوسط   \n",
       "2  727096  روغن مرطوب کننده کدلی مدل Divine oil حجم 50 می...   \n",
       "3  727803  ست لحاف پوپلین هوبی مدل اما یکنفره چهار تکه کاوری   \n",
       "4  725222                         ماگ آبنبات رنگی مدل AR0143   \n",
       "\n",
       "                         product_title_en  \\\n",
       "0                                     NaN   \n",
       "1                                     NaN   \n",
       "2                                     NaN   \n",
       "3  Hobby Emma Quilt Single Set - 4 Pieces   \n",
       "4                                     NaN   \n",
       "\n",
       "                                            url_code  \\\n",
       "0            ماگ-حرارتی-لومانا-مدل-عرفانه-کد-mag1042   \n",
       "1       ست-آبکش-و-آبگیر-تیتیز-مدل-ap-9141-سایز-متوسط   \n",
       "2  روغن-مرطوب-کننده-کدلی-مدل-divine-oil-حجم-50-می...   \n",
       "3  ست-لحاف-پوپلین-هوبی-مدل-اما-یکنفره-چهار-تکه-کاوری   \n",
       "4                         ماگ-آبنبات-رنگی-مدل-ar0143   \n",
       "\n",
       "                                           title_alt   category_title_fa  \\\n",
       "0  mug، لیوان ، ماگ ، فنجان ، لیوان دسته دار ، لو...  ماگ، لیوان و فنجان   \n",
       "1  ;hsi, steel, کاسه، کاسه بامبو، لگن، کالا خانه ...        آبکش و آبگیر   \n",
       "2                                                NaN           روغن صورت   \n",
       "3  روتختی اسپرت، اما، emma، روتختی یکنفره، لحاف ی...          سرویس خواب   \n",
       "4      ماگ آبنبات رنگی،شذدشذشفقشدله،Mag Abnabatrangi  ماگ، لیوان و فنجان   \n",
       "\n",
       "              category_keywords brand_name_fa  brand_name_en  \\\n",
       "0  ماگ، لیوان و فنجان CupandMug        لومانا         Lomana   \n",
       "1       آبکش و آبگیر VirgoBasin         تیتیز          Titiz   \n",
       "2            روغن صورت Face-Oil          کدلی       CAUDALIE   \n",
       "3           سرویس خواب SleepSet          هوبی          Hobby   \n",
       "4  ماگ، لیوان و فنجان CupandMug        متفرقه  Miscellaneous   \n",
       "\n",
       "                                  product_attributes  \n",
       "0  [{\"Key\":\"وزن بسته‌بندی\",\"Value\":\"480\"},{\"Key\":...  \n",
       "1  [{\"Key\":\"دستگیره\",\"Value\":\"1 جفت\"},{\"Key\":\"نوع...  \n",
       "2  [{\"Key\":\"حجم\",\"Value\":\"50\"},{\"Key\":\"نوع عصاره\"...  \n",
       "3  [{\"Key\":\"ابعاد رو بالشی\",\"Value\":\"50×70\"},{\"Ke...  \n",
       "4  [{\"Key\":\"در\",\"Value\":\"ندارد\"},{\"Key\":\"جنس\",\"Va...  "
      ],
      "text/html": [
       "<div>\n",
       "<style scoped>\n",
       "    .dataframe tbody tr th:only-of-type {\n",
       "        vertical-align: middle;\n",
       "    }\n",
       "\n",
       "    .dataframe tbody tr th {\n",
       "        vertical-align: top;\n",
       "    }\n",
       "\n",
       "    .dataframe thead th {\n",
       "        text-align: right;\n",
       "    }\n",
       "</style>\n",
       "<table border=\"1\" class=\"dataframe\">\n",
       "  <thead>\n",
       "    <tr style=\"text-align: right;\">\n",
       "      <th></th>\n",
       "      <th>id</th>\n",
       "      <th>product_title_fa</th>\n",
       "      <th>product_title_en</th>\n",
       "      <th>url_code</th>\n",
       "      <th>title_alt</th>\n",
       "      <th>category_title_fa</th>\n",
       "      <th>category_keywords</th>\n",
       "      <th>brand_name_fa</th>\n",
       "      <th>brand_name_en</th>\n",
       "      <th>product_attributes</th>\n",
       "    </tr>\n",
       "  </thead>\n",
       "  <tbody>\n",
       "    <tr>\n",
       "      <th>0</th>\n",
       "      <td>723302</td>\n",
       "      <td>ماگ حرارتی لومانا مدل عرفانه کد MAG1042</td>\n",
       "      <td>NaN</td>\n",
       "      <td>ماگ-حرارتی-لومانا-مدل-عرفانه-کد-mag1042</td>\n",
       "      <td>mug، لیوان ، ماگ ، فنجان ، لیوان دسته دار ، لو...</td>\n",
       "      <td>ماگ، لیوان و فنجان</td>\n",
       "      <td>ماگ، لیوان و فنجان CupandMug</td>\n",
       "      <td>لومانا</td>\n",
       "      <td>Lomana</td>\n",
       "      <td>[{\"Key\":\"وزن بسته‌بندی\",\"Value\":\"480\"},{\"Key\":...</td>\n",
       "    </tr>\n",
       "    <tr>\n",
       "      <th>1</th>\n",
       "      <td>727089</td>\n",
       "      <td>ست آبکش و آبگیر تیتیز مدل AP-9141 سایز متوسط</td>\n",
       "      <td>NaN</td>\n",
       "      <td>ست-آبکش-و-آبگیر-تیتیز-مدل-ap-9141-سایز-متوسط</td>\n",
       "      <td>;hsi, steel, کاسه، کاسه بامبو، لگن، کالا خانه ...</td>\n",
       "      <td>آبکش و آبگیر</td>\n",
       "      <td>آبکش و آبگیر VirgoBasin</td>\n",
       "      <td>تیتیز</td>\n",
       "      <td>Titiz</td>\n",
       "      <td>[{\"Key\":\"دستگیره\",\"Value\":\"1 جفت\"},{\"Key\":\"نوع...</td>\n",
       "    </tr>\n",
       "    <tr>\n",
       "      <th>2</th>\n",
       "      <td>727096</td>\n",
       "      <td>روغن مرطوب کننده کدلی مدل Divine oil حجم 50 می...</td>\n",
       "      <td>NaN</td>\n",
       "      <td>روغن-مرطوب-کننده-کدلی-مدل-divine-oil-حجم-50-می...</td>\n",
       "      <td>NaN</td>\n",
       "      <td>روغن صورت</td>\n",
       "      <td>روغن صورت Face-Oil</td>\n",
       "      <td>کدلی</td>\n",
       "      <td>CAUDALIE</td>\n",
       "      <td>[{\"Key\":\"حجم\",\"Value\":\"50\"},{\"Key\":\"نوع عصاره\"...</td>\n",
       "    </tr>\n",
       "    <tr>\n",
       "      <th>3</th>\n",
       "      <td>727803</td>\n",
       "      <td>ست لحاف پوپلین هوبی مدل اما یکنفره چهار تکه کاوری</td>\n",
       "      <td>Hobby Emma Quilt Single Set - 4 Pieces</td>\n",
       "      <td>ست-لحاف-پوپلین-هوبی-مدل-اما-یکنفره-چهار-تکه-کاوری</td>\n",
       "      <td>روتختی اسپرت، اما، emma، روتختی یکنفره، لحاف ی...</td>\n",
       "      <td>سرویس خواب</td>\n",
       "      <td>سرویس خواب SleepSet</td>\n",
       "      <td>هوبی</td>\n",
       "      <td>Hobby</td>\n",
       "      <td>[{\"Key\":\"ابعاد رو بالشی\",\"Value\":\"50×70\"},{\"Ke...</td>\n",
       "    </tr>\n",
       "    <tr>\n",
       "      <th>4</th>\n",
       "      <td>725222</td>\n",
       "      <td>ماگ آبنبات رنگی مدل AR0143</td>\n",
       "      <td>NaN</td>\n",
       "      <td>ماگ-آبنبات-رنگی-مدل-ar0143</td>\n",
       "      <td>ماگ آبنبات رنگی،شذدشذشفقشدله،Mag Abnabatrangi</td>\n",
       "      <td>ماگ، لیوان و فنجان</td>\n",
       "      <td>ماگ، لیوان و فنجان CupandMug</td>\n",
       "      <td>متفرقه</td>\n",
       "      <td>Miscellaneous</td>\n",
       "      <td>[{\"Key\":\"در\",\"Value\":\"ندارد\"},{\"Key\":\"جنس\",\"Va...</td>\n",
       "    </tr>\n",
       "  </tbody>\n",
       "</table>\n",
       "</div>"
      ]
     },
     "execution_count": 14,
     "metadata": {},
     "output_type": "execute_result"
    }
   ],
   "execution_count": 14
  },
  {
   "cell_type": "markdown",
   "id": "0ecab6d2-5197-444d-9847-b2c8bcb7ac18",
   "metadata": {},
   "source": [
    "## دریافت پنج ردیف آخر دیتای محصولات ##"
   ]
  },
  {
   "cell_type": "code",
   "id": "a5bd3415-4a7e-4840-8f80-ee9dc5941167",
   "metadata": {
    "ExecuteTime": {
     "end_time": "2024-09-13T02:45:20.008257Z",
     "start_time": "2024-09-13T02:45:19.984652Z"
    }
   },
   "source": [
    "product_data.tail()"
   ],
   "outputs": [
    {
     "data": {
      "text/plain": [
       "           id                                   product_title_fa  \\\n",
       "99995  803375                    سوتین زنانه طرح گل کد 262014527   \n",
       "99996  790932  محافظ صفحه نمایش مدل نانو گلس مناسب برای گوشی ...   \n",
       "99997  786604                        تابلو نوشته تکس پیک مدل A63   \n",
       "99998  799047                          سینی  برایتون مدل BT-8387   \n",
       "99999  782276             تیشرت زنانه تارپون طرح فانتزی کد 10532   \n",
       "\n",
       "      product_title_en                                           url_code  \\\n",
       "99995              NaN                    سوتین-زنانه-طرح-گل-کد-262014527   \n",
       "99996              NaN  محافظ-صفحه-نمایش-مدل-نانو-گلس-مناسب-برای-گوشی-...   \n",
       "99997              NaN                        تابلو-نوشته-تکس-پیک-مدل-a63   \n",
       "99998              NaN                           سینی-برایتون-مدل-bt-8387   \n",
       "99999              NaN             تیشرت-زنانه-تارپون-طرح-فانتزی-کد-10532   \n",
       "\n",
       "                                               title_alt  \\\n",
       "99995  لباس زیر، کتان، سوتین، شورت و سوتین، توری، جک ...   \n",
       "99996  نانو گلس سامسونگ J7 Pro  ، محافظ صفحه نمایش ،ن...   \n",
       "99997  عکس نوشته,تابلونوشته,تکستگرافی,تابلوعکس,تابلو ...   \n",
       "99998                          سینی، سینی چای،  sdkd ]hd   \n",
       "99999  تیشرت، تیشرت آستین کوتاه، تیشرت تارپون، تیشرت ...   \n",
       "\n",
       "            category_title_fa                              category_keywords  \\\n",
       "99995                   سوتین                             سوتین Women-UW-Bra   \n",
       "99996   محافظ صفحه نمایش گوشی  محافظ صفحه نمایش گوشی Cell-Phone-Screen-Guard   \n",
       "99997              تابلو شاسی                             تابلو شاسی Chassis   \n",
       "99998                    سینی                                      سینی Tray   \n",
       "99999  تی‌شرت و پولوشرت زنانه    تی‌شرت و پولوشرت زنانه womens-tshirts-polos   \n",
       "\n",
       "      brand_name_fa  brand_name_en product_attributes  \n",
       "99995        متفرقه  Miscellaneous                NaN  \n",
       "99996        متفرقه  Miscellaneous                NaN  \n",
       "99997        متفرقه  Miscellaneous                NaN  \n",
       "99998       برایتون         briton                NaN  \n",
       "99999        تارپون         tarpon                NaN  "
      ],
      "text/html": [
       "<div>\n",
       "<style scoped>\n",
       "    .dataframe tbody tr th:only-of-type {\n",
       "        vertical-align: middle;\n",
       "    }\n",
       "\n",
       "    .dataframe tbody tr th {\n",
       "        vertical-align: top;\n",
       "    }\n",
       "\n",
       "    .dataframe thead th {\n",
       "        text-align: right;\n",
       "    }\n",
       "</style>\n",
       "<table border=\"1\" class=\"dataframe\">\n",
       "  <thead>\n",
       "    <tr style=\"text-align: right;\">\n",
       "      <th></th>\n",
       "      <th>id</th>\n",
       "      <th>product_title_fa</th>\n",
       "      <th>product_title_en</th>\n",
       "      <th>url_code</th>\n",
       "      <th>title_alt</th>\n",
       "      <th>category_title_fa</th>\n",
       "      <th>category_keywords</th>\n",
       "      <th>brand_name_fa</th>\n",
       "      <th>brand_name_en</th>\n",
       "      <th>product_attributes</th>\n",
       "    </tr>\n",
       "  </thead>\n",
       "  <tbody>\n",
       "    <tr>\n",
       "      <th>99995</th>\n",
       "      <td>803375</td>\n",
       "      <td>سوتین زنانه طرح گل کد 262014527</td>\n",
       "      <td>NaN</td>\n",
       "      <td>سوتین-زنانه-طرح-گل-کد-262014527</td>\n",
       "      <td>لباس زیر، کتان، سوتین، شورت و سوتین، توری، جک ...</td>\n",
       "      <td>سوتین</td>\n",
       "      <td>سوتین Women-UW-Bra</td>\n",
       "      <td>متفرقه</td>\n",
       "      <td>Miscellaneous</td>\n",
       "      <td>NaN</td>\n",
       "    </tr>\n",
       "    <tr>\n",
       "      <th>99996</th>\n",
       "      <td>790932</td>\n",
       "      <td>محافظ صفحه نمایش مدل نانو گلس مناسب برای گوشی ...</td>\n",
       "      <td>NaN</td>\n",
       "      <td>محافظ-صفحه-نمایش-مدل-نانو-گلس-مناسب-برای-گوشی-...</td>\n",
       "      <td>نانو گلس سامسونگ J7 Pro  ، محافظ صفحه نمایش ،ن...</td>\n",
       "      <td>محافظ صفحه نمایش گوشی</td>\n",
       "      <td>محافظ صفحه نمایش گوشی Cell-Phone-Screen-Guard</td>\n",
       "      <td>متفرقه</td>\n",
       "      <td>Miscellaneous</td>\n",
       "      <td>NaN</td>\n",
       "    </tr>\n",
       "    <tr>\n",
       "      <th>99997</th>\n",
       "      <td>786604</td>\n",
       "      <td>تابلو نوشته تکس پیک مدل A63</td>\n",
       "      <td>NaN</td>\n",
       "      <td>تابلو-نوشته-تکس-پیک-مدل-a63</td>\n",
       "      <td>عکس نوشته,تابلونوشته,تکستگرافی,تابلوعکس,تابلو ...</td>\n",
       "      <td>تابلو شاسی</td>\n",
       "      <td>تابلو شاسی Chassis</td>\n",
       "      <td>متفرقه</td>\n",
       "      <td>Miscellaneous</td>\n",
       "      <td>NaN</td>\n",
       "    </tr>\n",
       "    <tr>\n",
       "      <th>99998</th>\n",
       "      <td>799047</td>\n",
       "      <td>سینی  برایتون مدل BT-8387</td>\n",
       "      <td>NaN</td>\n",
       "      <td>سینی-برایتون-مدل-bt-8387</td>\n",
       "      <td>سینی، سینی چای،  sdkd ]hd</td>\n",
       "      <td>سینی</td>\n",
       "      <td>سینی Tray</td>\n",
       "      <td>برایتون</td>\n",
       "      <td>briton</td>\n",
       "      <td>NaN</td>\n",
       "    </tr>\n",
       "    <tr>\n",
       "      <th>99999</th>\n",
       "      <td>782276</td>\n",
       "      <td>تیشرت زنانه تارپون طرح فانتزی کد 10532</td>\n",
       "      <td>NaN</td>\n",
       "      <td>تیشرت-زنانه-تارپون-طرح-فانتزی-کد-10532</td>\n",
       "      <td>تیشرت، تیشرت آستین کوتاه، تیشرت تارپون، تیشرت ...</td>\n",
       "      <td>تی‌شرت و پولوشرت زنانه</td>\n",
       "      <td>تی‌شرت و پولوشرت زنانه womens-tshirts-polos</td>\n",
       "      <td>تارپون</td>\n",
       "      <td>tarpon</td>\n",
       "      <td>NaN</td>\n",
       "    </tr>\n",
       "  </tbody>\n",
       "</table>\n",
       "</div>"
      ]
     },
     "execution_count": 15,
     "metadata": {},
     "output_type": "execute_result"
    }
   ],
   "execution_count": 15
  },
  {
   "cell_type": "code",
   "id": "080863a9-10c3-4198-85ae-1b8b81e57d07",
   "metadata": {
    "ExecuteTime": {
     "end_time": "2024-09-13T02:45:20.086611Z",
     "start_time": "2024-09-13T02:45:20.015351Z"
    }
   },
   "source": [
    "id_count = Counter(product_data[\"id\"])\n",
    "top_5_id = id_count.most_common(5)\n",
    "top_5_id"
   ],
   "outputs": [
    {
     "data": {
      "text/plain": [
       "[(723302, 1), (727089, 1), (727096, 1), (727803, 1), (725222, 1)]"
      ]
     },
     "execution_count": 16,
     "metadata": {},
     "output_type": "execute_result"
    }
   ],
   "execution_count": 16
  },
  {
   "cell_type": "code",
   "execution_count": null,
   "id": "fce84949-2033-4196-b4d7-f22925da205d",
   "metadata": {},
   "outputs": [],
   "source": []
  }
 ],
 "metadata": {
  "kernelspec": {
   "display_name": "Python 3 (ipykernel)",
   "language": "python",
   "name": "python3"
  },
  "language_info": {
   "codemirror_mode": {
    "name": "ipython",
    "version": 3
   },
   "file_extension": ".py",
   "mimetype": "text/x-python",
   "name": "python",
   "nbconvert_exporter": "python",
   "pygments_lexer": "ipython3",
   "version": "3.12.4"
  }
 },
 "nbformat": 4,
 "nbformat_minor": 5
}
