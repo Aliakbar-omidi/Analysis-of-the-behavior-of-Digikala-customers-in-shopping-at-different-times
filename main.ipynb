{
 "cells": [
  {
   "cell_type": "markdown",
   "id": "a207e14f-a55a-455f-9805-9fea2a1db60d",
   "metadata": {},
   "source": [
    " ### تبدیل فایل اکسل کامنت ها به سی اس وی برای بهتر نمایش دادن داده ها ###"
   ]
  },
  {
   "cell_type": "code",
   "execution_count": 5,
   "id": "d5ae9e42-89b9-4947-b3c8-10b146a9ed4c",
   "metadata": {},
   "outputs": [],
   "source": [
    "import pandas as pd\n",
    "\n",
    "df = pd.read_excel(\"comment.xlsx\")\n",
    "df.to_csv(\"comment.csv\", index=False)"
   ]
  },
  {
   "cell_type": "markdown",
   "id": "0d07a127-7203-42aa-adac-833ce00b299a",
   "metadata": {},
   "source": [
    "# بارگذاری داده ها و نمایش مشخصات داده #"
   ]
  },
  {
   "cell_type": "markdown",
   "id": "e06a9e21-d2a7-4b28-8c91-4454f547146e",
   "metadata": {},
   "source": [
    "دراین قسمت اطلاعات مربوط به داده مان را در هر بخش آن خواهیم داشت"
   ]
  },
  {
   "cell_type": "code",
   "execution_count": 31,
   "id": "198e6bcb-4617-47fe-ae8b-a00eaf579ae6",
   "metadata": {},
   "outputs": [
    {
     "name": "stdout",
     "output_type": "stream",
     "text": [
      "<class 'pandas.core.frame.DataFrame'>\n",
      "RangeIndex: 100008 entries, 0 to 100007\n",
      "Data columns (total 3 columns):\n",
      " #   Column        Non-Null Count   Dtype \n",
      "---  ------        --------------   ----- \n",
      " 0   product_id    100008 non-null  int64 \n",
      " 1   confirmed_at  100008 non-null  object\n",
      " 2   comment       99903 non-null   object\n",
      "dtypes: int64(1), object(2)\n",
      "memory usage: 2.3+ MB\n"
     ]
    }
   ],
   "source": [
    "data = pd.read_csv(\"comment.csv\")\n",
    "data.info()"
   ]
  },
  {
   "cell_type": "markdown",
   "id": "160f2283-d7e2-4fb9-a7b6-59b25f93afac",
   "metadata": {},
   "source": [
    "# نمایش پنج ردیف اول داده ها #"
   ]
  },
  {
   "cell_type": "code",
   "execution_count": 34,
   "id": "58a3f476-1196-4177-8eb5-d2118fee3084",
   "metadata": {},
   "outputs": [
    {
     "data": {
      "text/html": [
       "<div>\n",
       "<style scoped>\n",
       "    .dataframe tbody tr th:only-of-type {\n",
       "        vertical-align: middle;\n",
       "    }\n",
       "\n",
       "    .dataframe tbody tr th {\n",
       "        vertical-align: top;\n",
       "    }\n",
       "\n",
       "    .dataframe thead th {\n",
       "        text-align: right;\n",
       "    }\n",
       "</style>\n",
       "<table border=\"1\" class=\"dataframe\">\n",
       "  <thead>\n",
       "    <tr style=\"text-align: right;\">\n",
       "      <th></th>\n",
       "      <th>product_id</th>\n",
       "      <th>confirmed_at</th>\n",
       "      <th>comment</th>\n",
       "    </tr>\n",
       "  </thead>\n",
       "  <tbody>\n",
       "    <tr>\n",
       "      <th>0</th>\n",
       "      <td>90213</td>\n",
       "      <td>2018-08-23 11:05:47</td>\n",
       "      <td>سلام، قبل اینکه نظرم رو بگم میخواستم به یک موض...</td>\n",
       "    </tr>\n",
       "    <tr>\n",
       "      <th>1</th>\n",
       "      <td>56871</td>\n",
       "      <td>2018-08-23 10:21:53</td>\n",
       "      <td>بوی تند ولی خوشبو داره.ماندگاریش خوبه و هر چقد...</td>\n",
       "    </tr>\n",
       "    <tr>\n",
       "      <th>2</th>\n",
       "      <td>49738</td>\n",
       "      <td>2018-10-13 11:13:39</td>\n",
       "      <td>متاسفانه عمر مفید این ماشین کم هست و بعد از دو...</td>\n",
       "    </tr>\n",
       "    <tr>\n",
       "      <th>3</th>\n",
       "      <td>134367</td>\n",
       "      <td>2018-10-17 11:27:57</td>\n",
       "      <td>افا از وقتی من اینو واسه پسرم خریدم همه بچه ها...</td>\n",
       "    </tr>\n",
       "    <tr>\n",
       "      <th>4</th>\n",
       "      <td>151402</td>\n",
       "      <td>2018-08-23 10:28:47</td>\n",
       "      <td>این تیغ محصول کشور آمریکا هست ( در عکس محصول م...</td>\n",
       "    </tr>\n",
       "  </tbody>\n",
       "</table>\n",
       "</div>"
      ],
      "text/plain": [
       "   product_id         confirmed_at  \\\n",
       "0       90213  2018-08-23 11:05:47   \n",
       "1       56871  2018-08-23 10:21:53   \n",
       "2       49738  2018-10-13 11:13:39   \n",
       "3      134367  2018-10-17 11:27:57   \n",
       "4      151402  2018-08-23 10:28:47   \n",
       "\n",
       "                                             comment  \n",
       "0  سلام، قبل اینکه نظرم رو بگم میخواستم به یک موض...  \n",
       "1  بوی تند ولی خوشبو داره.ماندگاریش خوبه و هر چقد...  \n",
       "2  متاسفانه عمر مفید این ماشین کم هست و بعد از دو...  \n",
       "3  افا از وقتی من اینو واسه پسرم خریدم همه بچه ها...  \n",
       "4  این تیغ محصول کشور آمریکا هست ( در عکس محصول م...  "
      ]
     },
     "execution_count": 34,
     "metadata": {},
     "output_type": "execute_result"
    }
   ],
   "source": [
    "data.head()"
   ]
  },
  {
   "cell_type": "markdown",
   "id": "47d38382-b8d1-488f-bdba-848806fbdf9a",
   "metadata": {},
   "source": [
    "# نمایش پنج ردیف آخر داده ها #"
   ]
  },
  {
   "cell_type": "markdown",
   "id": "4c8b4a08-6b03-449e-8f56-70e1741afef5",
   "metadata": {},
   "source": [
    "با این کار هم میتوانیم ۵ داده از آخر را ببینیم و حتی مطلع شویم که داده های ماچند سطر هستند"
   ]
  },
  {
   "cell_type": "code",
   "execution_count": 10,
   "id": "ffe63073-6de7-43e4-8ce2-97d0298b7cf3",
   "metadata": {},
   "outputs": [
    {
     "data": {
      "text/html": [
       "<div>\n",
       "<style scoped>\n",
       "    .dataframe tbody tr th:only-of-type {\n",
       "        vertical-align: middle;\n",
       "    }\n",
       "\n",
       "    .dataframe tbody tr th {\n",
       "        vertical-align: top;\n",
       "    }\n",
       "\n",
       "    .dataframe thead th {\n",
       "        text-align: right;\n",
       "    }\n",
       "</style>\n",
       "<table border=\"1\" class=\"dataframe\">\n",
       "  <thead>\n",
       "    <tr style=\"text-align: right;\">\n",
       "      <th></th>\n",
       "      <th>product_id</th>\n",
       "      <th>confirmed_at</th>\n",
       "      <th>comment</th>\n",
       "    </tr>\n",
       "  </thead>\n",
       "  <tbody>\n",
       "    <tr>\n",
       "      <th>100003</th>\n",
       "      <td>104998</td>\n",
       "      <td>2018-07-09 21:27:12</td>\n",
       "      <td>قیمت مناسبی داره در حال حاضر . با این پول سخت ...</td>\n",
       "    </tr>\n",
       "    <tr>\n",
       "      <th>100004</th>\n",
       "      <td>333389</td>\n",
       "      <td>2018-07-09 21:26:52</td>\n",
       "      <td>در کل راضیم درسته لنوو با قیمت پایین تر هسته و...</td>\n",
       "    </tr>\n",
       "    <tr>\n",
       "      <th>100005</th>\n",
       "      <td>356546</td>\n",
       "      <td>2018-07-09 21:26:30</td>\n",
       "      <td>من این محصول رو از بیرون تهیه کردم . و باید بگ...</td>\n",
       "    </tr>\n",
       "    <tr>\n",
       "      <th>100006</th>\n",
       "      <td>33874</td>\n",
       "      <td>2018-07-09 21:26:12</td>\n",
       "      <td>دوسال و.نیم پیش از دیجی کالا گرفتم. هنوز مثل ر...</td>\n",
       "    </tr>\n",
       "    <tr>\n",
       "      <th>100007</th>\n",
       "      <td>318278</td>\n",
       "      <td>2018-07-09 21:26:02</td>\n",
       "      <td>با استفاده از این شامپو مشکل خشکی مو و پوست سر...</td>\n",
       "    </tr>\n",
       "  </tbody>\n",
       "</table>\n",
       "</div>"
      ],
      "text/plain": [
       "        product_id         confirmed_at  \\\n",
       "100003      104998  2018-07-09 21:27:12   \n",
       "100004      333389  2018-07-09 21:26:52   \n",
       "100005      356546  2018-07-09 21:26:30   \n",
       "100006       33874  2018-07-09 21:26:12   \n",
       "100007      318278  2018-07-09 21:26:02   \n",
       "\n",
       "                                                  comment  \n",
       "100003  قیمت مناسبی داره در حال حاضر . با این پول سخت ...  \n",
       "100004  در کل راضیم درسته لنوو با قیمت پایین تر هسته و...  \n",
       "100005  من این محصول رو از بیرون تهیه کردم . و باید بگ...  \n",
       "100006  دوسال و.نیم پیش از دیجی کالا گرفتم. هنوز مثل ر...  \n",
       "100007  با استفاده از این شامپو مشکل خشکی مو و پوست سر...  "
      ]
     },
     "execution_count": 10,
     "metadata": {},
     "output_type": "execute_result"
    }
   ],
   "source": [
    "data.tail()"
   ]
  },
  {
   "cell_type": "markdown",
   "id": "8033f06a-e29b-449d-8df9-9b691ec3a99e",
   "metadata": {},
   "source": [
    "# پیش پردازش داده ها #"
   ]
  },
  {
   "cell_type": "markdown",
   "id": "3173ec80-089a-4be8-becf-89bff4e1b880",
   "metadata": {},
   "source": [
    "دراین قسمت اعلان ها و کاراکترهای غیر ضروری رو در کامنت ها رو حذف میکنیم"
   ]
  },
  {
   "cell_type": "code",
   "execution_count": 13,
   "id": "ef57f55b-3cb1-4f8f-a8cf-a78d73865c4e",
   "metadata": {},
   "outputs": [
    {
     "data": {
      "text/html": [
       "<div>\n",
       "<style scoped>\n",
       "    .dataframe tbody tr th:only-of-type {\n",
       "        vertical-align: middle;\n",
       "    }\n",
       "\n",
       "    .dataframe tbody tr th {\n",
       "        vertical-align: top;\n",
       "    }\n",
       "\n",
       "    .dataframe thead th {\n",
       "        text-align: right;\n",
       "    }\n",
       "</style>\n",
       "<table border=\"1\" class=\"dataframe\">\n",
       "  <thead>\n",
       "    <tr style=\"text-align: right;\">\n",
       "      <th></th>\n",
       "      <th>comment</th>\n",
       "      <th>processed_comment</th>\n",
       "    </tr>\n",
       "  </thead>\n",
       "  <tbody>\n",
       "    <tr>\n",
       "      <th>0</th>\n",
       "      <td>سلام، قبل اینکه نظرم رو بگم میخواستم به یک موض...</td>\n",
       "      <td>سلام قبل اینکه نظرم رو بگم میخواستم به یک موضو...</td>\n",
       "    </tr>\n",
       "    <tr>\n",
       "      <th>1</th>\n",
       "      <td>بوی تند ولی خوشبو داره.ماندگاریش خوبه و هر چقد...</td>\n",
       "      <td>بوی تند ولی خوشبو دارهماندگاریش خوبه و هر چقدر...</td>\n",
       "    </tr>\n",
       "    <tr>\n",
       "      <th>2</th>\n",
       "      <td>متاسفانه عمر مفید این ماشین کم هست و بعد از دو...</td>\n",
       "      <td>متاسفانه عمر مفید این ماشین کم هست و بعد از دو...</td>\n",
       "    </tr>\n",
       "    <tr>\n",
       "      <th>3</th>\n",
       "      <td>افا از وقتی من اینو واسه پسرم خریدم همه بچه ها...</td>\n",
       "      <td>افا از وقتی من اینو واسه پسرم خریدم همه بچه ها...</td>\n",
       "    </tr>\n",
       "    <tr>\n",
       "      <th>4</th>\n",
       "      <td>این تیغ محصول کشور آمریکا هست ( در عکس محصول م...</td>\n",
       "      <td>این تیغ محصول کشور آمریکا هست  در عکس محصول مش...</td>\n",
       "    </tr>\n",
       "  </tbody>\n",
       "</table>\n",
       "</div>"
      ],
      "text/plain": [
       "                                             comment  \\\n",
       "0  سلام، قبل اینکه نظرم رو بگم میخواستم به یک موض...   \n",
       "1  بوی تند ولی خوشبو داره.ماندگاریش خوبه و هر چقد...   \n",
       "2  متاسفانه عمر مفید این ماشین کم هست و بعد از دو...   \n",
       "3  افا از وقتی من اینو واسه پسرم خریدم همه بچه ها...   \n",
       "4  این تیغ محصول کشور آمریکا هست ( در عکس محصول م...   \n",
       "\n",
       "                                   processed_comment  \n",
       "0  سلام قبل اینکه نظرم رو بگم میخواستم به یک موضو...  \n",
       "1  بوی تند ولی خوشبو دارهماندگاریش خوبه و هر چقدر...  \n",
       "2  متاسفانه عمر مفید این ماشین کم هست و بعد از دو...  \n",
       "3  افا از وقتی من اینو واسه پسرم خریدم همه بچه ها...  \n",
       "4  این تیغ محصول کشور آمریکا هست  در عکس محصول مش...  "
      ]
     },
     "execution_count": 13,
     "metadata": {},
     "output_type": "execute_result"
    }
   ],
   "source": [
    "import re\n",
    "\n",
    "def preprocess_text(text_value):\n",
    "    if pd.isna(text_value):\n",
    "        return ''\n",
    "    text = re.sub(r'[^آ-ی\\s]', '', text_value)\n",
    "    return text\n",
    "\n",
    "data[\"processed_comment\"] = data[\"comment\"].apply(preprocess_text)\n",
    "\n",
    "data[[\"comment\", \"processed_comment\"]].head()"
   ]
  },
  {
   "cell_type": "code",
   "execution_count": null,
   "id": "6bac69df-d5c8-4b3c-be76-8083045382b3",
   "metadata": {},
   "outputs": [],
   "source": [
    "### تعداد کامنت ها در ماه های موجود ###"
   ]
  },
  {
   "cell_type": "markdown",
   "id": "def6ac07-9209-4961-a6d9-f2f9f5cd8614",
   "metadata": {},
   "source": [
    "در ابتدا یک ستون از ماه ها به دیتای خودمون اضافه کردم و در فایل دیتاهای خود از ماه ۳ تا ۱۰ رو داشتیم که تعداد کامنت ها در هر ماه رو روی نمودار رسم کردم تا از تعداد آن ها در هر ماه با خبر شیم\n",
    "همچنین تعداد دقیق هر کامنت در هر ماه هم نوشته شده است"
   ]
  },
  {
   "cell_type": "code",
   "execution_count": 16,
   "id": "78340814-93e1-40e1-a67f-2cf5a33e6db9",
   "metadata": {},
   "outputs": [
    {
     "name": "stdout",
     "output_type": "stream",
     "text": [
      "تعداد کامنت ها در ماه 3 = 4370\n",
      "تعداد کامنت ها در ماه 4 = 33350\n",
      "تعداد کامنت ها در ماه 5 = 26579\n",
      "تعداد کامنت ها در ماه 6 = 26906\n",
      "تعداد کامنت ها در ماه 7 = 7380\n",
      "تعداد کامنت ها در ماه 8 = 319\n",
      "تعداد کامنت ها در ماه 9 = 856\n",
      "تعداد کامنت ها در ماه 10 = 248\n"
     ]
    },
    {
     "data": {
      "image/png": "[encoded data removed]",
      "text/plain": [
       "<Figure size 640x480 with 1 Axes>"
      ]
     },
     "metadata": {},
     "output_type": "display_data"
    }
   ],
   "source": [
    "import matplotlib.pyplot as plt\n",
    "import seaborn as sns\n",
    "import pandas as pd\n",
    "\n",
    "\n",
    "data['confirmed_at'] = pd.to_datetime(df['confirmed_at'])\n",
    "data['month'] = data['confirmed_at'].dt.month\n",
    "\n",
    "\n",
    "sns.countplot(x='month', data=data)\n",
    "plt.title(\"The number of comments is from 3 to 10 months\")\n",
    "plt.xlabel(\"Month\")\n",
    "plt.ylabel(\"Number of comments\")\n",
    "\n",
    "\n",
    "monthly_counts = data['month'].value_counts().sort_index()\n",
    "i = 3\n",
    "for x in monthly_counts:\n",
    "    print(f\"تعداد کامنت ها در ماه {i} = {x}\")\n",
    "    i+=1\n",
    "\n",
    "plt.tight_layout()\n",
    "plt.show()"
   ]
  },
  {
   "cell_type": "code",
   "execution_count": 17,
   "id": "dd086f00-18ed-4e7e-8760-0c6bfa53a99f",
   "metadata": {},
   "outputs": [
    {
     "ename": "ValueError",
     "evalue": "No axis named month for object type DataFrame",
     "output_type": "error",
     "traceback": [
      "\u001b[0;31m---------------------------------------------------------------------------\u001b[0m",
      "\u001b[0;31mKeyError\u001b[0m                                  Traceback (most recent call last)",
      "\u001b[0;32m/opt/anaconda3/lib/python3.12/site-packages/pandas/core/generic.py\u001b[0m in \u001b[0;36m?\u001b[0;34m(cls, axis)\u001b[0m\n\u001b[1;32m    576\u001b[0m             \u001b[0;32mreturn\u001b[0m \u001b[0mcls\u001b[0m\u001b[0;34m.\u001b[0m\u001b[0m_AXIS_TO_AXIS_NUMBER\u001b[0m\u001b[0;34m[\u001b[0m\u001b[0maxis\u001b[0m\u001b[0;34m]\u001b[0m\u001b[0;34m\u001b[0m\u001b[0;34m\u001b[0m\u001b[0m\n\u001b[1;32m    577\u001b[0m         \u001b[0;32mexcept\u001b[0m \u001b[0mKeyError\u001b[0m\u001b[0;34m:\u001b[0m\u001b[0;34m\u001b[0m\u001b[0;34m\u001b[0m\u001b[0m\n\u001b[0;32m--> 578\u001b[0;31m             \u001b[0;32mraise\u001b[0m \u001b[0mValueError\u001b[0m\u001b[0;34m(\u001b[0m\u001b[0;34mf\"\u001b[0m\u001b[0;34mNo axis named \u001b[0m\u001b[0;34m{\u001b[0m\u001b[0maxis\u001b[0m\u001b[0;34m}\u001b[0m\u001b[0;34m for object type \u001b[0m\u001b[0;34m{\u001b[0m\u001b[0mcls\u001b[0m\u001b[0;34m.\u001b[0m\u001b[0m__name__\u001b[0m\u001b[0;34m}\u001b[0m\u001b[0;34m\"\u001b[0m\u001b[0;34m)\u001b[0m\u001b[0;34m\u001b[0m\u001b[0;34m\u001b[0m\u001b[0m\n\u001b[0m",
      "\u001b[0;31mKeyError\u001b[0m: 'month'",
      "\nDuring handling of the above exception, another exception occurred:\n",
      "\u001b[0;31mValueError\u001b[0m                                Traceback (most recent call last)",
      "\u001b[0;32m/var/folders/9y/k_l50h914nlb85lnwqgg91y40000gn/T/ipykernel_20768/2973830062.py\u001b[0m in \u001b[0;36m?\u001b[0;34m()\u001b[0m\n\u001b[0;32m----> 1\u001b[0;31m \u001b[0mresult\u001b[0m \u001b[0;34m=\u001b[0m \u001b[0mdata\u001b[0m\u001b[0;34m.\u001b[0m\u001b[0mgroupby\u001b[0m\u001b[0;34m(\u001b[0m\u001b[0;34m\"product_id\"\u001b[0m\u001b[0;34m,\u001b[0m \u001b[0;34m\"month\"\u001b[0m\u001b[0;34m)\u001b[0m\u001b[0;34m.\u001b[0m\u001b[0mvalue_counts\u001b[0m\u001b[0;34m(\u001b[0m\u001b[0;34m)\u001b[0m\u001b[0;34m\u001b[0m\u001b[0;34m\u001b[0m\u001b[0m\n\u001b[0m\u001b[1;32m      2\u001b[0m \u001b[0mresult\u001b[0m\u001b[0;34m\u001b[0m\u001b[0;34m\u001b[0m\u001b[0m\n",
      "\u001b[0;32m/opt/anaconda3/lib/python3.12/site-packages/pandas/core/frame.py\u001b[0m in \u001b[0;36m?\u001b[0;34m(self, by, axis, level, as_index, sort, group_keys, observed, dropna)\u001b[0m\n\u001b[1;32m   9156\u001b[0m         \u001b[0mobserved\u001b[0m\u001b[0;34m:\u001b[0m \u001b[0mbool\u001b[0m \u001b[0;34m|\u001b[0m \u001b[0mlib\u001b[0m\u001b[0;34m.\u001b[0m\u001b[0mNoDefault\u001b[0m \u001b[0;34m=\u001b[0m \u001b[0mlib\u001b[0m\u001b[0;34m.\u001b[0m\u001b[0mno_default\u001b[0m\u001b[0;34m,\u001b[0m\u001b[0;34m\u001b[0m\u001b[0;34m\u001b[0m\u001b[0m\n\u001b[1;32m   9157\u001b[0m         \u001b[0mdropna\u001b[0m\u001b[0;34m:\u001b[0m \u001b[0mbool\u001b[0m \u001b[0;34m=\u001b[0m \u001b[0;32mTrue\u001b[0m\u001b[0;34m,\u001b[0m\u001b[0;34m\u001b[0m\u001b[0;34m\u001b[0m\u001b[0m\n\u001b[1;32m   9158\u001b[0m     \u001b[0;34m)\u001b[0m \u001b[0;34m->\u001b[0m \u001b[0mDataFrameGroupBy\u001b[0m\u001b[0;34m:\u001b[0m\u001b[0;34m\u001b[0m\u001b[0;34m\u001b[0m\u001b[0m\n\u001b[1;32m   9159\u001b[0m         \u001b[0;32mif\u001b[0m \u001b[0maxis\u001b[0m \u001b[0;32mis\u001b[0m \u001b[0;32mnot\u001b[0m \u001b[0mlib\u001b[0m\u001b[0;34m.\u001b[0m\u001b[0mno_default\u001b[0m\u001b[0;34m:\u001b[0m\u001b[0;34m\u001b[0m\u001b[0;34m\u001b[0m\u001b[0m\n\u001b[0;32m-> 9160\u001b[0;31m             \u001b[0maxis\u001b[0m \u001b[0;34m=\u001b[0m \u001b[0mself\u001b[0m\u001b[0;34m.\u001b[0m\u001b[0m_get_axis_number\u001b[0m\u001b[0;34m(\u001b[0m\u001b[0maxis\u001b[0m\u001b[0;34m)\u001b[0m\u001b[0;34m\u001b[0m\u001b[0;34m\u001b[0m\u001b[0m\n\u001b[0m\u001b[1;32m   9161\u001b[0m             \u001b[0;32mif\u001b[0m \u001b[0maxis\u001b[0m \u001b[0;34m==\u001b[0m \u001b[0;36m1\u001b[0m\u001b[0;34m:\u001b[0m\u001b[0;34m\u001b[0m\u001b[0;34m\u001b[0m\u001b[0m\n\u001b[1;32m   9162\u001b[0m                 warnings.warn(\n\u001b[1;32m   9163\u001b[0m                     \u001b[0;34m\"DataFrame.groupby with axis=1 is deprecated. Do \"\u001b[0m\u001b[0;34m\u001b[0m\u001b[0;34m\u001b[0m\u001b[0m\n",
      "\u001b[0;32m/opt/anaconda3/lib/python3.12/site-packages/pandas/core/generic.py\u001b[0m in \u001b[0;36m?\u001b[0;34m(cls, axis)\u001b[0m\n\u001b[1;32m    574\u001b[0m     \u001b[0;32mdef\u001b[0m \u001b[0m_get_axis_number\u001b[0m\u001b[0;34m(\u001b[0m\u001b[0mcls\u001b[0m\u001b[0;34m,\u001b[0m \u001b[0maxis\u001b[0m\u001b[0;34m:\u001b[0m \u001b[0mAxis\u001b[0m\u001b[0;34m)\u001b[0m \u001b[0;34m->\u001b[0m \u001b[0mAxisInt\u001b[0m\u001b[0;34m:\u001b[0m\u001b[0;34m\u001b[0m\u001b[0;34m\u001b[0m\u001b[0m\n\u001b[1;32m    575\u001b[0m         \u001b[0;32mtry\u001b[0m\u001b[0;34m:\u001b[0m\u001b[0;34m\u001b[0m\u001b[0;34m\u001b[0m\u001b[0m\n\u001b[1;32m    576\u001b[0m             \u001b[0;32mreturn\u001b[0m \u001b[0mcls\u001b[0m\u001b[0;34m.\u001b[0m\u001b[0m_AXIS_TO_AXIS_NUMBER\u001b[0m\u001b[0;34m[\u001b[0m\u001b[0maxis\u001b[0m\u001b[0;34m]\u001b[0m\u001b[0;34m\u001b[0m\u001b[0;34m\u001b[0m\u001b[0m\n\u001b[1;32m    577\u001b[0m         \u001b[0;32mexcept\u001b[0m \u001b[0mKeyError\u001b[0m\u001b[0;34m:\u001b[0m\u001b[0;34m\u001b[0m\u001b[0;34m\u001b[0m\u001b[0m\n\u001b[0;32m--> 578\u001b[0;31m             \u001b[0;32mraise\u001b[0m \u001b[0mValueError\u001b[0m\u001b[0;34m(\u001b[0m\u001b[0;34mf\"\u001b[0m\u001b[0;34mNo axis named \u001b[0m\u001b[0;34m{\u001b[0m\u001b[0maxis\u001b[0m\u001b[0;34m}\u001b[0m\u001b[0;34m for object type \u001b[0m\u001b[0;34m{\u001b[0m\u001b[0mcls\u001b[0m\u001b[0;34m.\u001b[0m\u001b[0m__name__\u001b[0m\u001b[0;34m}\u001b[0m\u001b[0;34m\"\u001b[0m\u001b[0;34m)\u001b[0m\u001b[0;34m\u001b[0m\u001b[0;34m\u001b[0m\u001b[0m\n\u001b[0m",
      "\u001b[0;31mValueError\u001b[0m: No axis named month for object type DataFrame"
     ]
    }
   ],
   "source": [
    "result = data.groupby(\"product_id\", \"month\").value_counts()\n",
    "result"
   ]
  }
 ],
 "metadata": {
  "kernelspec": {
   "display_name": "Python 3 (ipykernel)",
   "language": "python",
   "name": "python3"
  },
  "language_info": {
   "codemirror_mode": {
    "name": "ipython",
    "version": 3
   },
   "file_extension": ".py",
   "mimetype": "text/x-python",
   "name": "python",
   "nbconvert_exporter": "python",
   "pygments_lexer": "ipython3",
   "version": "3.12.4"
  }
 },
 "nbformat": 4,
 "nbformat_minor": 5
}
