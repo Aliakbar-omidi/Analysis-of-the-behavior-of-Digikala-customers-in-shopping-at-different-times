{
 "cells": [
  {
   "cell_type": "markdown",
   "id": "aa45b509-6d2e-4bdb-adb6-155dc217eb7c",
   "metadata": {},
   "source": [
    "# Imports #"
   ]
  },
  {
   "cell_type": "markdown",
   "id": "ea28799c-f4dd-4d41-90be-385040c29a1d",
   "metadata": {},
   "source": [
    "کتابخانه های مورد نیاز در این پروژه همه در این قسمت اضافه و ایمپورت شده"
   ]
  },
  {
   "cell_type": "code",
   "execution_count": 3,
   "id": "0754c8f3-aec5-45fa-b786-6e0e6e56e972",
   "metadata": {},
   "outputs": [],
   "source": [
    "import matplotlib.pyplot as plt\n",
    "from persiantools.jdatetime import JalaliDateTime\n",
    "from collections import Counter\n",
    "import seaborn as sns\n",
    "import pandas as pd\n",
    "import re"
   ]
  },
  {
   "cell_type": "markdown",
   "id": "e2649d03-8485-4abe-ba64-d6416ae7ed76",
   "metadata": {},
   "source": [
    "# تحلیل و بررسی دیتای کامنت ها #"
   ]
  },
  {
   "cell_type": "markdown",
   "id": "c1b4d2ed-783a-4b7c-832c-e0eb9e9b335d",
   "metadata": {},
   "source": [
    " ## تبدیل فایل اکسل کامنت ها به سی اس وی برای بهتر نمایش دادن داده ها ##"
   ]
  },
  {
   "cell_type": "code",
   "execution_count": 6,
   "id": "d5ae9e42-89b9-4947-b3c8-10b146a9ed4c",
   "metadata": {},
   "outputs": [],
   "source": [
    "df = pd.read_excel(\"comment.xlsx\")\n",
    "df.to_csv(\"comment.csv\", index=False)"
   ]
  },
  {
   "cell_type": "markdown",
   "id": "b9adb5b2-a22a-43e5-b2cb-68653712de7b",
   "metadata": {},
   "source": [
    "## بارگذاری داده ها و نمایش مشخصات داده ##"
   ]
  },
  {
   "cell_type": "markdown",
   "id": "e06a9e21-d2a7-4b28-8c91-4454f547146e",
   "metadata": {},
   "source": [
    "دراین قسمت اطلاعات مربوط به داده مان را در هر بخش آن خواهیم داشت"
   ]
  },
  {
   "cell_type": "code",
   "execution_count": 9,
   "id": "198e6bcb-4617-47fe-ae8b-a00eaf579ae6",
   "metadata": {},
   "outputs": [
    {
     "name": "stdout",
     "output_type": "stream",
     "text": [
      "<class 'pandas.core.frame.DataFrame'>\n",
      "RangeIndex: 100008 entries, 0 to 100007\n",
      "Data columns (total 3 columns):\n",
      " #   Column        Non-Null Count   Dtype \n",
      "---  ------        --------------   ----- \n",
      " 0   product_id    100008 non-null  int64 \n",
      " 1   confirmed_at  100008 non-null  object\n",
      " 2   comment       99903 non-null   object\n",
      "dtypes: int64(1), object(2)\n",
      "memory usage: 2.3+ MB\n"
     ]
    }
   ],
   "source": [
    "comment_data = pd.read_csv(\"comment.csv\")\n",
    "comment_data.info()"
   ]
  },
  {
   "cell_type": "markdown",
   "id": "596f7873-286c-4d9a-85f6-9b6b193ec6af",
   "metadata": {},
   "source": [
    "## نمایش پنج ردیف اول داده ها ##"
   ]
  },
  {
   "cell_type": "code",
   "execution_count": 11,
   "id": "58a3f476-1196-4177-8eb5-d2118fee3084",
   "metadata": {},
   "outputs": [
    {
     "data": {
      "text/html": [
       "<div>\n",
       "<style scoped>\n",
       "    .dataframe tbody tr th:only-of-type {\n",
       "        vertical-align: middle;\n",
       "    }\n",
       "\n",
       "    .dataframe tbody tr th {\n",
       "        vertical-align: top;\n",
       "    }\n",
       "\n",
       "    .dataframe thead th {\n",
       "        text-align: right;\n",
       "    }\n",
       "</style>\n",
       "<table border=\"1\" class=\"dataframe\">\n",
       "  <thead>\n",
       "    <tr style=\"text-align: right;\">\n",
       "      <th></th>\n",
       "      <th>product_id</th>\n",
       "      <th>confirmed_at</th>\n",
       "      <th>comment</th>\n",
       "    </tr>\n",
       "  </thead>\n",
       "  <tbody>\n",
       "    <tr>\n",
       "      <th>0</th>\n",
       "      <td>90213</td>\n",
       "      <td>2018-08-23 11:05:47</td>\n",
       "      <td>سلام، قبل اینکه نظرم رو بگم میخواستم به یک موض...</td>\n",
       "    </tr>\n",
       "    <tr>\n",
       "      <th>1</th>\n",
       "      <td>56871</td>\n",
       "      <td>2018-08-23 10:21:53</td>\n",
       "      <td>بوی تند ولی خوشبو داره.ماندگاریش خوبه و هر چقد...</td>\n",
       "    </tr>\n",
       "    <tr>\n",
       "      <th>2</th>\n",
       "      <td>49738</td>\n",
       "      <td>2018-10-13 11:13:39</td>\n",
       "      <td>متاسفانه عمر مفید این ماشین کم هست و بعد از دو...</td>\n",
       "    </tr>\n",
       "    <tr>\n",
       "      <th>3</th>\n",
       "      <td>134367</td>\n",
       "      <td>2018-10-17 11:27:57</td>\n",
       "      <td>افا از وقتی من اینو واسه پسرم خریدم همه بچه ها...</td>\n",
       "    </tr>\n",
       "    <tr>\n",
       "      <th>4</th>\n",
       "      <td>151402</td>\n",
       "      <td>2018-08-23 10:28:47</td>\n",
       "      <td>این تیغ محصول کشور آمریکا هست ( در عکس محصول م...</td>\n",
       "    </tr>\n",
       "  </tbody>\n",
       "</table>\n",
       "</div>"
      ],
      "text/plain": [
       "   product_id         confirmed_at  \\\n",
       "0       90213  2018-08-23 11:05:47   \n",
       "1       56871  2018-08-23 10:21:53   \n",
       "2       49738  2018-10-13 11:13:39   \n",
       "3      134367  2018-10-17 11:27:57   \n",
       "4      151402  2018-08-23 10:28:47   \n",
       "\n",
       "                                             comment  \n",
       "0  سلام، قبل اینکه نظرم رو بگم میخواستم به یک موض...  \n",
       "1  بوی تند ولی خوشبو داره.ماندگاریش خوبه و هر چقد...  \n",
       "2  متاسفانه عمر مفید این ماشین کم هست و بعد از دو...  \n",
       "3  افا از وقتی من اینو واسه پسرم خریدم همه بچه ها...  \n",
       "4  این تیغ محصول کشور آمریکا هست ( در عکس محصول م...  "
      ]
     },
     "execution_count": 11,
     "metadata": {},
     "output_type": "execute_result"
    }
   ],
   "source": [
    "comment_data.head()"
   ]
  },
  {
   "cell_type": "markdown",
   "id": "44df056d-5bcf-4ffb-a544-4710ec23af9a",
   "metadata": {},
   "source": [
    "## نمایش پنج ردیف آخر داده ها ##"
   ]
  },
  {
   "cell_type": "markdown",
   "id": "4c8b4a08-6b03-449e-8f56-70e1741afef5",
   "metadata": {},
   "source": [
    "با این کار هم میتوانیم ۵ داده از آخر را ببینیم و حتی مطلع شویم که داده های ماچند سطر هستند"
   ]
  },
  {
   "cell_type": "code",
   "execution_count": 14,
   "id": "ffe63073-6de7-43e4-8ce2-97d0298b7cf3",
   "metadata": {},
   "outputs": [
    {
     "data": {
      "text/html": [
       "<div>\n",
       "<style scoped>\n",
       "    .dataframe tbody tr th:only-of-type {\n",
       "        vertical-align: middle;\n",
       "    }\n",
       "\n",
       "    .dataframe tbody tr th {\n",
       "        vertical-align: top;\n",
       "    }\n",
       "\n",
       "    .dataframe thead th {\n",
       "        text-align: right;\n",
       "    }\n",
       "</style>\n",
       "<table border=\"1\" class=\"dataframe\">\n",
       "  <thead>\n",
       "    <tr style=\"text-align: right;\">\n",
       "      <th></th>\n",
       "      <th>product_id</th>\n",
       "      <th>confirmed_at</th>\n",
       "      <th>comment</th>\n",
       "    </tr>\n",
       "  </thead>\n",
       "  <tbody>\n",
       "    <tr>\n",
       "      <th>100003</th>\n",
       "      <td>104998</td>\n",
       "      <td>2018-07-09 21:27:12</td>\n",
       "      <td>قیمت مناسبی داره در حال حاضر . با این پول سخت ...</td>\n",
       "    </tr>\n",
       "    <tr>\n",
       "      <th>100004</th>\n",
       "      <td>333389</td>\n",
       "      <td>2018-07-09 21:26:52</td>\n",
       "      <td>در کل راضیم درسته لنوو با قیمت پایین تر هسته و...</td>\n",
       "    </tr>\n",
       "    <tr>\n",
       "      <th>100005</th>\n",
       "      <td>356546</td>\n",
       "      <td>2018-07-09 21:26:30</td>\n",
       "      <td>من این محصول رو از بیرون تهیه کردم . و باید بگ...</td>\n",
       "    </tr>\n",
       "    <tr>\n",
       "      <th>100006</th>\n",
       "      <td>33874</td>\n",
       "      <td>2018-07-09 21:26:12</td>\n",
       "      <td>دوسال و.نیم پیش از دیجی کالا گرفتم. هنوز مثل ر...</td>\n",
       "    </tr>\n",
       "    <tr>\n",
       "      <th>100007</th>\n",
       "      <td>318278</td>\n",
       "      <td>2018-07-09 21:26:02</td>\n",
       "      <td>با استفاده از این شامپو مشکل خشکی مو و پوست سر...</td>\n",
       "    </tr>\n",
       "  </tbody>\n",
       "</table>\n",
       "</div>"
      ],
      "text/plain": [
       "        product_id         confirmed_at  \\\n",
       "100003      104998  2018-07-09 21:27:12   \n",
       "100004      333389  2018-07-09 21:26:52   \n",
       "100005      356546  2018-07-09 21:26:30   \n",
       "100006       33874  2018-07-09 21:26:12   \n",
       "100007      318278  2018-07-09 21:26:02   \n",
       "\n",
       "                                                  comment  \n",
       "100003  قیمت مناسبی داره در حال حاضر . با این پول سخت ...  \n",
       "100004  در کل راضیم درسته لنوو با قیمت پایین تر هسته و...  \n",
       "100005  من این محصول رو از بیرون تهیه کردم . و باید بگ...  \n",
       "100006  دوسال و.نیم پیش از دیجی کالا گرفتم. هنوز مثل ر...  \n",
       "100007  با استفاده از این شامپو مشکل خشکی مو و پوست سر...  "
      ]
     },
     "execution_count": 14,
     "metadata": {},
     "output_type": "execute_result"
    }
   ],
   "source": [
    "comment_data.tail()"
   ]
  },
  {
   "cell_type": "markdown",
   "id": "e38634a8-3335-44a2-9cbf-8c5f85496f27",
   "metadata": {},
   "source": [
    "## پیش پردازش داده ها ##"
   ]
  },
  {
   "cell_type": "markdown",
   "id": "3173ec80-089a-4be8-becf-89bff4e1b880",
   "metadata": {},
   "source": [
    "دراین قسمت اعلان ها و کاراکترهای غیر ضروری رو در کامنت ها رو حذف میکنیم"
   ]
  },
  {
   "cell_type": "code",
   "execution_count": 17,
   "id": "ef57f55b-3cb1-4f8f-a8cf-a78d73865c4e",
   "metadata": {},
   "outputs": [
    {
     "data": {
      "text/html": [
       "<div>\n",
       "<style scoped>\n",
       "    .dataframe tbody tr th:only-of-type {\n",
       "        vertical-align: middle;\n",
       "    }\n",
       "\n",
       "    .dataframe tbody tr th {\n",
       "        vertical-align: top;\n",
       "    }\n",
       "\n",
       "    .dataframe thead th {\n",
       "        text-align: right;\n",
       "    }\n",
       "</style>\n",
       "<table border=\"1\" class=\"dataframe\">\n",
       "  <thead>\n",
       "    <tr style=\"text-align: right;\">\n",
       "      <th></th>\n",
       "      <th>comment</th>\n",
       "    </tr>\n",
       "  </thead>\n",
       "  <tbody>\n",
       "    <tr>\n",
       "      <th>0</th>\n",
       "      <td>سلام قبل اینکه نظرم رو بگم میخواستم به یک موضو...</td>\n",
       "    </tr>\n",
       "    <tr>\n",
       "      <th>1</th>\n",
       "      <td>بوی تند ولی خوشبو دارهماندگاریش خوبه و هر چقدر...</td>\n",
       "    </tr>\n",
       "    <tr>\n",
       "      <th>2</th>\n",
       "      <td>متاسفانه عمر مفید این ماشین کم هست و بعد از دو...</td>\n",
       "    </tr>\n",
       "    <tr>\n",
       "      <th>3</th>\n",
       "      <td>افا از وقتی من اینو واسه پسرم خریدم همه بچه ها...</td>\n",
       "    </tr>\n",
       "    <tr>\n",
       "      <th>4</th>\n",
       "      <td>این تیغ محصول کشور آمریکا هست  در عکس محصول مش...</td>\n",
       "    </tr>\n",
       "  </tbody>\n",
       "</table>\n",
       "</div>"
      ],
      "text/plain": [
       "                                             comment\n",
       "0  سلام قبل اینکه نظرم رو بگم میخواستم به یک موضو...\n",
       "1  بوی تند ولی خوشبو دارهماندگاریش خوبه و هر چقدر...\n",
       "2  متاسفانه عمر مفید این ماشین کم هست و بعد از دو...\n",
       "3  افا از وقتی من اینو واسه پسرم خریدم همه بچه ها...\n",
       "4  این تیغ محصول کشور آمریکا هست  در عکس محصول مش..."
      ]
     },
     "execution_count": 17,
     "metadata": {},
     "output_type": "execute_result"
    }
   ],
   "source": [
    "def preprocess_text(text_value):\n",
    "    if pd.isna(text_value):\n",
    "        return ''\n",
    "    text = re.sub(r'[^آ-ی\\s]', '', text_value)\n",
    "    return text\n",
    "\n",
    "comment_data[\"comment\"] = comment_data[\"comment\"].apply(preprocess_text)\n",
    "\n",
    "\n",
    "comment_data[[\"comment\"]].head()"
   ]
  },
  {
   "cell_type": "markdown",
   "id": "2e7c1b68-0799-43ac-a0d5-917942483b1a",
   "metadata": {},
   "source": [
    "## persiantools نصب کتابخونه ##"
   ]
  },
  {
   "cell_type": "markdown",
   "id": "c5d76987-d1b3-473c-9768-f6976270bb2a",
   "metadata": {},
   "source": [
    "این کتابخونه برای تبدیل تاریخ و زمان میلادی به شمسی می باشد"
   ]
  },
  {
   "cell_type": "code",
   "execution_count": 20,
   "id": "c6898a9b-dfb7-4021-8bd6-59cb7b0c5ec6",
   "metadata": {},
   "outputs": [
    {
     "name": "stdout",
     "output_type": "stream",
     "text": [
      "Requirement already satisfied: persiantools in /opt/anaconda3/lib/python3.12/site-packages (4.2.0)\n",
      "Requirement already satisfied: pytz in /opt/anaconda3/lib/python3.12/site-packages (from persiantools) (2024.1)\n"
     ]
    }
   ],
   "source": [
    "!pip install persiantools"
   ]
  },
  {
   "cell_type": "markdown",
   "id": "a56cc385-2ec4-4544-91b4-471e14d47570",
   "metadata": {},
   "source": [
    "## تبدیل تاریخ ##"
   ]
  },
  {
   "cell_type": "markdown",
   "id": "3847a1d1-3563-4395-a676-b71c8cafcb46",
   "metadata": {},
   "source": [
    "دراین قسمت تاریخ میلادی رو به شمسی تبدیل کردیمو در یک ستون جدید قرار دادیم همچنین نام ستون تاریخ میلادی رو هم تغییر دادیم"
   ]
  },
  {
   "cell_type": "code",
   "execution_count": 23,
   "id": "11a4f207-0e64-4a15-876b-d8b251c15279",
   "metadata": {},
   "outputs": [
    {
     "data": {
      "text/html": [
       "<div>\n",
       "<style scoped>\n",
       "    .dataframe tbody tr th:only-of-type {\n",
       "        vertical-align: middle;\n",
       "    }\n",
       "\n",
       "    .dataframe tbody tr th {\n",
       "        vertical-align: top;\n",
       "    }\n",
       "\n",
       "    .dataframe thead th {\n",
       "        text-align: right;\n",
       "    }\n",
       "</style>\n",
       "<table border=\"1\" class=\"dataframe\">\n",
       "  <thead>\n",
       "    <tr style=\"text-align: right;\">\n",
       "      <th></th>\n",
       "      <th>product_id</th>\n",
       "      <th>miladi_date</th>\n",
       "      <th>comment</th>\n",
       "      <th>shamsi_date</th>\n",
       "    </tr>\n",
       "  </thead>\n",
       "  <tbody>\n",
       "    <tr>\n",
       "      <th>0</th>\n",
       "      <td>90213</td>\n",
       "      <td>2018-08-23 11:05:47</td>\n",
       "      <td>سلام قبل اینکه نظرم رو بگم میخواستم به یک موضو...</td>\n",
       "      <td>1397-06-01 11:05:47</td>\n",
       "    </tr>\n",
       "    <tr>\n",
       "      <th>1</th>\n",
       "      <td>56871</td>\n",
       "      <td>2018-08-23 10:21:53</td>\n",
       "      <td>بوی تند ولی خوشبو دارهماندگاریش خوبه و هر چقدر...</td>\n",
       "      <td>1397-06-01 10:21:53</td>\n",
       "    </tr>\n",
       "    <tr>\n",
       "      <th>2</th>\n",
       "      <td>49738</td>\n",
       "      <td>2018-10-13 11:13:39</td>\n",
       "      <td>متاسفانه عمر مفید این ماشین کم هست و بعد از دو...</td>\n",
       "      <td>1397-07-21 11:13:39</td>\n",
       "    </tr>\n",
       "    <tr>\n",
       "      <th>3</th>\n",
       "      <td>134367</td>\n",
       "      <td>2018-10-17 11:27:57</td>\n",
       "      <td>افا از وقتی من اینو واسه پسرم خریدم همه بچه ها...</td>\n",
       "      <td>1397-07-25 11:27:57</td>\n",
       "    </tr>\n",
       "    <tr>\n",
       "      <th>4</th>\n",
       "      <td>151402</td>\n",
       "      <td>2018-08-23 10:28:47</td>\n",
       "      <td>این تیغ محصول کشور آمریکا هست  در عکس محصول مش...</td>\n",
       "      <td>1397-06-01 10:28:47</td>\n",
       "    </tr>\n",
       "    <tr>\n",
       "      <th>...</th>\n",
       "      <td>...</td>\n",
       "      <td>...</td>\n",
       "      <td>...</td>\n",
       "      <td>...</td>\n",
       "    </tr>\n",
       "    <tr>\n",
       "      <th>100003</th>\n",
       "      <td>104998</td>\n",
       "      <td>2018-07-09 21:27:12</td>\n",
       "      <td>قیمت مناسبی داره در حال حاضر  با این پول سخت م...</td>\n",
       "      <td>1397-04-18 21:27:12</td>\n",
       "    </tr>\n",
       "    <tr>\n",
       "      <th>100004</th>\n",
       "      <td>333389</td>\n",
       "      <td>2018-07-09 21:26:52</td>\n",
       "      <td>در کل راضیم درسته لنوو با قیمت پایین تر هسته و...</td>\n",
       "      <td>1397-04-18 21:26:52</td>\n",
       "    </tr>\n",
       "    <tr>\n",
       "      <th>100005</th>\n",
       "      <td>356546</td>\n",
       "      <td>2018-07-09 21:26:30</td>\n",
       "      <td>من این محصول رو از بیرون تهیه کردم  و باید بگم...</td>\n",
       "      <td>1397-04-18 21:26:30</td>\n",
       "    </tr>\n",
       "    <tr>\n",
       "      <th>100006</th>\n",
       "      <td>33874</td>\n",
       "      <td>2018-07-09 21:26:12</td>\n",
       "      <td>دوسال ونیم پیش از دیجی کالا گرفتم هنوز مثل روز...</td>\n",
       "      <td>1397-04-18 21:26:12</td>\n",
       "    </tr>\n",
       "    <tr>\n",
       "      <th>100007</th>\n",
       "      <td>318278</td>\n",
       "      <td>2018-07-09 21:26:02</td>\n",
       "      <td>با استفاده از این شامپو مشکل خشکی مو و پوست سر...</td>\n",
       "      <td>1397-04-18 21:26:02</td>\n",
       "    </tr>\n",
       "  </tbody>\n",
       "</table>\n",
       "<p>100008 rows × 4 columns</p>\n",
       "</div>"
      ],
      "text/plain": [
       "        product_id         miladi_date  \\\n",
       "0            90213 2018-08-23 11:05:47   \n",
       "1            56871 2018-08-23 10:21:53   \n",
       "2            49738 2018-10-13 11:13:39   \n",
       "3           134367 2018-10-17 11:27:57   \n",
       "4           151402 2018-08-23 10:28:47   \n",
       "...            ...                 ...   \n",
       "100003      104998 2018-07-09 21:27:12   \n",
       "100004      333389 2018-07-09 21:26:52   \n",
       "100005      356546 2018-07-09 21:26:30   \n",
       "100006       33874 2018-07-09 21:26:12   \n",
       "100007      318278 2018-07-09 21:26:02   \n",
       "\n",
       "                                                  comment          shamsi_date  \n",
       "0       سلام قبل اینکه نظرم رو بگم میخواستم به یک موضو...  1397-06-01 11:05:47  \n",
       "1       بوی تند ولی خوشبو دارهماندگاریش خوبه و هر چقدر...  1397-06-01 10:21:53  \n",
       "2       متاسفانه عمر مفید این ماشین کم هست و بعد از دو...  1397-07-21 11:13:39  \n",
       "3       افا از وقتی من اینو واسه پسرم خریدم همه بچه ها...  1397-07-25 11:27:57  \n",
       "4       این تیغ محصول کشور آمریکا هست  در عکس محصول مش...  1397-06-01 10:28:47  \n",
       "...                                                   ...                  ...  \n",
       "100003  قیمت مناسبی داره در حال حاضر  با این پول سخت م...  1397-04-18 21:27:12  \n",
       "100004  در کل راضیم درسته لنوو با قیمت پایین تر هسته و...  1397-04-18 21:26:52  \n",
       "100005  من این محصول رو از بیرون تهیه کردم  و باید بگم...  1397-04-18 21:26:30  \n",
       "100006  دوسال ونیم پیش از دیجی کالا گرفتم هنوز مثل روز...  1397-04-18 21:26:12  \n",
       "100007  با استفاده از این شامپو مشکل خشکی مو و پوست سر...  1397-04-18 21:26:02  \n",
       "\n",
       "[100008 rows x 4 columns]"
      ]
     },
     "execution_count": 23,
     "metadata": {},
     "output_type": "execute_result"
    }
   ],
   "source": [
    "from persiantools.jdatetime import JalaliDateTime\n",
    "comment_data['confirmed_at'] = pd.to_datetime(comment_data['confirmed_at'])\n",
    "\n",
    "comment_data[\"shamsi_date\"] = comment_data[\"confirmed_at\"].apply(lambda x: JalaliDateTime(x).strftime(\"%Y-%m-%d %H:%M:%S\"))\n",
    "comment_data.rename(columns={\"confirmed_at\": \"miladi_date\"}, inplace=True)\n",
    "comment_data"
   ]
  },
  {
   "cell_type": "markdown",
   "id": "c0fa9d59-7345-4101-b80c-bd949b889dd8",
   "metadata": {},
   "source": [
    "## تعداد کامنت ها در ماه های موجود ##"
   ]
  },
  {
   "cell_type": "markdown",
   "id": "def6ac07-9209-4961-a6d9-f2f9f5cd8614",
   "metadata": {},
   "source": [
    "در ابتدا یک ستون از ماه ها به دیتای خودمون اضافه کردم و در فایل دیتاهای خود از ماه ۳ تا ۱۰ رو داشتیم که تعداد کامنت ها در هر ماه رو روی نمودار رسم کردم تا از تعداد آن ها در هر ماه با خبر شیم\n",
    "همچنین تعداد دقیق هر کامنت در هر ماه هم نوشته شده است"
   ]
  },
  {
   "cell_type": "code",
   "execution_count": 26,
   "id": "78340814-93e1-40e1-a67f-2cf5a33e6db9",
   "metadata": {},
   "outputs": [
    {
     "name": "stdout",
     "output_type": "stream",
     "text": [
      "تعداد کامنت ها در ماه 3 = 4370\n",
      "تعداد کامنت ها در ماه 4 = 33350\n",
      "تعداد کامنت ها در ماه 5 = 26579\n",
      "تعداد کامنت ها در ماه 6 = 26906\n",
      "تعداد کامنت ها در ماه 7 = 7380\n",
      "تعداد کامنت ها در ماه 8 = 319\n",
      "تعداد کامنت ها در ماه 9 = 856\n",
      "تعداد کامنت ها در ماه 10 = 248\n"
     ]
    },
    {
     "data": {
      "image/png": "[encoded data removed]",
      "text/plain": [
       "<Figure size 900x500 with 1 Axes>"
      ]
     },
     "metadata": {},
     "output_type": "display_data"
    }
   ],
   "source": [
    "comment_data['miladi_date'] = pd.to_datetime(comment_data['miladi_date'])\n",
    "\n",
    "comment_data['month'] = comment_data['miladi_date'].dt.month\n",
    "\n",
    "\n",
    "monthly_counts = comment_data['month'].value_counts().sort_index()\n",
    "i = 3\n",
    "for x in monthly_counts:\n",
    "    print(f\"تعداد کامنت ها در ماه {i} = {x}\")\n",
    "    i+=1\n",
    "\n",
    "plt.figure(figsize=(9, 5))\n",
    "sns.countplot(x='month', data=comment_data)\n",
    "plt.title(\"The number of comments is from 3 to 10 months\")\n",
    "plt.xlabel(\"Month\")\n",
    "plt.ylabel(\"Number of comments\")\n",
    "\n",
    "\n",
    "plt.tight_layout()\n",
    "plt.show()\n"
   ]
  },
  {
   "cell_type": "markdown",
   "id": "087748b4-b9b5-4618-8420-ebfcd1eb274b",
   "metadata": {},
   "source": [
    "## پنج آیدی محصول که کامنت های بیشتری دارند ##"
   ]
  },
  {
   "cell_type": "markdown",
   "id": "7754d465-c57a-4d2e-ad87-538e1180e5fd",
   "metadata": {},
   "source": [
    "اکنون پنج تا از آیدی محصولی که تعداد بیشترین کامنت هارو داشته پیدا کردم و روی نمودار نمایش دادم تا در ادامه ی کار بتونیم از اون ها استفاده دیگری هم در نتیجه گیری هامون داشته باشیم"
   ]
  },
  {
   "cell_type": "code",
   "execution_count": 29,
   "id": "dd086f00-18ed-4e7e-8760-0c6bfa53a99f",
   "metadata": {},
   "outputs": [
    {
     "name": "stdout",
     "output_type": "stream",
     "text": [
      "تعداد کامنت های محصول با آیدی(531870) => 579 عدد می باشد\n",
      "تعداد کامنت های محصول با آیدی(356804) => 532 عدد می باشد\n",
      "تعداد کامنت های محصول با آیدی(467630) => 374 عدد می باشد\n",
      "تعداد کامنت های محصول با آیدی(180451) => 297 عدد می باشد\n",
      "تعداد کامنت های محصول با آیدی(327934) => 228 عدد می باشد\n"
     ]
    },
    {
     "data": {
      "image/png": "[encoded data removed]",
      "text/plain": [
       "<Figure size 1100x500 with 1 Axes>"
      ]
     },
     "metadata": {},
     "output_type": "display_data"
    }
   ],
   "source": [
    "product_count = Counter(comment_data[\"product_id\"])\n",
    "\n",
    "top_5_products = product_count.most_common(5)\n",
    "\n",
    "products_id, counts = zip(*top_5_products)\n",
    "\n",
    "number = 0\n",
    "for i in range(5):\n",
    "    print(f\"تعداد کامنت های محصول با آیدی({products_id[number]}) => {counts[number]} عدد می باشد\")\n",
    "    number+=1\n",
    "\n",
    "\n",
    "pro_list = []\n",
    "for pro in products_id:\n",
    "    pro_list.append(f\"product_id({pro})\")\n",
    "\n",
    "\n",
    "plt.figure(figsize=(11,5))\n",
    "plt.bar(pro_list, counts)\n",
    "plt.show()"
   ]
  },
  {
   "cell_type": "code",
   "execution_count": 30,
   "id": "25f1af4c-07dc-4d2f-9947-ec6fbf97948c",
   "metadata": {},
   "outputs": [
    {
     "data": {
      "text/html": [
       "<div>\n",
       "<style scoped>\n",
       "    .dataframe tbody tr th:only-of-type {\n",
       "        vertical-align: middle;\n",
       "    }\n",
       "\n",
       "    .dataframe tbody tr th {\n",
       "        vertical-align: top;\n",
       "    }\n",
       "\n",
       "    .dataframe thead th {\n",
       "        text-align: right;\n",
       "    }\n",
       "</style>\n",
       "<table border=\"1\" class=\"dataframe\">\n",
       "  <thead>\n",
       "    <tr style=\"text-align: right;\">\n",
       "      <th></th>\n",
       "      <th>product_id</th>\n",
       "      <th>miladi_date</th>\n",
       "      <th>comment</th>\n",
       "      <th>shamsi_date</th>\n",
       "      <th>month</th>\n",
       "    </tr>\n",
       "  </thead>\n",
       "  <tbody>\n",
       "    <tr>\n",
       "      <th>0</th>\n",
       "      <td>90213</td>\n",
       "      <td>2018-08-23 11:05:47</td>\n",
       "      <td>سلام قبل اینکه نظرم رو بگم میخواستم به یک موضو...</td>\n",
       "      <td>1397-06-01 11:05:47</td>\n",
       "      <td>8</td>\n",
       "    </tr>\n",
       "    <tr>\n",
       "      <th>1</th>\n",
       "      <td>56871</td>\n",
       "      <td>2018-08-23 10:21:53</td>\n",
       "      <td>بوی تند ولی خوشبو دارهماندگاریش خوبه و هر چقدر...</td>\n",
       "      <td>1397-06-01 10:21:53</td>\n",
       "      <td>8</td>\n",
       "    </tr>\n",
       "    <tr>\n",
       "      <th>2</th>\n",
       "      <td>49738</td>\n",
       "      <td>2018-10-13 11:13:39</td>\n",
       "      <td>متاسفانه عمر مفید این ماشین کم هست و بعد از دو...</td>\n",
       "      <td>1397-07-21 11:13:39</td>\n",
       "      <td>10</td>\n",
       "    </tr>\n",
       "    <tr>\n",
       "      <th>3</th>\n",
       "      <td>134367</td>\n",
       "      <td>2018-10-17 11:27:57</td>\n",
       "      <td>افا از وقتی من اینو واسه پسرم خریدم همه بچه ها...</td>\n",
       "      <td>1397-07-25 11:27:57</td>\n",
       "      <td>10</td>\n",
       "    </tr>\n",
       "    <tr>\n",
       "      <th>4</th>\n",
       "      <td>151402</td>\n",
       "      <td>2018-08-23 10:28:47</td>\n",
       "      <td>این تیغ محصول کشور آمریکا هست  در عکس محصول مش...</td>\n",
       "      <td>1397-06-01 10:28:47</td>\n",
       "      <td>8</td>\n",
       "    </tr>\n",
       "    <tr>\n",
       "      <th>...</th>\n",
       "      <td>...</td>\n",
       "      <td>...</td>\n",
       "      <td>...</td>\n",
       "      <td>...</td>\n",
       "      <td>...</td>\n",
       "    </tr>\n",
       "    <tr>\n",
       "      <th>100003</th>\n",
       "      <td>104998</td>\n",
       "      <td>2018-07-09 21:27:12</td>\n",
       "      <td>قیمت مناسبی داره در حال حاضر  با این پول سخت م...</td>\n",
       "      <td>1397-04-18 21:27:12</td>\n",
       "      <td>7</td>\n",
       "    </tr>\n",
       "    <tr>\n",
       "      <th>100004</th>\n",
       "      <td>333389</td>\n",
       "      <td>2018-07-09 21:26:52</td>\n",
       "      <td>در کل راضیم درسته لنوو با قیمت پایین تر هسته و...</td>\n",
       "      <td>1397-04-18 21:26:52</td>\n",
       "      <td>7</td>\n",
       "    </tr>\n",
       "    <tr>\n",
       "      <th>100005</th>\n",
       "      <td>356546</td>\n",
       "      <td>2018-07-09 21:26:30</td>\n",
       "      <td>من این محصول رو از بیرون تهیه کردم  و باید بگم...</td>\n",
       "      <td>1397-04-18 21:26:30</td>\n",
       "      <td>7</td>\n",
       "    </tr>\n",
       "    <tr>\n",
       "      <th>100006</th>\n",
       "      <td>33874</td>\n",
       "      <td>2018-07-09 21:26:12</td>\n",
       "      <td>دوسال ونیم پیش از دیجی کالا گرفتم هنوز مثل روز...</td>\n",
       "      <td>1397-04-18 21:26:12</td>\n",
       "      <td>7</td>\n",
       "    </tr>\n",
       "    <tr>\n",
       "      <th>100007</th>\n",
       "      <td>318278</td>\n",
       "      <td>2018-07-09 21:26:02</td>\n",
       "      <td>با استفاده از این شامپو مشکل خشکی مو و پوست سر...</td>\n",
       "      <td>1397-04-18 21:26:02</td>\n",
       "      <td>7</td>\n",
       "    </tr>\n",
       "  </tbody>\n",
       "</table>\n",
       "<p>100008 rows × 5 columns</p>\n",
       "</div>"
      ],
      "text/plain": [
       "        product_id         miladi_date  \\\n",
       "0            90213 2018-08-23 11:05:47   \n",
       "1            56871 2018-08-23 10:21:53   \n",
       "2            49738 2018-10-13 11:13:39   \n",
       "3           134367 2018-10-17 11:27:57   \n",
       "4           151402 2018-08-23 10:28:47   \n",
       "...            ...                 ...   \n",
       "100003      104998 2018-07-09 21:27:12   \n",
       "100004      333389 2018-07-09 21:26:52   \n",
       "100005      356546 2018-07-09 21:26:30   \n",
       "100006       33874 2018-07-09 21:26:12   \n",
       "100007      318278 2018-07-09 21:26:02   \n",
       "\n",
       "                                                  comment  \\\n",
       "0       سلام قبل اینکه نظرم رو بگم میخواستم به یک موضو...   \n",
       "1       بوی تند ولی خوشبو دارهماندگاریش خوبه و هر چقدر...   \n",
       "2       متاسفانه عمر مفید این ماشین کم هست و بعد از دو...   \n",
       "3       افا از وقتی من اینو واسه پسرم خریدم همه بچه ها...   \n",
       "4       این تیغ محصول کشور آمریکا هست  در عکس محصول مش...   \n",
       "...                                                   ...   \n",
       "100003  قیمت مناسبی داره در حال حاضر  با این پول سخت م...   \n",
       "100004  در کل راضیم درسته لنوو با قیمت پایین تر هسته و...   \n",
       "100005  من این محصول رو از بیرون تهیه کردم  و باید بگم...   \n",
       "100006  دوسال ونیم پیش از دیجی کالا گرفتم هنوز مثل روز...   \n",
       "100007  با استفاده از این شامپو مشکل خشکی مو و پوست سر...   \n",
       "\n",
       "                shamsi_date  month  \n",
       "0       1397-06-01 11:05:47      8  \n",
       "1       1397-06-01 10:21:53      8  \n",
       "2       1397-07-21 11:13:39     10  \n",
       "3       1397-07-25 11:27:57     10  \n",
       "4       1397-06-01 10:28:47      8  \n",
       "...                     ...    ...  \n",
       "100003  1397-04-18 21:27:12      7  \n",
       "100004  1397-04-18 21:26:52      7  \n",
       "100005  1397-04-18 21:26:30      7  \n",
       "100006  1397-04-18 21:26:12      7  \n",
       "100007  1397-04-18 21:26:02      7  \n",
       "\n",
       "[100008 rows x 5 columns]"
      ]
     },
     "execution_count": 30,
     "metadata": {},
     "output_type": "execute_result"
    }
   ],
   "source": [
    "comment_data"
   ]
  },
  {
   "cell_type": "markdown",
   "id": "6e3cb5a0-5578-4374-bf35-586f1ba9aa57",
   "metadata": {},
   "source": [
    "# تحلیل و بررسی دیتای محصولات #"
   ]
  },
  {
   "cell_type": "markdown",
   "id": "4310e5f1-500a-45e1-9122-2c3ab058ef58",
   "metadata": {},
   "source": [
    "ابتدا فایل اکسل محصولات رو به سی اس وی تبدیل کردیم "
   ]
  },
  {
   "cell_type": "code",
   "execution_count": 34,
   "id": "99b85d84-e06b-4de6-9000-b3fe407fa8ea",
   "metadata": {},
   "outputs": [],
   "source": [
    "product_data = pd.read_excel(\"product.xlsx\")\n",
    "product_data.to_csv(\"product.csv\", index=False)"
   ]
  },
  {
   "cell_type": "markdown",
   "id": "cf7d64bd-5409-4e5c-9953-ef373ece46e7",
   "metadata": {},
   "source": [
    "## باز خوانی فایل محصولات و دریافت مشخصات آن ##"
   ]
  },
  {
   "cell_type": "code",
   "execution_count": 36,
   "id": "44df91a9-bdac-42d3-9c58-e4b8a63141e9",
   "metadata": {},
   "outputs": [
    {
     "name": "stdout",
     "output_type": "stream",
     "text": [
      "<class 'pandas.core.frame.DataFrame'>\n",
      "RangeIndex: 100000 entries, 0 to 99999\n",
      "Data columns (total 10 columns):\n",
      " #   Column              Non-Null Count   Dtype \n",
      "---  ------              --------------   ----- \n",
      " 0   id                  100000 non-null  int64 \n",
      " 1   product_title_fa    100000 non-null  object\n",
      " 2   product_title_en    21165 non-null   object\n",
      " 3   url_code            99983 non-null   object\n",
      " 4   title_alt           77432 non-null   object\n",
      " 5   category_title_fa   100000 non-null  object\n",
      " 6   category_keywords   99740 non-null   object\n",
      " 7   brand_name_fa       100000 non-null  object\n",
      " 8   brand_name_en       100000 non-null  object\n",
      " 9   product_attributes  3050 non-null    object\n",
      "dtypes: int64(1), object(9)\n",
      "memory usage: 7.6+ MB\n"
     ]
    }
   ],
   "source": [
    "product_data = pd.read_csv(\"product.csv\", low_memory=False)\n",
    "product_data.info()"
   ]
  },
  {
   "cell_type": "markdown",
   "id": "418deded-a402-41f9-b1e1-76f404ee52b1",
   "metadata": {},
   "source": [
    "## دریافت دو ردیف اول محصولات ##"
   ]
  },
  {
   "cell_type": "code",
   "execution_count": 76,
   "id": "49162a85-d6eb-4d22-ada1-08c391616f1f",
   "metadata": {},
   "outputs": [
    {
     "data": {
      "text/html": [
       "<div>\n",
       "<style scoped>\n",
       "    .dataframe tbody tr th:only-of-type {\n",
       "        vertical-align: middle;\n",
       "    }\n",
       "\n",
       "    .dataframe tbody tr th {\n",
       "        vertical-align: top;\n",
       "    }\n",
       "\n",
       "    .dataframe thead th {\n",
       "        text-align: right;\n",
       "    }\n",
       "</style>\n",
       "<table border=\"1\" class=\"dataframe\">\n",
       "  <thead>\n",
       "    <tr style=\"text-align: right;\">\n",
       "      <th></th>\n",
       "      <th>id</th>\n",
       "      <th>product_title_fa</th>\n",
       "      <th>product_title_en</th>\n",
       "      <th>url_code</th>\n",
       "      <th>title_alt</th>\n",
       "      <th>category_title_fa</th>\n",
       "      <th>category_keywords</th>\n",
       "      <th>brand_name_fa</th>\n",
       "      <th>brand_name_en</th>\n",
       "      <th>product_attributes</th>\n",
       "    </tr>\n",
       "  </thead>\n",
       "  <tbody>\n",
       "    <tr>\n",
       "      <th>0</th>\n",
       "      <td>723302</td>\n",
       "      <td>ماگ حرارتی لومانا مدل عرفانه کد MAG1042</td>\n",
       "      <td>NaN</td>\n",
       "      <td>ماگ-حرارتی-لومانا-مدل-عرفانه-کد-mag1042</td>\n",
       "      <td>mug، لیوان ، ماگ ، فنجان ، لیوان دسته دار ، لو...</td>\n",
       "      <td>ماگ، لیوان و فنجان</td>\n",
       "      <td>ماگ، لیوان و فنجان CupandMug</td>\n",
       "      <td>لومانا</td>\n",
       "      <td>Lomana</td>\n",
       "      <td>[{\"Key\":\"وزن بسته‌بندی\",\"Value\":\"480\"},{\"Key\":...</td>\n",
       "    </tr>\n",
       "    <tr>\n",
       "      <th>1</th>\n",
       "      <td>727089</td>\n",
       "      <td>ست آبکش و آبگیر تیتیز مدل AP-9141 سایز متوسط</td>\n",
       "      <td>NaN</td>\n",
       "      <td>ست-آبکش-و-آبگیر-تیتیز-مدل-ap-9141-سایز-متوسط</td>\n",
       "      <td>;hsi, steel, کاسه، کاسه بامبو، لگن، کالا خانه ...</td>\n",
       "      <td>آبکش و آبگیر</td>\n",
       "      <td>آبکش و آبگیر VirgoBasin</td>\n",
       "      <td>تیتیز</td>\n",
       "      <td>Titiz</td>\n",
       "      <td>[{\"Key\":\"دستگیره\",\"Value\":\"1 جفت\"},{\"Key\":\"نوع...</td>\n",
       "    </tr>\n",
       "    <tr>\n",
       "      <th>2</th>\n",
       "      <td>727096</td>\n",
       "      <td>روغن مرطوب کننده کدلی مدل Divine oil حجم 50 می...</td>\n",
       "      <td>NaN</td>\n",
       "      <td>روغن-مرطوب-کننده-کدلی-مدل-divine-oil-حجم-50-می...</td>\n",
       "      <td>NaN</td>\n",
       "      <td>روغن صورت</td>\n",
       "      <td>روغن صورت Face-Oil</td>\n",
       "      <td>کدلی</td>\n",
       "      <td>CAUDALIE</td>\n",
       "      <td>[{\"Key\":\"حجم\",\"Value\":\"50\"},{\"Key\":\"نوع عصاره\"...</td>\n",
       "    </tr>\n",
       "    <tr>\n",
       "      <th>3</th>\n",
       "      <td>727803</td>\n",
       "      <td>ست لحاف پوپلین هوبی مدل اما یکنفره چهار تکه کاوری</td>\n",
       "      <td>Hobby Emma Quilt Single Set - 4 Pieces</td>\n",
       "      <td>ست-لحاف-پوپلین-هوبی-مدل-اما-یکنفره-چهار-تکه-کاوری</td>\n",
       "      <td>روتختی اسپرت، اما، emma، روتختی یکنفره، لحاف ی...</td>\n",
       "      <td>سرویس خواب</td>\n",
       "      <td>سرویس خواب SleepSet</td>\n",
       "      <td>هوبی</td>\n",
       "      <td>Hobby</td>\n",
       "      <td>[{\"Key\":\"ابعاد رو بالشی\",\"Value\":\"50×70\"},{\"Ke...</td>\n",
       "    </tr>\n",
       "    <tr>\n",
       "      <th>4</th>\n",
       "      <td>725222</td>\n",
       "      <td>ماگ آبنبات رنگی مدل AR0143</td>\n",
       "      <td>NaN</td>\n",
       "      <td>ماگ-آبنبات-رنگی-مدل-ar0143</td>\n",
       "      <td>ماگ آبنبات رنگی،شذدشذشفقشدله،Mag Abnabatrangi</td>\n",
       "      <td>ماگ، لیوان و فنجان</td>\n",
       "      <td>ماگ، لیوان و فنجان CupandMug</td>\n",
       "      <td>متفرقه</td>\n",
       "      <td>Miscellaneous</td>\n",
       "      <td>[{\"Key\":\"در\",\"Value\":\"ندارد\"},{\"Key\":\"جنس\",\"Va...</td>\n",
       "    </tr>\n",
       "  </tbody>\n",
       "</table>\n",
       "</div>"
      ],
      "text/plain": [
       "       id                                   product_title_fa  \\\n",
       "0  723302            ماگ حرارتی لومانا مدل عرفانه کد MAG1042   \n",
       "1  727089       ست آبکش و آبگیر تیتیز مدل AP-9141 سایز متوسط   \n",
       "2  727096  روغن مرطوب کننده کدلی مدل Divine oil حجم 50 می...   \n",
       "3  727803  ست لحاف پوپلین هوبی مدل اما یکنفره چهار تکه کاوری   \n",
       "4  725222                         ماگ آبنبات رنگی مدل AR0143   \n",
       "\n",
       "                         product_title_en  \\\n",
       "0                                     NaN   \n",
       "1                                     NaN   \n",
       "2                                     NaN   \n",
       "3  Hobby Emma Quilt Single Set - 4 Pieces   \n",
       "4                                     NaN   \n",
       "\n",
       "                                            url_code  \\\n",
       "0            ماگ-حرارتی-لومانا-مدل-عرفانه-کد-mag1042   \n",
       "1       ست-آبکش-و-آبگیر-تیتیز-مدل-ap-9141-سایز-متوسط   \n",
       "2  روغن-مرطوب-کننده-کدلی-مدل-divine-oil-حجم-50-می...   \n",
       "3  ست-لحاف-پوپلین-هوبی-مدل-اما-یکنفره-چهار-تکه-کاوری   \n",
       "4                         ماگ-آبنبات-رنگی-مدل-ar0143   \n",
       "\n",
       "                                           title_alt   category_title_fa  \\\n",
       "0  mug، لیوان ، ماگ ، فنجان ، لیوان دسته دار ، لو...  ماگ، لیوان و فنجان   \n",
       "1  ;hsi, steel, کاسه، کاسه بامبو، لگن، کالا خانه ...        آبکش و آبگیر   \n",
       "2                                                NaN           روغن صورت   \n",
       "3  روتختی اسپرت، اما، emma، روتختی یکنفره، لحاف ی...          سرویس خواب   \n",
       "4      ماگ آبنبات رنگی،شذدشذشفقشدله،Mag Abnabatrangi  ماگ، لیوان و فنجان   \n",
       "\n",
       "              category_keywords brand_name_fa  brand_name_en  \\\n",
       "0  ماگ، لیوان و فنجان CupandMug        لومانا         Lomana   \n",
       "1       آبکش و آبگیر VirgoBasin         تیتیز          Titiz   \n",
       "2            روغن صورت Face-Oil          کدلی       CAUDALIE   \n",
       "3           سرویس خواب SleepSet          هوبی          Hobby   \n",
       "4  ماگ، لیوان و فنجان CupandMug        متفرقه  Miscellaneous   \n",
       "\n",
       "                                  product_attributes  \n",
       "0  [{\"Key\":\"وزن بسته‌بندی\",\"Value\":\"480\"},{\"Key\":...  \n",
       "1  [{\"Key\":\"دستگیره\",\"Value\":\"1 جفت\"},{\"Key\":\"نوع...  \n",
       "2  [{\"Key\":\"حجم\",\"Value\":\"50\"},{\"Key\":\"نوع عصاره\"...  \n",
       "3  [{\"Key\":\"ابعاد رو بالشی\",\"Value\":\"50×70\"},{\"Ke...  \n",
       "4  [{\"Key\":\"در\",\"Value\":\"ندارد\"},{\"Key\":\"جنس\",\"Va...  "
      ]
     },
     "execution_count": 76,
     "metadata": {},
     "output_type": "execute_result"
    }
   ],
   "source": [
    "product_data.head()"
   ]
  },
  {
   "cell_type": "markdown",
   "id": "2e59a6d3-27df-4823-92d1-59badd80e9dd",
   "metadata": {},
   "source": [
    "## دریافت دو ردیف آخر دیتای محصولات ##"
   ]
  },
  {
   "cell_type": "code",
   "execution_count": 40,
   "id": "a5bd3415-4a7e-4840-8f80-ee9dc5941167",
   "metadata": {},
   "outputs": [
    {
     "data": {
      "text/html": [
       "<div>\n",
       "<style scoped>\n",
       "    .dataframe tbody tr th:only-of-type {\n",
       "        vertical-align: middle;\n",
       "    }\n",
       "\n",
       "    .dataframe tbody tr th {\n",
       "        vertical-align: top;\n",
       "    }\n",
       "\n",
       "    .dataframe thead th {\n",
       "        text-align: right;\n",
       "    }\n",
       "</style>\n",
       "<table border=\"1\" class=\"dataframe\">\n",
       "  <thead>\n",
       "    <tr style=\"text-align: right;\">\n",
       "      <th></th>\n",
       "      <th>id</th>\n",
       "      <th>product_title_fa</th>\n",
       "      <th>product_title_en</th>\n",
       "      <th>url_code</th>\n",
       "      <th>title_alt</th>\n",
       "      <th>category_title_fa</th>\n",
       "      <th>category_keywords</th>\n",
       "      <th>brand_name_fa</th>\n",
       "      <th>brand_name_en</th>\n",
       "      <th>product_attributes</th>\n",
       "    </tr>\n",
       "  </thead>\n",
       "  <tbody>\n",
       "    <tr>\n",
       "      <th>99998</th>\n",
       "      <td>799047</td>\n",
       "      <td>سینی  برایتون مدل BT-8387</td>\n",
       "      <td>NaN</td>\n",
       "      <td>سینی-برایتون-مدل-bt-8387</td>\n",
       "      <td>سینی، سینی چای،  sdkd ]hd</td>\n",
       "      <td>سینی</td>\n",
       "      <td>سینی Tray</td>\n",
       "      <td>برایتون</td>\n",
       "      <td>briton</td>\n",
       "      <td>NaN</td>\n",
       "    </tr>\n",
       "    <tr>\n",
       "      <th>99999</th>\n",
       "      <td>782276</td>\n",
       "      <td>تیشرت زنانه تارپون طرح فانتزی کد 10532</td>\n",
       "      <td>NaN</td>\n",
       "      <td>تیشرت-زنانه-تارپون-طرح-فانتزی-کد-10532</td>\n",
       "      <td>تیشرت، تیشرت آستین کوتاه، تیشرت تارپون، تیشرت ...</td>\n",
       "      <td>تی‌شرت و پولوشرت زنانه</td>\n",
       "      <td>تی‌شرت و پولوشرت زنانه womens-tshirts-polos</td>\n",
       "      <td>تارپون</td>\n",
       "      <td>tarpon</td>\n",
       "      <td>NaN</td>\n",
       "    </tr>\n",
       "  </tbody>\n",
       "</table>\n",
       "</div>"
      ],
      "text/plain": [
       "           id                        product_title_fa product_title_en  \\\n",
       "99998  799047               سینی  برایتون مدل BT-8387              NaN   \n",
       "99999  782276  تیشرت زنانه تارپون طرح فانتزی کد 10532              NaN   \n",
       "\n",
       "                                     url_code  \\\n",
       "99998                سینی-برایتون-مدل-bt-8387   \n",
       "99999  تیشرت-زنانه-تارپون-طرح-فانتزی-کد-10532   \n",
       "\n",
       "                                               title_alt  \\\n",
       "99998                          سینی، سینی چای،  sdkd ]hd   \n",
       "99999  تیشرت، تیشرت آستین کوتاه، تیشرت تارپون، تیشرت ...   \n",
       "\n",
       "            category_title_fa                            category_keywords  \\\n",
       "99998                    سینی                                    سینی Tray   \n",
       "99999  تی‌شرت و پولوشرت زنانه  تی‌شرت و پولوشرت زنانه womens-tshirts-polos   \n",
       "\n",
       "      brand_name_fa brand_name_en product_attributes  \n",
       "99998       برایتون        briton                NaN  \n",
       "99999        تارپون        tarpon                NaN  "
      ]
     },
     "execution_count": 40,
     "metadata": {},
     "output_type": "execute_result"
    }
   ],
   "source": [
    "product_data.tail(2)"
   ]
  },
  {
   "cell_type": "markdown",
   "id": "2c1fe459-e007-4d97-aada-a810aaafe808",
   "metadata": {},
   "source": [
    "## پنج دسته بندی پرفروش ##"
   ]
  },
  {
   "cell_type": "markdown",
   "id": "61883cd7-f46c-4a40-8fc1-cb0e6700205c",
   "metadata": {},
   "source": [
    "دریافت و نمایش پنج دسته بندی پرمحصول که بیشتر در دیتاهای ما دیده میشود"
   ]
  },
  {
   "cell_type": "code",
   "execution_count": 43,
   "id": "080863a9-10c3-4198-85ae-1b8b81e57d07",
   "metadata": {},
   "outputs": [
    {
     "name": "stdout",
     "output_type": "stream",
     "text": [
      "تعداد محصولات از دسته بندی (کیف و کاور گوشی ) ==> 4384 عدد می باشد\n",
      "تعداد محصولات از دسته بندی (تیشرت و پولوشرت مردانه ) ==> 4038 عدد می باشد\n",
      "تعداد محصولات از دسته بندی (محافظ صفحه نمایش گوشی ) ==> 1962 عدد می باشد\n",
      "تعداد محصولات از دسته بندی (ساعت مچی عقربهای  ) ==> 1932 عدد می باشد\n",
      "تعداد محصولات از دسته بندی (کتاب چاپی ) ==> 1912 عدد می باشد\n"
     ]
    },
    {
     "data": {
      "image/png": "[encoded data removed]",
      "text/plain": [
       "<Figure size 1500x500 with 1 Axes>"
      ]
     },
     "metadata": {},
     "output_type": "display_data"
    }
   ],
   "source": [
    "id_count = Counter(product_data[\"category_keywords\"])\n",
    "top_5_id = id_count.most_common(5)\n",
    "\n",
    "top_list = []\n",
    "top_list_en = []\n",
    "for x in top_5_id:\n",
    "    y = re.sub(r'[^آ-ی\\s]', '', x[0])\n",
    "    z = re.sub(r'[^a-zA-Z\\s]', '', x[0])\n",
    "    top_list.append((y, x[1])) \n",
    "    top_list_en.append((z, x[1])) \n",
    "    \n",
    "category, count = zip(*top_list)\n",
    "\n",
    "categories = [re.sub(r\"A-Za-z\",\"\",item[0].strip()) for item in top_list_en]\n",
    "\n",
    "i = 0\n",
    "for c in category:\n",
    "    print(f\"تعداد محصولات از دسته بندی ({c}) ==> {count[i]} عدد می باشد\")\n",
    "    i+=1\n",
    "    \n",
    "plt.figure(figsize=(15,5))\n",
    "plt.bar(categories, count)\n",
    "\n",
    "plt.show()\n"
   ]
  },
  {
   "cell_type": "markdown",
   "id": "9ff5bc56-662e-4086-ada4-4aeb493190fb",
   "metadata": {},
   "source": [
    "# تحلیل و بررسی دیتای سفارشات #"
   ]
  },
  {
   "cell_type": "markdown",
   "id": "acfc1ab2-4ece-4db2-966d-7ed2dba42194",
   "metadata": {},
   "source": [
    "دریافت مشخصات دیتای فایل سفارشات "
   ]
  },
  {
   "cell_type": "code",
   "execution_count": 46,
   "id": "db24e2c3-0742-4d95-a3f4-a68c68e0bd61",
   "metadata": {},
   "outputs": [
    {
     "name": "stdout",
     "output_type": "stream",
     "text": [
      "<class 'pandas.core.frame.DataFrame'>\n",
      "RangeIndex: 200000 entries, 0 to 199999\n",
      "Data columns (total 7 columns):\n",
      " #   Column                 Non-Null Count   Dtype  \n",
      "---  ------                 --------------   -----  \n",
      " 0   ID_Order               200000 non-null  int64  \n",
      " 1   ID_Customer            200000 non-null  int64  \n",
      " 2   ID_Item                200000 non-null  int64  \n",
      " 3   DateTime_CartFinalize  200000 non-null  object \n",
      " 4   Amount_Gross_Order     200000 non-null  float64\n",
      " 5   city_name_fa           200000 non-null  object \n",
      " 6   Quantity_item          200000 non-null  float64\n",
      "dtypes: float64(2), int64(3), object(2)\n",
      "memory usage: 10.7+ MB\n"
     ]
    }
   ],
   "source": [
    "orders_data = pd.read_csv(\"orders.csv\")\n",
    "orders_data.info()"
   ]
  },
  {
   "cell_type": "markdown",
   "id": "47aca1ca-71ae-4b15-a1b6-5f7dc2e14823",
   "metadata": {},
   "source": [
    "## نمایش دو ردیف اول دیتا ##"
   ]
  },
  {
   "cell_type": "markdown",
   "id": "ac82f0f6-d88d-477e-92f7-87b4f74a500c",
   "metadata": {},
   "source": [
    "دوردیف دیتای سفارشات رو بررسی می کنیم"
   ]
  },
  {
   "cell_type": "code",
   "execution_count": 49,
   "id": "8878d3e1-1510-4121-9e65-ea690e351138",
   "metadata": {},
   "outputs": [
    {
     "data": {
      "text/html": [
       "<div>\n",
       "<style scoped>\n",
       "    .dataframe tbody tr th:only-of-type {\n",
       "        vertical-align: middle;\n",
       "    }\n",
       "\n",
       "    .dataframe tbody tr th {\n",
       "        vertical-align: top;\n",
       "    }\n",
       "\n",
       "    .dataframe thead th {\n",
       "        text-align: right;\n",
       "    }\n",
       "</style>\n",
       "<table border=\"1\" class=\"dataframe\">\n",
       "  <thead>\n",
       "    <tr style=\"text-align: right;\">\n",
       "      <th></th>\n",
       "      <th>ID_Order</th>\n",
       "      <th>ID_Customer</th>\n",
       "      <th>ID_Item</th>\n",
       "      <th>DateTime_CartFinalize</th>\n",
       "      <th>Amount_Gross_Order</th>\n",
       "      <th>city_name_fa</th>\n",
       "      <th>Quantity_item</th>\n",
       "    </tr>\n",
       "  </thead>\n",
       "  <tbody>\n",
       "    <tr>\n",
       "      <th>0</th>\n",
       "      <td>2714054</td>\n",
       "      <td>469662</td>\n",
       "      <td>21386</td>\n",
       "      <td>2015-10-15 08:50:56.000</td>\n",
       "      <td>597982.0</td>\n",
       "      <td>محمود آباد</td>\n",
       "      <td>1.0</td>\n",
       "    </tr>\n",
       "    <tr>\n",
       "      <th>1</th>\n",
       "      <td>11104039</td>\n",
       "      <td>3063877</td>\n",
       "      <td>248497</td>\n",
       "      <td>2018-02-11 00:29:26.000</td>\n",
       "      <td>980000.0</td>\n",
       "      <td>خرمدره</td>\n",
       "      <td>1.0</td>\n",
       "    </tr>\n",
       "    <tr>\n",
       "      <th>2</th>\n",
       "      <td>4228130</td>\n",
       "      <td>3184893</td>\n",
       "      <td>50144</td>\n",
       "      <td>2016-06-14 00:30:08.000</td>\n",
       "      <td>229358.0</td>\n",
       "      <td>قرچک</td>\n",
       "      <td>1.0</td>\n",
       "    </tr>\n",
       "    <tr>\n",
       "      <th>3</th>\n",
       "      <td>22225624</td>\n",
       "      <td>6888562</td>\n",
       "      <td>70208</td>\n",
       "      <td>2018-09-03 14:37:19.000</td>\n",
       "      <td>16514.0</td>\n",
       "      <td>قم</td>\n",
       "      <td>1.0</td>\n",
       "    </tr>\n",
       "    <tr>\n",
       "      <th>4</th>\n",
       "      <td>4068771</td>\n",
       "      <td>2533490</td>\n",
       "      <td>67627</td>\n",
       "      <td>2016-05-21 11:51:02.000</td>\n",
       "      <td>133028.0</td>\n",
       "      <td>تهران</td>\n",
       "      <td>1.0</td>\n",
       "    </tr>\n",
       "  </tbody>\n",
       "</table>\n",
       "</div>"
      ],
      "text/plain": [
       "   ID_Order  ID_Customer  ID_Item    DateTime_CartFinalize  \\\n",
       "0   2714054       469662    21386  2015-10-15 08:50:56.000   \n",
       "1  11104039      3063877   248497  2018-02-11 00:29:26.000   \n",
       "2   4228130      3184893    50144  2016-06-14 00:30:08.000   \n",
       "3  22225624      6888562    70208  2018-09-03 14:37:19.000   \n",
       "4   4068771      2533490    67627  2016-05-21 11:51:02.000   \n",
       "\n",
       "   Amount_Gross_Order city_name_fa  Quantity_item  \n",
       "0            597982.0   محمود آباد            1.0  \n",
       "1            980000.0       خرمدره            1.0  \n",
       "2            229358.0         قرچک            1.0  \n",
       "3             16514.0           قم            1.0  \n",
       "4            133028.0        تهران            1.0  "
      ]
     },
     "execution_count": 49,
     "metadata": {},
     "output_type": "execute_result"
    }
   ],
   "source": [
    "orders_data.head()"
   ]
  },
  {
   "cell_type": "markdown",
   "id": "46422e6c-19ca-4b48-b39f-460b6e416913",
   "metadata": {},
   "source": [
    "## نمایش دو ردیف آخر دیتا ##"
   ]
  },
  {
   "cell_type": "markdown",
   "id": "10685b8c-a2fb-46e9-b69c-c489e3f2da9d",
   "metadata": {},
   "source": [
    "همچنین نگاهی به دوردیف آخر دیتا میندازیم"
   ]
  },
  {
   "cell_type": "code",
   "execution_count": 52,
   "id": "ada7a085-a01a-41ff-a005-b4b8e12ec173",
   "metadata": {},
   "outputs": [
    {
     "data": {
      "text/html": [
       "<div>\n",
       "<style scoped>\n",
       "    .dataframe tbody tr th:only-of-type {\n",
       "        vertical-align: middle;\n",
       "    }\n",
       "\n",
       "    .dataframe tbody tr th {\n",
       "        vertical-align: top;\n",
       "    }\n",
       "\n",
       "    .dataframe thead th {\n",
       "        text-align: right;\n",
       "    }\n",
       "</style>\n",
       "<table border=\"1\" class=\"dataframe\">\n",
       "  <thead>\n",
       "    <tr style=\"text-align: right;\">\n",
       "      <th></th>\n",
       "      <th>ID_Order</th>\n",
       "      <th>ID_Customer</th>\n",
       "      <th>ID_Item</th>\n",
       "      <th>DateTime_CartFinalize</th>\n",
       "      <th>Amount_Gross_Order</th>\n",
       "      <th>city_name_fa</th>\n",
       "      <th>Quantity_item</th>\n",
       "    </tr>\n",
       "  </thead>\n",
       "  <tbody>\n",
       "    <tr>\n",
       "      <th>199998</th>\n",
       "      <td>6315995</td>\n",
       "      <td>2541418</td>\n",
       "      <td>264021</td>\n",
       "      <td>2017-02-08 14:59:39.000</td>\n",
       "      <td>193486.0</td>\n",
       "      <td>همدان</td>\n",
       "      <td>1.0</td>\n",
       "    </tr>\n",
       "    <tr>\n",
       "      <th>199999</th>\n",
       "      <td>7584127</td>\n",
       "      <td>1342585</td>\n",
       "      <td>89427</td>\n",
       "      <td>2017-06-17 10:08:06.000</td>\n",
       "      <td>55046.0</td>\n",
       "      <td>بندر انزلی</td>\n",
       "      <td>1.0</td>\n",
       "    </tr>\n",
       "  </tbody>\n",
       "</table>\n",
       "</div>"
      ],
      "text/plain": [
       "        ID_Order  ID_Customer  ID_Item    DateTime_CartFinalize  \\\n",
       "199998   6315995      2541418   264021  2017-02-08 14:59:39.000   \n",
       "199999   7584127      1342585    89427  2017-06-17 10:08:06.000   \n",
       "\n",
       "        Amount_Gross_Order city_name_fa  Quantity_item  \n",
       "199998            193486.0        همدان            1.0  \n",
       "199999             55046.0   بندر انزلی            1.0  "
      ]
     },
     "execution_count": 52,
     "metadata": {},
     "output_type": "execute_result"
    }
   ],
   "source": [
    "orders_data.tail(2)"
   ]
  },
  {
   "cell_type": "markdown",
   "id": "ad796942-407b-4645-80cc-700ffda10567",
   "metadata": {},
   "source": [
    "## پیش پردازش داده ها ##"
   ]
  },
  {
   "cell_type": "markdown",
   "id": "f2501d0a-d0a2-4b87-90b3-725fdf844b2d",
   "metadata": {},
   "source": [
    "اصلاح نوع داده ی ستون زمان سفارش و ستون مقدار"
   ]
  },
  {
   "cell_type": "code",
   "execution_count": 55,
   "id": "2849945d-c130-4c71-a042-ef1723591f5d",
   "metadata": {},
   "outputs": [
    {
     "name": "stdout",
     "output_type": "stream",
     "text": [
      "datetime64[ns]\n",
      "int64\n"
     ]
    }
   ],
   "source": [
    "orders_data[\"DateTime_CartFinalize\"] = pd.to_datetime(orders_data[\"DateTime_CartFinalize\"])\n",
    "print(orders_data[\"DateTime_CartFinalize\"].dtype)\n",
    "\n",
    "orders_data[\"Quantity_item\"] = orders_data[\"Quantity_item\"].astype(int)\n",
    "print(orders_data[\"Quantity_item\"].dtype)\n"
   ]
  },
  {
   "cell_type": "code",
   "execution_count": 80,
   "id": "0cdf3945-bae2-41d9-817b-ad8462a53e3d",
   "metadata": {},
   "outputs": [
    {
     "data": {
      "text/html": [
       "<div>\n",
       "<style scoped>\n",
       "    .dataframe tbody tr th:only-of-type {\n",
       "        vertical-align: middle;\n",
       "    }\n",
       "\n",
       "    .dataframe tbody tr th {\n",
       "        vertical-align: top;\n",
       "    }\n",
       "\n",
       "    .dataframe thead th {\n",
       "        text-align: right;\n",
       "    }\n",
       "</style>\n",
       "<table border=\"1\" class=\"dataframe\">\n",
       "  <thead>\n",
       "    <tr style=\"text-align: right;\">\n",
       "      <th></th>\n",
       "      <th>id</th>\n",
       "      <th>product_variant_id</th>\n",
       "      <th>selling_price</th>\n",
       "      <th>rrp_price</th>\n",
       "      <th>base_price</th>\n",
       "      <th>buy_price</th>\n",
       "      <th>order_limit</th>\n",
       "      <th>start_at</th>\n",
       "      <th>end_at</th>\n",
       "      <th>tags</th>\n",
       "      <th>show_in_price_history</th>\n",
       "      <th>active</th>\n",
       "      <th>created_at</th>\n",
       "      <th>product_id</th>\n",
       "      <th>marketplace_seller_id</th>\n",
       "    </tr>\n",
       "  </thead>\n",
       "  <tbody>\n",
       "    <tr>\n",
       "      <th>0</th>\n",
       "      <td>18752043</td>\n",
       "      <td>1977385</td>\n",
       "      <td>850000</td>\n",
       "      <td>850000</td>\n",
       "      <td>\\N</td>\n",
       "      <td>\\N</td>\n",
       "      <td>1</td>\n",
       "      <td>\\N</td>\n",
       "      <td>\\N</td>\n",
       "      <td>\\N</td>\n",
       "      <td>1</td>\n",
       "      <td>1</td>\n",
       "      <td>2018-11-26 18:59:52</td>\n",
       "      <td>667969</td>\n",
       "      <td>2962</td>\n",
       "    </tr>\n",
       "    <tr>\n",
       "      <th>1</th>\n",
       "      <td>18752022</td>\n",
       "      <td>1977380</td>\n",
       "      <td>12550000</td>\n",
       "      <td>12550000</td>\n",
       "      <td>\\N</td>\n",
       "      <td>\\N</td>\n",
       "      <td>2</td>\n",
       "      <td>\\N</td>\n",
       "      <td>\\N</td>\n",
       "      <td>\\N</td>\n",
       "      <td>1</td>\n",
       "      <td>0</td>\n",
       "      <td>2018-11-26 18:59:31</td>\n",
       "      <td>150144</td>\n",
       "      <td>78525</td>\n",
       "    </tr>\n",
       "    <tr>\n",
       "      <th>2</th>\n",
       "      <td>18752046</td>\n",
       "      <td>1977380</td>\n",
       "      <td>12500000</td>\n",
       "      <td>12500000</td>\n",
       "      <td>\\N</td>\n",
       "      <td>\\N</td>\n",
       "      <td>2</td>\n",
       "      <td>\\N</td>\n",
       "      <td>\\N</td>\n",
       "      <td>\\N</td>\n",
       "      <td>1</td>\n",
       "      <td>1</td>\n",
       "      <td>2018-11-26 18:59:55</td>\n",
       "      <td>150144</td>\n",
       "      <td>78525</td>\n",
       "    </tr>\n",
       "    <tr>\n",
       "      <th>3</th>\n",
       "      <td>18751982</td>\n",
       "      <td>1977374</td>\n",
       "      <td>310000</td>\n",
       "      <td>310000</td>\n",
       "      <td>\\N</td>\n",
       "      <td>\\N</td>\n",
       "      <td>2</td>\n",
       "      <td>\\N</td>\n",
       "      <td>\\N</td>\n",
       "      <td>\\N</td>\n",
       "      <td>1</td>\n",
       "      <td>0</td>\n",
       "      <td>2018-11-26 18:58:48</td>\n",
       "      <td>908541</td>\n",
       "      <td>4199</td>\n",
       "    </tr>\n",
       "    <tr>\n",
       "      <th>4</th>\n",
       "      <td>18752018</td>\n",
       "      <td>1977374</td>\n",
       "      <td>300000</td>\n",
       "      <td>300000</td>\n",
       "      <td>\\N</td>\n",
       "      <td>\\N</td>\n",
       "      <td>2</td>\n",
       "      <td>\\N</td>\n",
       "      <td>\\N</td>\n",
       "      <td>\\N</td>\n",
       "      <td>1</td>\n",
       "      <td>1</td>\n",
       "      <td>2018-11-26 18:59:28</td>\n",
       "      <td>908541</td>\n",
       "      <td>4199</td>\n",
       "    </tr>\n",
       "  </tbody>\n",
       "</table>\n",
       "</div>"
      ],
      "text/plain": [
       "         id  product_variant_id  selling_price  rrp_price base_price  \\\n",
       "0  18752043             1977385         850000     850000         \\N   \n",
       "1  18752022             1977380       12550000   12550000         \\N   \n",
       "2  18752046             1977380       12500000   12500000         \\N   \n",
       "3  18751982             1977374         310000     310000         \\N   \n",
       "4  18752018             1977374         300000     300000         \\N   \n",
       "\n",
       "  buy_price  order_limit start_at end_at tags  show_in_price_history  active  \\\n",
       "0        \\N            1       \\N     \\N   \\N                      1       1   \n",
       "1        \\N            2       \\N     \\N   \\N                      1       0   \n",
       "2        \\N            2       \\N     \\N   \\N                      1       1   \n",
       "3        \\N            2       \\N     \\N   \\N                      1       0   \n",
       "4        \\N            2       \\N     \\N   \\N                      1       1   \n",
       "\n",
       "            created_at  product_id  marketplace_seller_id  \n",
       "0  2018-11-26 18:59:52      667969                   2962  \n",
       "1  2018-11-26 18:59:31      150144                  78525  \n",
       "2  2018-11-26 18:59:55      150144                  78525  \n",
       "3  2018-11-26 18:58:48      908541                   4199  \n",
       "4  2018-11-26 18:59:28      908541                   4199  "
      ]
     },
     "execution_count": 80,
     "metadata": {},
     "output_type": "execute_result"
    }
   ],
   "source": [
    "data_tarikhche_kharid = pd.read_csv(\"tarikhche_kharid.csv\")\n",
    "\n",
    "data_tarikhche_kharid.head()"
   ]
  },
  {
   "cell_type": "code",
   "execution_count": 3,
   "id": "9fb1e713-0e3c-4f59-91fc-c5da381fc477",
   "metadata": {},
   "outputs": [
    {
     "data": {
      "text/html": [
       "<div>\n",
       "<style scoped>\n",
       "    .dataframe tbody tr th:only-of-type {\n",
       "        vertical-align: middle;\n",
       "    }\n",
       "\n",
       "    .dataframe tbody tr th {\n",
       "        vertical-align: top;\n",
       "    }\n",
       "\n",
       "    .dataframe thead th {\n",
       "        text-align: right;\n",
       "    }\n",
       "</style>\n",
       "<table border=\"1\" class=\"dataframe\">\n",
       "  <thead>\n",
       "    <tr style=\"text-align: right;\">\n",
       "      <th></th>\n",
       "      <th>product_id</th>\n",
       "      <th>product_title</th>\n",
       "      <th>title_en</th>\n",
       "      <th>user_id</th>\n",
       "      <th>likes</th>\n",
       "      <th>dislikes</th>\n",
       "      <th>verification_status</th>\n",
       "      <th>recommend</th>\n",
       "      <th>title</th>\n",
       "      <th>comment</th>\n",
       "      <th>advantages</th>\n",
       "      <th>disadvantages</th>\n",
       "    </tr>\n",
       "  </thead>\n",
       "  <tbody>\n",
       "    <tr>\n",
       "      <th>0</th>\n",
       "      <td>3692</td>\n",
       "      <td>ماوس بی‌سیم لاجیتک مدل M325</td>\n",
       "      <td>IT</td>\n",
       "      <td>989472</td>\n",
       "      <td>0</td>\n",
       "      <td>0</td>\n",
       "      <td>verified</td>\n",
       "      <td>\\N</td>\n",
       "      <td>NaN</td>\n",
       "      <td>واقعا عالیه. من که ازش خیلی راضیم</td>\n",
       "      <td>NaN</td>\n",
       "      <td>NaN</td>\n",
       "    </tr>\n",
       "    <tr>\n",
       "      <th>1</th>\n",
       "      <td>90213</td>\n",
       "      <td>شارژر همراه شیاومی مدل NDY-02-AN با ظرفیت 1000...</td>\n",
       "      <td>AC</td>\n",
       "      <td>3862150</td>\n",
       "      <td>4</td>\n",
       "      <td>1</td>\n",
       "      <td>verified</td>\n",
       "      <td>recommended</td>\n",
       "      <td>واقعاً عالیه</td>\n",
       "      <td>سلام، قبل اینکه نظرم رو بگم میخواستم به یک موض...</td>\n",
       "      <td>[\"عمر طولانی\\r\",\"افت بسیار کم میزان شارژ\\r\",\"ا...</td>\n",
       "      <td>[\"ندارد\"]</td>\n",
       "    </tr>\n",
       "    <tr>\n",
       "      <th>2</th>\n",
       "      <td>59473</td>\n",
       "      <td>یدک پولیشر میکروفایبر مهسان مدل 20119</td>\n",
       "      <td>HW</td>\n",
       "      <td>626843</td>\n",
       "      <td>1</td>\n",
       "      <td>0</td>\n",
       "      <td>verified</td>\n",
       "      <td>not_recommended</td>\n",
       "      <td>خیلی سخت حوله اش در میاد</td>\n",
       "      <td>گیره های فلزی خیلی سخت تا میشوند و لذا حوله را...</td>\n",
       "      <td>NaN</td>\n",
       "      <td>NaN</td>\n",
       "    </tr>\n",
       "    <tr>\n",
       "      <th>3</th>\n",
       "      <td>120499</td>\n",
       "      <td>گوشی موبایل هوآوی آنر مدل 5X KIW-L21 دو سیم‌کارت</td>\n",
       "      <td>MO</td>\n",
       "      <td>786887</td>\n",
       "      <td>6</td>\n",
       "      <td>11</td>\n",
       "      <td>verified</td>\n",
       "      <td>no_idea</td>\n",
       "      <td>گوشی مقرون به صرفه</td>\n",
       "      <td>همه چیز در رابطه با ظاهر این گوشی بسیار خوب اس...</td>\n",
       "      <td>[\"صفحه نمایش پرنور و با کیفیت\\r\",\"کیفیت بالای ...</td>\n",
       "      <td>[\"کیفیت پایین اسپیکر\\r\",\"حاشیه خالی زیر صفحه ن...</td>\n",
       "    </tr>\n",
       "    <tr>\n",
       "      <th>4</th>\n",
       "      <td>67200</td>\n",
       "      <td>شارژر همراه شیائومی مدل Mi ظرفیت 5000 میلی آمپ...</td>\n",
       "      <td>AC</td>\n",
       "      <td>854531</td>\n",
       "      <td>19</td>\n",
       "      <td>4</td>\n",
       "      <td>verified</td>\n",
       "      <td>no_idea</td>\n",
       "      <td>ابعاد، استحکام و نگهداری شارژ مناسب</td>\n",
       "      <td>اگر ظرفیتش براتون کافیه حتما بخرید._x000D_\\nیه...</td>\n",
       "      <td>[\"ظریف و زیبا و باریک\\r\",\"بدنه محکم و با دوام\"]</td>\n",
       "      <td>[\"ظرفیت متوسط\"]</td>\n",
       "    </tr>\n",
       "  </tbody>\n",
       "</table>\n",
       "</div>"
      ],
      "text/plain": [
       "   product_id                                      product_title title_en  \\\n",
       "0        3692                        ماوس بی‌سیم لاجیتک مدل M325       IT   \n",
       "1       90213  شارژر همراه شیاومی مدل NDY-02-AN با ظرفیت 1000...       AC   \n",
       "2       59473              یدک پولیشر میکروفایبر مهسان مدل 20119       HW   \n",
       "3      120499   گوشی موبایل هوآوی آنر مدل 5X KIW-L21 دو سیم‌کارت       MO   \n",
       "4       67200  شارژر همراه شیائومی مدل Mi ظرفیت 5000 میلی آمپ...       AC   \n",
       "\n",
       "   user_id  likes  dislikes verification_status        recommend  \\\n",
       "0   989472      0         0            verified               \\N   \n",
       "1  3862150      4         1            verified      recommended   \n",
       "2   626843      1         0            verified  not_recommended   \n",
       "3   786887      6        11            verified          no_idea   \n",
       "4   854531     19         4            verified          no_idea   \n",
       "\n",
       "                                 title  \\\n",
       "0                                  NaN   \n",
       "1                         واقعاً عالیه   \n",
       "2             خیلی سخت حوله اش در میاد   \n",
       "3                   گوشی مقرون به صرفه   \n",
       "4  ابعاد، استحکام و نگهداری شارژ مناسب   \n",
       "\n",
       "                                             comment  \\\n",
       "0                  واقعا عالیه. من که ازش خیلی راضیم   \n",
       "1  سلام، قبل اینکه نظرم رو بگم میخواستم به یک موض...   \n",
       "2  گیره های فلزی خیلی سخت تا میشوند و لذا حوله را...   \n",
       "3  همه چیز در رابطه با ظاهر این گوشی بسیار خوب اس...   \n",
       "4  اگر ظرفیتش براتون کافیه حتما بخرید._x000D_\\nیه...   \n",
       "\n",
       "                                          advantages  \\\n",
       "0                                                NaN   \n",
       "1  [\"عمر طولانی\\r\",\"افت بسیار کم میزان شارژ\\r\",\"ا...   \n",
       "2                                                NaN   \n",
       "3  [\"صفحه نمایش پرنور و با کیفیت\\r\",\"کیفیت بالای ...   \n",
       "4    [\"ظریف و زیبا و باریک\\r\",\"بدنه محکم و با دوام\"]   \n",
       "\n",
       "                                       disadvantages  \n",
       "0                                                NaN  \n",
       "1                                          [\"ندارد\"]  \n",
       "2                                                NaN  \n",
       "3  [\"کیفیت پایین اسپیکر\\r\",\"حاشیه خالی زیر صفحه ن...  \n",
       "4                                    [\"ظرفیت متوسط\"]  "
      ]
     },
     "execution_count": 3,
     "metadata": {},
     "output_type": "execute_result"
    }
   ],
   "source": [
    "import pandas as pd\n",
    "data_keifiat = pd.read_excel(\"keifiat.xlsx\")\n",
    "data_keifiat.to_csv(\"keifiat.csv\", index=False)\n",
    "\n",
    "data_keifiat = pd.read_csv(\"keifiat.csv\")\n",
    "\n",
    "data_keifiat.head()"
   ]
  },
  {
   "cell_type": "code",
   "execution_count": null,
   "id": "500676f4-b4df-4538-a44e-22b2843f7bcb",
   "metadata": {},
   "outputs": [],
   "source": []
  }
 ],
 "metadata": {
  "kernelspec": {
   "display_name": "Python 3 (ipykernel)",
   "language": "python",
   "name": "python3"
  },
  "language_info": {
   "codemirror_mode": {
    "name": "ipython",
    "version": 3
   },
   "file_extension": ".py",
   "mimetype": "text/x-python",
   "name": "python",
   "nbconvert_exporter": "python",
   "pygments_lexer": "ipython3",
   "version": "3.12.4"
  }
 },
 "nbformat": 4,
 "nbformat_minor": 5
}
